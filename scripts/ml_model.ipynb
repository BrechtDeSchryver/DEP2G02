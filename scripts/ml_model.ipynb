{
 "cells": [
  {
   "cell_type": "code",
   "execution_count": 2,
   "metadata": {},
   "outputs": [],
   "source": [
    "import pandas as pd\n",
    "import numpy as np\n",
    "from sklearn.model_selection import train_test_split\n",
    "from sklearn.linear_model import LogisticRegression\n",
    "from sklearn.preprocessing import OrdinalEncoder\n",
    "from sklearn.metrics import accuracy_score\n",
    "from sklearn.preprocessing import MinMaxScaler\n",
    "from sqlfunctions import get_datapunten_voor_model\n"
   ]
  },
  {
   "cell_type": "markdown",
   "metadata": {},
   "source": [
    "## Notities\n",
    "Datapunten AI:\n",
    "- omzet\n",
    "- Beursgenoteerd of niet\n",
    "- sector (nacebel code)\n",
    "- aantal personeelsleden\n",
    "- hoofdsteden provincies"
   ]
  },
  {
   "cell_type": "code",
   "execution_count": 36,
   "metadata": {},
   "outputs": [
    {
     "data": {
      "text/html": [
       "<div>\n",
       "<style scoped>\n",
       "    .dataframe tbody tr th:only-of-type {\n",
       "        vertical-align: middle;\n",
       "    }\n",
       "\n",
       "    .dataframe tbody tr th {\n",
       "        vertical-align: top;\n",
       "    }\n",
       "\n",
       "    .dataframe thead th {\n",
       "        text-align: right;\n",
       "    }\n",
       "</style>\n",
       "<table border=\"1\" class=\"dataframe\">\n",
       "  <thead>\n",
       "    <tr style=\"text-align: right;\">\n",
       "      <th></th>\n",
       "      <th>ondernemingnr</th>\n",
       "      <th>omzet</th>\n",
       "      <th>beursgenoteerd</th>\n",
       "      <th>sector</th>\n",
       "      <th>personeelsleden</th>\n",
       "      <th>hoofdsteden_provincies</th>\n",
       "      <th>site_aanwezig</th>\n",
       "      <th>pdf_aanwezig</th>\n",
       "      <th>score</th>\n",
       "    </tr>\n",
       "  </thead>\n",
       "  <tbody>\n",
       "    <tr>\n",
       "      <th>0</th>\n",
       "      <td>0458458325</td>\n",
       "      <td>12299679.0</td>\n",
       "      <td>False</td>\n",
       "      <td>Rust- en verzorgingstehuizen (R.V.T.)</td>\n",
       "      <td>157.0</td>\n",
       "      <td>Roeselare</td>\n",
       "      <td>1</td>\n",
       "      <td>1</td>\n",
       "      <td>0.006043</td>\n",
       "    </tr>\n",
       "    <tr>\n",
       "      <th>1</th>\n",
       "      <td>0458458325</td>\n",
       "      <td>12299679.0</td>\n",
       "      <td>False</td>\n",
       "      <td>Rust- en verzorgingstehuizen (R.V.T.)</td>\n",
       "      <td>157.0</td>\n",
       "      <td>Roeselare</td>\n",
       "      <td>1</td>\n",
       "      <td>1</td>\n",
       "      <td>0.000000</td>\n",
       "    </tr>\n",
       "    <tr>\n",
       "      <th>2</th>\n",
       "      <td>0434023134</td>\n",
       "      <td>2545440.0</td>\n",
       "      <td>False</td>\n",
       "      <td>Detailhandel in auto's en lichte bestelwagens ...</td>\n",
       "      <td>11.0</td>\n",
       "      <td>Dendermonde</td>\n",
       "      <td>1</td>\n",
       "      <td>1</td>\n",
       "      <td>0.001740</td>\n",
       "    </tr>\n",
       "    <tr>\n",
       "      <th>3</th>\n",
       "      <td>0434023134</td>\n",
       "      <td>2545440.0</td>\n",
       "      <td>False</td>\n",
       "      <td>Detailhandel in auto's en lichte bestelwagens ...</td>\n",
       "      <td>11.0</td>\n",
       "      <td>Dendermonde</td>\n",
       "      <td>1</td>\n",
       "      <td>1</td>\n",
       "      <td>0.021024</td>\n",
       "    </tr>\n",
       "    <tr>\n",
       "      <th>4</th>\n",
       "      <td>0434023134</td>\n",
       "      <td>2545440.0</td>\n",
       "      <td>False</td>\n",
       "      <td>Detailhandel in auto's en lichte bestelwagens ...</td>\n",
       "      <td>11.0</td>\n",
       "      <td>Dendermonde</td>\n",
       "      <td>1</td>\n",
       "      <td>1</td>\n",
       "      <td>0.003433</td>\n",
       "    </tr>\n",
       "    <tr>\n",
       "      <th>...</th>\n",
       "      <td>...</td>\n",
       "      <td>...</td>\n",
       "      <td>...</td>\n",
       "      <td>...</td>\n",
       "      <td>...</td>\n",
       "      <td>...</td>\n",
       "      <td>...</td>\n",
       "      <td>...</td>\n",
       "      <td>...</td>\n",
       "    </tr>\n",
       "    <tr>\n",
       "      <th>63321</th>\n",
       "      <td>0479340544</td>\n",
       "      <td>0.0</td>\n",
       "      <td>False</td>\n",
       "      <td>Exploitatie van culturele centra en multifunct...</td>\n",
       "      <td>30.0</td>\n",
       "      <td>Antwerpen</td>\n",
       "      <td>1</td>\n",
       "      <td>1</td>\n",
       "      <td>0.000000</td>\n",
       "    </tr>\n",
       "    <tr>\n",
       "      <th>63322</th>\n",
       "      <td>0479340544</td>\n",
       "      <td>0.0</td>\n",
       "      <td>False</td>\n",
       "      <td>Exploitatie van culturele centra en multifunct...</td>\n",
       "      <td>30.0</td>\n",
       "      <td>Antwerpen</td>\n",
       "      <td>1</td>\n",
       "      <td>1</td>\n",
       "      <td>0.000000</td>\n",
       "    </tr>\n",
       "    <tr>\n",
       "      <th>63323</th>\n",
       "      <td>0402851787</td>\n",
       "      <td>0.0</td>\n",
       "      <td>False</td>\n",
       "      <td>Eetgelegenheden met beperkte bediening</td>\n",
       "      <td>175.0</td>\n",
       "      <td>Oudenaarde</td>\n",
       "      <td>1</td>\n",
       "      <td>1</td>\n",
       "      <td>0.000000</td>\n",
       "    </tr>\n",
       "    <tr>\n",
       "      <th>63324</th>\n",
       "      <td>0402851787</td>\n",
       "      <td>0.0</td>\n",
       "      <td>False</td>\n",
       "      <td>Eetgelegenheden met beperkte bediening</td>\n",
       "      <td>175.0</td>\n",
       "      <td>Oudenaarde</td>\n",
       "      <td>1</td>\n",
       "      <td>1</td>\n",
       "      <td>0.000000</td>\n",
       "    </tr>\n",
       "    <tr>\n",
       "      <th>63325</th>\n",
       "      <td>0402851787</td>\n",
       "      <td>0.0</td>\n",
       "      <td>False</td>\n",
       "      <td>Eetgelegenheden met beperkte bediening</td>\n",
       "      <td>175.0</td>\n",
       "      <td>Oudenaarde</td>\n",
       "      <td>1</td>\n",
       "      <td>1</td>\n",
       "      <td>0.000000</td>\n",
       "    </tr>\n",
       "  </tbody>\n",
       "</table>\n",
       "<p>63326 rows × 9 columns</p>\n",
       "</div>"
      ],
      "text/plain": [
       "      ondernemingnr       omzet  beursgenoteerd  \\\n",
       "0        0458458325  12299679.0           False   \n",
       "1        0458458325  12299679.0           False   \n",
       "2        0434023134   2545440.0           False   \n",
       "3        0434023134   2545440.0           False   \n",
       "4        0434023134   2545440.0           False   \n",
       "...             ...         ...             ...   \n",
       "63321    0479340544         0.0           False   \n",
       "63322    0479340544         0.0           False   \n",
       "63323    0402851787         0.0           False   \n",
       "63324    0402851787         0.0           False   \n",
       "63325    0402851787         0.0           False   \n",
       "\n",
       "                                                  sector  personeelsleden  \\\n",
       "0                  Rust- en verzorgingstehuizen (R.V.T.)            157.0   \n",
       "1                  Rust- en verzorgingstehuizen (R.V.T.)            157.0   \n",
       "2      Detailhandel in auto's en lichte bestelwagens ...             11.0   \n",
       "3      Detailhandel in auto's en lichte bestelwagens ...             11.0   \n",
       "4      Detailhandel in auto's en lichte bestelwagens ...             11.0   \n",
       "...                                                  ...              ...   \n",
       "63321  Exploitatie van culturele centra en multifunct...             30.0   \n",
       "63322  Exploitatie van culturele centra en multifunct...             30.0   \n",
       "63323             Eetgelegenheden met beperkte bediening            175.0   \n",
       "63324             Eetgelegenheden met beperkte bediening            175.0   \n",
       "63325             Eetgelegenheden met beperkte bediening            175.0   \n",
       "\n",
       "          hoofdsteden_provincies  site_aanwezig  pdf_aanwezig     score  \n",
       "0      Roeselare                              1             1  0.006043  \n",
       "1      Roeselare                              1             1  0.000000  \n",
       "2      Dendermonde                            1             1  0.001740  \n",
       "3      Dendermonde                            1             1  0.021024  \n",
       "4      Dendermonde                            1             1  0.003433  \n",
       "...                          ...            ...           ...       ...  \n",
       "63321  Antwerpen                              1             1  0.000000  \n",
       "63322  Antwerpen                              1             1  0.000000  \n",
       "63323  Oudenaarde                             1             1  0.000000  \n",
       "63324  Oudenaarde                             1             1  0.000000  \n",
       "63325  Oudenaarde                             1             1  0.000000  \n",
       "\n",
       "[63326 rows x 9 columns]"
      ]
     },
     "execution_count": 36,
     "metadata": {},
     "output_type": "execute_result"
    }
   ],
   "source": [
    "# TODO: \n",
    "# - transformation pipeline, \n",
    "data = get_datapunten_voor_model()\n",
    "dataframe = pd.DataFrame(data, columns=['ondernemingnr', 'omzet' ,'beursgenoteerd', 'sector', 'personeelsleden', 'hoofdsteden_provincies', 'site_aanwezig', 'pdf_aanwezig', 'score'])"
   ]
  },
  {
   "cell_type": "code",
   "execution_count": 39,
   "metadata": {},
   "outputs": [],
   "source": [
    "dataframe = dataframe.groupby('ondernemingnr').agg({'omzet': 'first', 'beursgenoteerd': 'first', 'sector': 'first', 'personeelsleden': 'first', 'hoofdsteden_provincies': 'first', 'site_aanwezig': 'first', 'pdf_aanwezig': 'first', 'score': 'sum'}).reset_index()\n",
    "dataframe.drop(\"ondernemingnr\", axis=1, inplace=True)"
   ]
  },
  {
   "cell_type": "code",
   "execution_count": 5,
   "metadata": {},
   "outputs": [
    {
     "name": "stdout",
     "output_type": "stream",
     "text": [
      "1    9017\n",
      "0    3985\n",
      "Name: site_aanwezig, dtype: int64\n",
      "1    12475\n",
      "0      527\n",
      "Name: pdf_aanwezig, dtype: int64\n"
     ]
    },
    {
     "data": {
      "text/plain": [
       "8490"
      ]
     },
     "execution_count": 5,
     "metadata": {},
     "output_type": "execute_result"
    }
   ],
   "source": [
    "print(dataframe[\"site_aanwezig\"].value_counts())\n",
    "print(dataframe[\"pdf_aanwezig\"].value_counts())\n",
    "\n",
    "# rows that both have a site and a pdf\n",
    "len(dataframe[(dataframe['site_aanwezig'] == 1) & (dataframe['pdf_aanwezig'] == 1)])"
   ]
  },
  {
   "cell_type": "code",
   "execution_count": 40,
   "metadata": {},
   "outputs": [
    {
     "name": "stdout",
     "output_type": "stream",
     "text": [
      "<class 'pandas.core.frame.DataFrame'>\n",
      "RangeIndex: 13002 entries, 0 to 13001\n",
      "Data columns (total 8 columns):\n",
      " #   Column                  Non-Null Count  Dtype  \n",
      "---  ------                  --------------  -----  \n",
      " 0   omzet                   13002 non-null  float64\n",
      " 1   beursgenoteerd          13002 non-null  bool   \n",
      " 2   sector                  13002 non-null  object \n",
      " 3   personeelsleden         13002 non-null  float64\n",
      " 4   hoofdsteden_provincies  13002 non-null  object \n",
      " 5   site_aanwezig           13002 non-null  int64  \n",
      " 6   pdf_aanwezig            13002 non-null  int64  \n",
      " 7   score                   13002 non-null  float64\n",
      "dtypes: bool(1), float64(3), int64(2), object(2)\n",
      "memory usage: 723.9+ KB\n"
     ]
    },
    {
     "data": {
      "text/html": [
       "<div>\n",
       "<style scoped>\n",
       "    .dataframe tbody tr th:only-of-type {\n",
       "        vertical-align: middle;\n",
       "    }\n",
       "\n",
       "    .dataframe tbody tr th {\n",
       "        vertical-align: top;\n",
       "    }\n",
       "\n",
       "    .dataframe thead th {\n",
       "        text-align: right;\n",
       "    }\n",
       "</style>\n",
       "<table border=\"1\" class=\"dataframe\">\n",
       "  <thead>\n",
       "    <tr style=\"text-align: right;\">\n",
       "      <th></th>\n",
       "      <th>omzet</th>\n",
       "      <th>personeelsleden</th>\n",
       "      <th>site_aanwezig</th>\n",
       "      <th>pdf_aanwezig</th>\n",
       "      <th>score</th>\n",
       "    </tr>\n",
       "  </thead>\n",
       "  <tbody>\n",
       "    <tr>\n",
       "      <th>count</th>\n",
       "      <td>1.300200e+04</td>\n",
       "      <td>13002.000000</td>\n",
       "      <td>13002.000000</td>\n",
       "      <td>13002.000000</td>\n",
       "      <td>13002.000000</td>\n",
       "    </tr>\n",
       "    <tr>\n",
       "      <th>mean</th>\n",
       "      <td>1.057262e+07</td>\n",
       "      <td>37.731426</td>\n",
       "      <td>0.693509</td>\n",
       "      <td>0.959468</td>\n",
       "      <td>0.015781</td>\n",
       "    </tr>\n",
       "    <tr>\n",
       "      <th>std</th>\n",
       "      <td>1.922597e+07</td>\n",
       "      <td>38.205757</td>\n",
       "      <td>0.461054</td>\n",
       "      <td>0.197211</td>\n",
       "      <td>0.036343</td>\n",
       "    </tr>\n",
       "    <tr>\n",
       "      <th>min</th>\n",
       "      <td>0.000000e+00</td>\n",
       "      <td>3.000000</td>\n",
       "      <td>0.000000</td>\n",
       "      <td>0.000000</td>\n",
       "      <td>0.000000</td>\n",
       "    </tr>\n",
       "    <tr>\n",
       "      <th>25%</th>\n",
       "      <td>1.321987e+06</td>\n",
       "      <td>15.000000</td>\n",
       "      <td>0.000000</td>\n",
       "      <td>1.000000</td>\n",
       "      <td>0.002953</td>\n",
       "    </tr>\n",
       "    <tr>\n",
       "      <th>50%</th>\n",
       "      <td>2.724050e+06</td>\n",
       "      <td>24.000000</td>\n",
       "      <td>1.000000</td>\n",
       "      <td>1.000000</td>\n",
       "      <td>0.006690</td>\n",
       "    </tr>\n",
       "    <tr>\n",
       "      <th>75%</th>\n",
       "      <td>1.296500e+07</td>\n",
       "      <td>43.000000</td>\n",
       "      <td>1.000000</td>\n",
       "      <td>1.000000</td>\n",
       "      <td>0.015106</td>\n",
       "    </tr>\n",
       "    <tr>\n",
       "      <th>max</th>\n",
       "      <td>6.038329e+08</td>\n",
       "      <td>345.000000</td>\n",
       "      <td>1.000000</td>\n",
       "      <td>1.000000</td>\n",
       "      <td>0.631949</td>\n",
       "    </tr>\n",
       "  </tbody>\n",
       "</table>\n",
       "</div>"
      ],
      "text/plain": [
       "              omzet  personeelsleden  site_aanwezig  pdf_aanwezig  \\\n",
       "count  1.300200e+04     13002.000000   13002.000000  13002.000000   \n",
       "mean   1.057262e+07        37.731426       0.693509      0.959468   \n",
       "std    1.922597e+07        38.205757       0.461054      0.197211   \n",
       "min    0.000000e+00         3.000000       0.000000      0.000000   \n",
       "25%    1.321987e+06        15.000000       0.000000      1.000000   \n",
       "50%    2.724050e+06        24.000000       1.000000      1.000000   \n",
       "75%    1.296500e+07        43.000000       1.000000      1.000000   \n",
       "max    6.038329e+08       345.000000       1.000000      1.000000   \n",
       "\n",
       "              score  \n",
       "count  13002.000000  \n",
       "mean       0.015781  \n",
       "std        0.036343  \n",
       "min        0.000000  \n",
       "25%        0.002953  \n",
       "50%        0.006690  \n",
       "75%        0.015106  \n",
       "max        0.631949  "
      ]
     },
     "execution_count": 40,
     "metadata": {},
     "output_type": "execute_result"
    }
   ],
   "source": [
    "dataframe.info()\n",
    "dataframe.describe()"
   ]
  },
  {
   "cell_type": "code",
   "execution_count": 38,
   "metadata": {},
   "outputs": [
    {
     "data": {
      "text/plain": [
       "ondernemingnr             0406457615\n",
       "omzet                        0.00438\n",
       "beursgenoteerd                 False\n",
       "sector                           375\n",
       "personeelsleden             0.017544\n",
       "hoofdsteden_provincies            16\n",
       "site_aanwezig                      0\n",
       "pdf_aanwezig                       1\n",
       "Name: 1078, dtype: object"
      ]
     },
     "execution_count": 38,
     "metadata": {},
     "output_type": "execute_result"
    }
   ],
   "source": [
    "# Data Transformation Pipeline\n",
    "from sklearn.pipeline import Pipeline\n",
    "# Data die ik ga krijgen van API= [123412 (int, omzet), 300 (int, personeel), 9800 (int, postcode)!gebruik ik niet, nacbelcode (int, sector), 1 (boolean, jaarrekening), 1 (boolean, pdf),0 (boolean, beursgenoteerd)]\n",
    "# first row of X_test\n",
    "def transform_data(data):\n",
    "    data[\"sector\"] = data[\"sector\"].astype('category')\n",
    "    ordinal_encoder = OrdinalEncoder()\n",
    "    data[\"sector\"] = ordinal_encoder.fit_transform(data[[\"sector\"]])\n",
    "    data[\"beursgenoteerd\"] = data[\"beursgenoteerd\"].astype('category')\n",
    "    data[\"pdf_aanwezig\"] = data[\"pdf_aanwezig\"].astype('category')\n",
    "    data[\"site_aanwezig\"] = data[\"site_aanwezig\"].astype('category')\n",
    "    min_max_scaler = MinMaxScaler()\n",
    "    data[\"omzet\"] = min_max_scaler.fit_transform(data[[\"omzet\"]])\n",
    "    data[\"personeelsleden\"] = min_max_scaler.fit_transform(data[[\"personeelsleden\"]])\n",
    "    \n",
    "    \n",
    "    \n",
    "    \n",
    "    # Pipeline([\n",
    "    #     ('ordinal_encoder', OrdinalEncoder()),\n",
    "\n",
    "Pipeline([\n",
    "\n",
    "\n"
   ]
  },
  {
   "cell_type": "code",
   "execution_count": 41,
   "metadata": {},
   "outputs": [
    {
     "data": {
      "text/plain": [
       "Goederenvervoer over de weg, m.u.v. verhuisbedrijven                             522\n",
       "Detailhandel in auto's en lichte bestelwagens (kleiner of gelijk aan 3,5 ton)    342\n",
       "Ontwerpen en programmeren van computerprogramma's                                288\n",
       "Algemene bouw van residentiële gebouwen                                          257\n",
       "Schrijnwerk                                                                      234\n",
       "                                                                                ... \n",
       "Schilderen van civieltechnische werken                                             1\n",
       "Vervaardiging van keramische tegels en plavuizen                                   1\n",
       "Schoonheidsverzorging                                                              1\n",
       "Vervaardiging van kantoorbenodigdheden van papier                                  1\n",
       "Groothandel in levende dieren, m.u.v. levend vee                                   1\n",
       "Name: sector, Length: 743, dtype: int64"
      ]
     },
     "execution_count": 41,
     "metadata": {},
     "output_type": "execute_result"
    }
   ],
   "source": [
    "# categorize sector\n",
    "dataframe[\"sector\"] = dataframe[\"sector\"].astype('category')\n",
    "# get amount of different sectors\n",
    "sectors = dataframe[\"sector\"].cat.categories\n",
    "# how are the sectors distributed ?\n",
    "dataframe[\"sector\"].value_counts()"
   ]
  },
  {
   "cell_type": "code",
   "execution_count": 42,
   "metadata": {},
   "outputs": [],
   "source": [
    "# Data preprocessing\n",
    "\n",
    "\n",
    "# encode sector\n",
    "ordinal_encoder = OrdinalEncoder()\n",
    "dataframe[\"sector\"] = ordinal_encoder.fit_transform(dataframe[[\"sector\"]])\n",
    "dataframe[\"sector\"] = dataframe[\"sector\"].astype(int)\n",
    "\n",
    "# encode hoofdsteden_provincies\n",
    "dataframe[\"hoofdsteden_provincies\"] = dataframe[\"hoofdsteden_provincies\"].astype('category')\n",
    "ordinal_encoder = OrdinalEncoder()\n",
    "dataframe[\"hoofdsteden_provincies\"] = ordinal_encoder.fit_transform(dataframe[[\"hoofdsteden_provincies\"]])\n",
    "# dataframe[\"hoofdsteden_provincies\"] = dataframe[\"hoofdsteden_provincies\"].astype(int)\n",
    "\n",
    "\n",
    "dataframe[\"beursgenoteerd\"] = dataframe[\"beursgenoteerd\"].astype('category')\n",
    "dataframe[\"site_aanwezig\"] = dataframe[\"site_aanwezig\"].astype('category')\n",
    "dataframe[\"pdf_aanwezig\"] = dataframe[\"pdf_aanwezig\"].astype('category')\n",
    "\n",
    "# Min Max scaling the omzet and personeelsleden\n",
    "dataframe[\"omzet\"] = MinMaxScaler().fit_transform(dataframe[[\"omzet\"]])\n",
    "dataframe[\"personeelsleden\"] = MinMaxScaler().fit_transform(dataframe[[\"personeelsleden\"]])\n",
    "dataframe[\"personeelsleden\"] = dataframe[\"personeelsleden\"].astype(float)\n"
   ]
  },
  {
   "cell_type": "code",
   "execution_count": 43,
   "metadata": {},
   "outputs": [
    {
     "data": {
      "text/plain": [
       "<matplotlib.legend.Legend at 0x2594922a440>"
      ]
     },
     "execution_count": 43,
     "metadata": {},
     "output_type": "execute_result"
    },
    {
     "data": {
      "image/png": "[encoded data removed]",
      "text/plain": [
       "<Figure size 432x288 with 1 Axes>"
      ]
     },
     "metadata": {
      "needs_background": "light"
     },
     "output_type": "display_data"
    }
   ],
   "source": [
    "# Visualize data\n",
    "# plot histogram\n",
    "from matplotlib import pyplot as plt\n",
    "\n",
    "dataframe[\"personeelsleden\"].hist(label=\"personeelsleden\", alpha=0.5)\n",
    "dataframe[\"omzet\"].hist(label=\"omzet\", alpha=0.5)\n",
    "dataframe[\"score\"].hist(label=\"score\", alpha=0.5)\n",
    "plt.legend()\n"
   ]
  },
  {
   "cell_type": "code",
   "execution_count": 18,
   "metadata": {},
   "outputs": [
    {
     "data": {
      "image/png": "[encoded data removed]",
      "text/plain": [
       "<Figure size 864x576 with 9 Axes>"
      ]
     },
     "metadata": {
      "needs_background": "light"
     },
     "output_type": "display_data"
    },
    {
     "name": "stdout",
     "output_type": "stream",
     "text": [
      "                           omzet    sector  personeelsleden  \\\n",
      "omzet                   1.000000  0.027021         0.366386   \n",
      "sector                  0.027021  1.000000         0.068331   \n",
      "personeelsleden         0.366386  0.068331         1.000000   \n",
      "hoofdsteden_provincies -0.018317  0.038144        -0.012840   \n",
      "score                   0.095374  0.037845         0.089986   \n",
      "\n",
      "                        hoofdsteden_provincies     score  \n",
      "omzet                                -0.018317  0.095374  \n",
      "sector                                0.038144  0.037845  \n",
      "personeelsleden                      -0.012840  0.089986  \n",
      "hoofdsteden_provincies                1.000000 -0.038067  \n",
      "score                                -0.038067  1.000000  \n"
     ]
    }
   ],
   "source": [
    "# plot correlation matrix\n",
    "import matplotlib.pyplot as plt\n",
    "import seaborn as sns\n",
    "corr = dataframe.corr()\n",
    "corr[\"score\"].sort_values(ascending=False)\n",
    "from pandas.plotting import scatter_matrix\n",
    "attributes = [\"score\", \"omzet\", \"personeelsleden\", \"beursgenoteerd\"]\n",
    "scatter_matrix(dataframe[attributes], figsize=(12, 8))\n",
    "plt.show()\n",
    "\n",
    "\n",
    "print(corr)\n",
    "\n"
   ]
  },
  {
   "cell_type": "code",
   "execution_count": 11,
   "metadata": {},
   "outputs": [
    {
     "name": "stdout",
     "output_type": "stream",
     "text": [
      "<class 'pandas.core.frame.DataFrame'>\n",
      "Index: 13002 entries, 0200065765 to 0899993714\n",
      "Data columns (total 8 columns):\n",
      " #   Column                  Non-Null Count  Dtype   \n",
      "---  ------                  --------------  -----   \n",
      " 0   omzet                   13002 non-null  float64 \n",
      " 1   beursgenoteerd          13002 non-null  category\n",
      " 2   sector                  13002 non-null  int32   \n",
      " 3   personeelsleden         13002 non-null  int32   \n",
      " 4   hoofdsteden_provincies  13002 non-null  int32   \n",
      " 5   site_aanwezig           13002 non-null  category\n",
      " 6   pdf_aanwezig            13002 non-null  category\n",
      " 7   score                   13002 non-null  float64 \n",
      "dtypes: category(3), float64(2), int32(3)\n",
      "memory usage: 495.6+ KB\n"
     ]
    }
   ],
   "source": [
    "dataframe.info()"
   ]
  },
  {
   "cell_type": "markdown",
   "metadata": {},
   "source": [
    "![white box ml modellen](https://drek4537l1klr.cloudfront.net/thampi/HighResolutionFigures/figure_2-2.png)\n"
   ]
  },
  {
   "cell_type": "code",
   "execution_count": 44,
   "metadata": {},
   "outputs": [
    {
     "name": "stdout",
     "output_type": "stream",
     "text": [
      "<class 'pandas.core.frame.DataFrame'>\n",
      "Int64Index: 11701 entries, 9543 to 7270\n",
      "Data columns (total 7 columns):\n",
      " #   Column                  Non-Null Count  Dtype   \n",
      "---  ------                  --------------  -----   \n",
      " 0   omzet                   11701 non-null  float64 \n",
      " 1   beursgenoteerd          11701 non-null  category\n",
      " 2   sector                  11701 non-null  int32   \n",
      " 3   personeelsleden         11701 non-null  float64 \n",
      " 4   hoofdsteden_provincies  11701 non-null  int32   \n",
      " 5   site_aanwezig           11701 non-null  category\n",
      " 6   pdf_aanwezig            11701 non-null  category\n",
      "dtypes: category(3), float64(2), int32(2)\n",
      "memory usage: 400.3 KB\n",
      "<class 'pandas.core.series.Series'>\n",
      "Int64Index: 1301 entries, 1078 to 4003\n",
      "Series name: score\n",
      "Non-Null Count  Dtype  \n",
      "--------------  -----  \n",
      "1301 non-null   float64\n",
      "dtypes: float64(1)\n",
      "memory usage: 20.3 KB\n"
     ]
    }
   ],
   "source": [
    "# Model schrijven\n",
    "# ! Kan pas gerund worden vanaf we alle data hebben\n",
    "X = dataframe.drop(columns=[\"score\"])\n",
    "y = dataframe[\"score\"]\n",
    "\n",
    "# Split data into train and test set\n",
    "X_train, X_test, y_train, y_test = train_test_split(X, y, test_size=0.1, random_state=42)\n",
    "\n",
    "\n",
    "# y_train.info()\n",
    "X_train.info()\n",
    "y_test.info()"
   ]
  },
  {
   "cell_type": "code",
   "execution_count": 46,
   "metadata": {},
   "outputs": [
    {
     "name": "stdout",
     "output_type": "stream",
     "text": [
      "------------- Linear Regression --------------\n",
      "Best parameters: {'copy_X': True, 'fit_intercept': True, 'normalize': False}\n",
      "Best score: -0.0012607859143972384\n",
      "MSE: 0.0011208390429879001\n"
     ]
    }
   ],
   "source": [
    "from sklearn.metrics import mean_squared_error\n",
    "from sklearn import linear_model\n",
    "from sklearn import svm\n",
    "from sklearn.model_selection import GridSearchCV\n",
    "\n",
    "import warnings\n",
    "warnings.filterwarnings(\"ignore\", category=FutureWarning)\n",
    "\n",
    "# TODO:\n",
    "# - find out what score would be if we always predict the mean and predict 0 + compare with the scores of the models\n",
    "\n",
    "# Linear Regression\n",
    "from sklearn.linear_model import LinearRegression\n",
    "print(\"------------- Linear Regression --------------\")\n",
    "lin_reg = LinearRegression()\n",
    "parameters = {'fit_intercept': [True, False], 'normalize': [True, False], 'copy_X': [True, False]}\n",
    "lin_reg = GridSearchCV(lin_reg, parameters, scoring=\"neg_mean_squared_error\", cv=5)\n",
    "lin_reg.fit(X_train, y_train)\n",
    "y_pred_lin_reg = lin_reg.predict(X_test)\n",
    "print(f\"Best parameters: {lin_reg.best_params_}\")\n",
    "print(f\"Best score: {lin_reg.best_score_}\")\n",
    "print(f\"MSE: {mean_squared_error(y_test, y_pred_lin_reg)}\")"
   ]
  },
  {
   "cell_type": "code",
   "execution_count": 15,
   "metadata": {},
   "outputs": [
    {
     "name": "stdout",
     "output_type": "stream",
     "text": [
      "------------- SVR --------------\n",
      "Best parameters: {'C': 20, 'epsilon': 0.01}\n",
      "Best score: -0.0013316376790261692\n",
      "MSE: 0.0011853654980451744\n",
      "------------- BayesianRidge --------------\n",
      "Best parameters: {'alpha_1': 100, 'alpha_2': 100, 'lambda_1': 100, 'lambda_2': 1}\n",
      "Best score: -0.0012607776253656957\n",
      "MSE: 0.0011217683621567954\n"
     ]
    }
   ],
   "source": [
    "\n",
    "\n",
    "# SVR (Support Vector Regression)\n",
    "from sklearn.svm import SVR\n",
    "print(\"------------- SVR --------------\")\n",
    "svr_regressor = SVR(kernel='rbf', gamma=\"scale\")\n",
    "parameters = {'C': [1, 10, 20], 'epsilon': [0.1, 0.01, 0.001, 0.0001]}\n",
    "svr_regressor = GridSearchCV(svr_regressor, parameters, scoring=\"neg_mean_squared_error\", cv=5)\n",
    "svr_regressor.fit(X_train, y_train)\n",
    "y_pred_svr = svr_regressor.predict(X_test)\n",
    "print(f\"Best parameters: {svr_regressor.best_params_}\")\n",
    "print(f\"Best score: {svr_regressor.best_score_}\")\n",
    "print(f\"MSE: {mean_squared_error(y_test, y_pred_svr)}\")\n",
    "\n",
    "\n",
    "\n",
    "# BayesianRidge\n",
    "from sklearn.linear_model import BayesianRidge\n",
    "print(\"------------- BayesianRidge --------------\")\n",
    "bayesian_regressor = BayesianRidge()\n",
    "parameters = {'alpha_1': [1e-06, 1e-05, 1e-04,  1, 10, 100], 'alpha_2': [1e-06, 1e-05, 1e-04,  1, 10, 100], 'lambda_1': [1e-06, 1e-05, 1e-04,  1, 10, 100], 'lambda_2': [1e-06, 1e-05, 1e-04,  1, 10, 100]}\n",
    "bayesian_regressor = GridSearchCV(bayesian_regressor, parameters, scoring=\"neg_mean_squared_error\", cv=5)\n",
    "bayesian_regressor.fit(X_train, y_train)\n",
    "y_pred_bay = bayesian_regressor.predict(X_test)\n",
    "print(f\"Best parameters: {bayesian_regressor.best_params_}\")\n",
    "print(f\"Best score: {bayesian_regressor.best_score_}\")\n",
    "print(f\"MSE: {mean_squared_error(y_test, y_pred_bay)}\")\n",
    "\n"
   ]
  },
  {
   "cell_type": "code",
   "execution_count": 37,
   "metadata": {},
   "outputs": [
    {
     "name": "stdout",
     "output_type": "stream",
     "text": [
      "------------- LassoLars --------------\n",
      "Best parameters: {'alpha': 0.1}\n",
      "Best score: -0.0013371472040231932\n",
      "MSE: 0.001181205935012302\n"
     ]
    }
   ],
   "source": [
    "\n",
    "# LassoLars\n",
    "from sklearn.linear_model import LassoLars\n",
    "print(\"------------- LassoLars --------------\")\n",
    "lassolars_regressor = LassoLars()\n",
    "parameters = {'alpha': [0.1, 0.5, 1, 5, 10, 50, 100, 500, 1000]}\n",
    "lassolars_regressor = GridSearchCV(lassolars_regressor, parameters, scoring=\"neg_mean_squared_error\", cv=5)\n",
    "lassolars_regressor.fit(X_train, y_train)\n",
    "y_pred_lassolars = lassolars_regressor.predict(X_test)\n",
    "print(f\"Best parameters: {lassolars_regressor.best_params_}\")\n",
    "print(f\"Best score: {lassolars_regressor.best_score_}\")\n",
    "print(f\"MSE: {mean_squared_error(y_test, y_pred_lassolars)}\")\n",
    "\n",
    "\n",
    "\n"
   ]
  },
  {
   "cell_type": "code",
   "execution_count": 38,
   "metadata": {},
   "outputs": [
    {
     "name": "stdout",
     "output_type": "stream",
     "text": [
      "------------- ARDRegression --------------\n",
      "Best parameters: {'alpha_1': 0.0001, 'alpha_2': 10, 'lambda_1': 100, 'lambda_2': 1}\n",
      "Best score: -0.0012607659225271916\n",
      "MSE: 0.0011208284552682176\n"
     ]
    }
   ],
   "source": [
    "# ARDRegression\n",
    "from sklearn.linear_model import ARDRegression\n",
    "print(\"------------- ARDRegression --------------\")\n",
    "ard_regressor = ARDRegression()\n",
    "parameters = {'alpha_1': [1e-06, 1e-05, 1e-04,  1, 10, 100], 'alpha_2': [1e-06, 1e-05, 1e-04,  1, 10, 100], 'lambda_1': [1e-06, 1e-05, 1e-04,  1, 10, 100], 'lambda_2': [1e-06, 1e-05, 1e-04,  1, 10, 100]}\n",
    "ard_regressor = GridSearchCV(ard_regressor, parameters, scoring=\"neg_mean_squared_error\", cv=5)\n",
    "ard_regressor.fit(X_train, y_train)\n",
    "y_pred_ard = ard_regressor.predict(X_test)\n",
    "print(f\"Best parameters: {ard_regressor.best_params_}\")\n",
    "print(f\"Best score: {ard_regressor.best_score_}\")\n",
    "print(f\"MSE: {mean_squared_error(y_test, y_pred_ard)}\")\n"
   ]
  },
  {
   "cell_type": "code",
   "execution_count": 18,
   "metadata": {},
   "outputs": [
    {
     "name": "stdout",
     "output_type": "stream",
     "text": [
      "------------- PassiveAggressiveRegressor --------------\n",
      "Best parameters: {'C': 0.1, 'epsilon': 1}\n",
      "Best score: -0.0015840646966771455\n",
      "MSE: 0.0014411840660125688\n"
     ]
    }
   ],
   "source": [
    "\n",
    "# PassiveAggressiveRegressor\n",
    "from sklearn.linear_model import PassiveAggressiveRegressor\n",
    "print(\"------------- PassiveAggressiveRegressor --------------\")\n",
    "passive_regressor = PassiveAggressiveRegressor()\n",
    "parameters = {'C': [0.1, 0.5, 1, 5, 10, 50, 100, 500, 1000], 'epsilon': [0.1, 0.5, 1, 5, 10, 50, 100, 500, 1000]}\n",
    "passive_regressor = GridSearchCV(passive_regressor, parameters, scoring=\"neg_mean_squared_error\", cv=5)\n",
    "passive_regressor.fit(X_train, y_train)\n",
    "y_pred_pas = passive_regressor.predict(X_test)\n",
    "print(f\"Best parameters: {passive_regressor.best_params_}\")\n",
    "print(f\"Best score: {passive_regressor.best_score_}\")\n",
    "print(f\"MSE: {mean_squared_error(y_test, y_pred_pas)}\")\n"
   ]
  },
  {
   "cell_type": "code",
   "execution_count": 10,
   "metadata": {},
   "outputs": [
    {
     "name": "stdout",
     "output_type": "stream",
     "text": [
      "------------- TheilSenRegressor --------------\n",
      "Best parameters: {'max_subpopulation': 5000}\n",
      "Best score: -0.001291693628427663\n",
      "MSE: 0.0011642760387083032\n"
     ]
    }
   ],
   "source": [
    "\n",
    "# TheilSenRegressor\n",
    "from sklearn.linear_model import TheilSenRegressor\n",
    "print(\"------------- TheilSenRegressor --------------\")\n",
    "theil_regressor = TheilSenRegressor()\n",
    "parameters = {'max_subpopulation': [100, 500, 1000, 5000]}\n",
    "theil_regressor = GridSearchCV(theil_regressor, parameters, scoring=\"neg_mean_squared_error\", cv=5)\n",
    "theil_regressor.fit(X_train, y_train)\n",
    "y_pred_seil = theil_regressor.predict(X_test)\n",
    "print(f\"Best parameters: {theil_regressor.best_params_}\")\n",
    "print(f\"Best score: {theil_regressor.best_score_}\")\n",
    "print(f\"MSE: {mean_squared_error(y_test, y_pred_seil)}\")\n",
    "\n"
   ]
  },
  {
   "cell_type": "code",
   "execution_count": 12,
   "metadata": {},
   "outputs": [
    {
     "name": "stdout",
     "output_type": "stream",
     "text": [
      "------------- RANSACRegressor --------------\n",
      "Best parameters: {'max_trials': 100, 'min_samples': 1000}\n",
      "Best score: -0.0012766729208790392\n",
      "MSE: 0.0011168174031129365\n"
     ]
    }
   ],
   "source": [
    "# RANSACRegressor\n",
    "from sklearn.linear_model import RANSACRegressor\n",
    "print(\"------------- RANSACRegressor --------------\")\n",
    "ransac_regressor = RANSACRegressor()\n",
    "parameters = {'min_samples': [1, 5, 10, 50, 100, 500, 1000], 'max_trials': [100, 500, 1000, 5000]}\n",
    "ransac_regressor = GridSearchCV(ransac_regressor, parameters, scoring=\"neg_mean_squared_error\", cv=5)\n",
    "ransac_regressor.fit(X_train, y_train)\n",
    "y_pred_ransac = ransac_regressor.predict(X_test)\n",
    "print(f\"Best parameters: {ransac_regressor.best_params_}\")\n",
    "print(f\"Best score: {ransac_regressor.best_score_}\")\n",
    "print(f\"MSE: {mean_squared_error(y_test, y_pred_ransac)}\")"
   ]
  },
  {
   "cell_type": "code",
   "execution_count": 13,
   "metadata": {},
   "outputs": [
    {
     "name": "stdout",
     "output_type": "stream",
     "text": [
      "------------- Ridge regression --------------\n"
     ]
    },
    {
     "name": "stderr",
     "output_type": "stream",
     "text": [
      "c:\\Users\\jarno\\AppData\\Local\\Programs\\Python\\Python310\\lib\\site-packages\\sklearn\\linear_model\\_ridge.py:212: LinAlgWarning: Ill-conditioned matrix (rcond=3.28566e-18): result may not be accurate.\n",
      "  return linalg.solve(A, Xy, assume_a=\"pos\", overwrite_a=True).T\n",
      "c:\\Users\\jarno\\AppData\\Local\\Programs\\Python\\Python310\\lib\\site-packages\\sklearn\\linear_model\\_ridge.py:212: LinAlgWarning: Ill-conditioned matrix (rcond=3.60516e-18): result may not be accurate.\n",
      "  return linalg.solve(A, Xy, assume_a=\"pos\", overwrite_a=True).T\n",
      "c:\\Users\\jarno\\AppData\\Local\\Programs\\Python\\Python310\\lib\\site-packages\\sklearn\\linear_model\\_ridge.py:212: LinAlgWarning: Ill-conditioned matrix (rcond=3.00991e-18): result may not be accurate.\n",
      "  return linalg.solve(A, Xy, assume_a=\"pos\", overwrite_a=True).T\n",
      "c:\\Users\\jarno\\AppData\\Local\\Programs\\Python\\Python310\\lib\\site-packages\\sklearn\\linear_model\\_ridge.py:212: LinAlgWarning: Ill-conditioned matrix (rcond=3.49635e-18): result may not be accurate.\n",
      "  return linalg.solve(A, Xy, assume_a=\"pos\", overwrite_a=True).T\n",
      "c:\\Users\\jarno\\AppData\\Local\\Programs\\Python\\Python310\\lib\\site-packages\\sklearn\\linear_model\\_ridge.py:212: LinAlgWarning: Ill-conditioned matrix (rcond=2.85064e-18): result may not be accurate.\n",
      "  return linalg.solve(A, Xy, assume_a=\"pos\", overwrite_a=True).T\n",
      "c:\\Users\\jarno\\AppData\\Local\\Programs\\Python\\Python310\\lib\\site-packages\\sklearn\\linear_model\\_ridge.py:212: LinAlgWarning: Ill-conditioned matrix (rcond=3.40427e-18): result may not be accurate.\n",
      "  return linalg.solve(A, Xy, assume_a=\"pos\", overwrite_a=True).T\n",
      "c:\\Users\\jarno\\AppData\\Local\\Programs\\Python\\Python310\\lib\\site-packages\\sklearn\\linear_model\\_ridge.py:212: LinAlgWarning: Ill-conditioned matrix (rcond=3.72458e-18): result may not be accurate.\n",
      "  return linalg.solve(A, Xy, assume_a=\"pos\", overwrite_a=True).T\n",
      "c:\\Users\\jarno\\AppData\\Local\\Programs\\Python\\Python310\\lib\\site-packages\\sklearn\\linear_model\\_ridge.py:212: LinAlgWarning: Ill-conditioned matrix (rcond=3.11858e-18): result may not be accurate.\n",
      "  return linalg.solve(A, Xy, assume_a=\"pos\", overwrite_a=True).T\n",
      "c:\\Users\\jarno\\AppData\\Local\\Programs\\Python\\Python310\\lib\\site-packages\\sklearn\\linear_model\\_ridge.py:212: LinAlgWarning: Ill-conditioned matrix (rcond=3.61217e-18): result may not be accurate.\n",
      "  return linalg.solve(A, Xy, assume_a=\"pos\", overwrite_a=True).T\n",
      "c:\\Users\\jarno\\AppData\\Local\\Programs\\Python\\Python310\\lib\\site-packages\\sklearn\\linear_model\\_ridge.py:212: LinAlgWarning: Ill-conditioned matrix (rcond=2.96373e-18): result may not be accurate.\n",
      "  return linalg.solve(A, Xy, assume_a=\"pos\", overwrite_a=True).T\n",
      "c:\\Users\\jarno\\AppData\\Local\\Programs\\Python\\Python310\\lib\\site-packages\\sklearn\\linear_model\\_ridge.py:212: LinAlgWarning: Ill-conditioned matrix (rcond=3.55252e-18): result may not be accurate.\n",
      "  return linalg.solve(A, Xy, assume_a=\"pos\", overwrite_a=True).T\n",
      "c:\\Users\\jarno\\AppData\\Local\\Programs\\Python\\Python310\\lib\\site-packages\\sklearn\\linear_model\\_ridge.py:212: LinAlgWarning: Ill-conditioned matrix (rcond=3.87386e-18): result may not be accurate.\n",
      "  return linalg.solve(A, Xy, assume_a=\"pos\", overwrite_a=True).T\n",
      "c:\\Users\\jarno\\AppData\\Local\\Programs\\Python\\Python310\\lib\\site-packages\\sklearn\\linear_model\\_ridge.py:212: LinAlgWarning: Ill-conditioned matrix (rcond=3.25441e-18): result may not be accurate.\n",
      "  return linalg.solve(A, Xy, assume_a=\"pos\", overwrite_a=True).T\n",
      "c:\\Users\\jarno\\AppData\\Local\\Programs\\Python\\Python310\\lib\\site-packages\\sklearn\\linear_model\\_ridge.py:212: LinAlgWarning: Ill-conditioned matrix (rcond=3.75695e-18): result may not be accurate.\n",
      "  return linalg.solve(A, Xy, assume_a=\"pos\", overwrite_a=True).T\n",
      "c:\\Users\\jarno\\AppData\\Local\\Programs\\Python\\Python310\\lib\\site-packages\\sklearn\\linear_model\\_ridge.py:212: LinAlgWarning: Ill-conditioned matrix (rcond=3.1051e-18): result may not be accurate.\n",
      "  return linalg.solve(A, Xy, assume_a=\"pos\", overwrite_a=True).T\n",
      "c:\\Users\\jarno\\AppData\\Local\\Programs\\Python\\Python310\\lib\\site-packages\\sklearn\\linear_model\\_ridge.py:212: LinAlgWarning: Ill-conditioned matrix (rcond=4.73859e-18): result may not be accurate.\n",
      "  return linalg.solve(A, Xy, assume_a=\"pos\", overwrite_a=True).T\n",
      "c:\\Users\\jarno\\AppData\\Local\\Programs\\Python\\Python310\\lib\\site-packages\\sklearn\\linear_model\\_ridge.py:212: LinAlgWarning: Ill-conditioned matrix (rcond=5.06809e-18): result may not be accurate.\n",
      "  return linalg.solve(A, Xy, assume_a=\"pos\", overwrite_a=True).T\n",
      "c:\\Users\\jarno\\AppData\\Local\\Programs\\Python\\Python310\\lib\\site-packages\\sklearn\\linear_model\\_ridge.py:212: LinAlgWarning: Ill-conditioned matrix (rcond=4.34108e-18): result may not be accurate.\n",
      "  return linalg.solve(A, Xy, assume_a=\"pos\", overwrite_a=True).T\n",
      "c:\\Users\\jarno\\AppData\\Local\\Programs\\Python\\Python310\\lib\\site-packages\\sklearn\\linear_model\\_ridge.py:212: LinAlgWarning: Ill-conditioned matrix (rcond=4.9152e-18): result may not be accurate.\n",
      "  return linalg.solve(A, Xy, assume_a=\"pos\", overwrite_a=True).T\n",
      "c:\\Users\\jarno\\AppData\\Local\\Programs\\Python\\Python310\\lib\\site-packages\\sklearn\\linear_model\\_ridge.py:212: LinAlgWarning: Ill-conditioned matrix (rcond=4.23603e-18): result may not be accurate.\n",
      "  return linalg.solve(A, Xy, assume_a=\"pos\", overwrite_a=True).T\n",
      "c:\\Users\\jarno\\AppData\\Local\\Programs\\Python\\Python310\\lib\\site-packages\\sklearn\\linear_model\\_ridge.py:212: LinAlgWarning: Ill-conditioned matrix (rcond=6.22124e-18): result may not be accurate.\n",
      "  return linalg.solve(A, Xy, assume_a=\"pos\", overwrite_a=True).T\n",
      "c:\\Users\\jarno\\AppData\\Local\\Programs\\Python\\Python310\\lib\\site-packages\\sklearn\\linear_model\\_ridge.py:212: LinAlgWarning: Ill-conditioned matrix (rcond=6.56094e-18): result may not be accurate.\n",
      "  return linalg.solve(A, Xy, assume_a=\"pos\", overwrite_a=True).T\n",
      "c:\\Users\\jarno\\AppData\\Local\\Programs\\Python\\Python310\\lib\\site-packages\\sklearn\\linear_model\\_ridge.py:212: LinAlgWarning: Ill-conditioned matrix (rcond=5.69949e-18): result may not be accurate.\n",
      "  return linalg.solve(A, Xy, assume_a=\"pos\", overwrite_a=True).T\n",
      "c:\\Users\\jarno\\AppData\\Local\\Programs\\Python\\Python310\\lib\\site-packages\\sklearn\\linear_model\\_ridge.py:212: LinAlgWarning: Ill-conditioned matrix (rcond=6.36304e-18): result may not be accurate.\n",
      "  return linalg.solve(A, Xy, assume_a=\"pos\", overwrite_a=True).T\n",
      "c:\\Users\\jarno\\AppData\\Local\\Programs\\Python\\Python310\\lib\\site-packages\\sklearn\\linear_model\\_ridge.py:212: LinAlgWarning: Ill-conditioned matrix (rcond=5.64978e-18): result may not be accurate.\n",
      "  return linalg.solve(A, Xy, assume_a=\"pos\", overwrite_a=True).T\n",
      "c:\\Users\\jarno\\AppData\\Local\\Programs\\Python\\Python310\\lib\\site-packages\\sklearn\\linear_model\\_ridge.py:212: LinAlgWarning: Ill-conditioned matrix (rcond=1.80846e-17): result may not be accurate.\n",
      "  return linalg.solve(A, Xy, assume_a=\"pos\", overwrite_a=True).T\n",
      "c:\\Users\\jarno\\AppData\\Local\\Programs\\Python\\Python310\\lib\\site-packages\\sklearn\\linear_model\\_ridge.py:212: LinAlgWarning: Ill-conditioned matrix (rcond=1.85055e-17): result may not be accurate.\n",
      "  return linalg.solve(A, Xy, assume_a=\"pos\", overwrite_a=True).T\n",
      "c:\\Users\\jarno\\AppData\\Local\\Programs\\Python\\Python310\\lib\\site-packages\\sklearn\\linear_model\\_ridge.py:212: LinAlgWarning: Ill-conditioned matrix (rcond=1.65693e-17): result may not be accurate.\n",
      "  return linalg.solve(A, Xy, assume_a=\"pos\", overwrite_a=True).T\n",
      "c:\\Users\\jarno\\AppData\\Local\\Programs\\Python\\Python310\\lib\\site-packages\\sklearn\\linear_model\\_ridge.py:212: LinAlgWarning: Ill-conditioned matrix (rcond=1.79468e-17): result may not be accurate.\n",
      "  return linalg.solve(A, Xy, assume_a=\"pos\", overwrite_a=True).T\n",
      "c:\\Users\\jarno\\AppData\\Local\\Programs\\Python\\Python310\\lib\\site-packages\\sklearn\\linear_model\\_ridge.py:212: LinAlgWarning: Ill-conditioned matrix (rcond=1.69624e-17): result may not be accurate.\n",
      "  return linalg.solve(A, Xy, assume_a=\"pos\", overwrite_a=True).T\n",
      "c:\\Users\\jarno\\AppData\\Local\\Programs\\Python\\Python310\\lib\\site-packages\\sklearn\\linear_model\\_ridge.py:212: LinAlgWarning: Ill-conditioned matrix (rcond=3.29181e-17): result may not be accurate.\n",
      "  return linalg.solve(A, Xy, assume_a=\"pos\", overwrite_a=True).T\n",
      "c:\\Users\\jarno\\AppData\\Local\\Programs\\Python\\Python310\\lib\\site-packages\\sklearn\\linear_model\\_ridge.py:212: LinAlgWarning: Ill-conditioned matrix (rcond=3.34399e-17): result may not be accurate.\n",
      "  return linalg.solve(A, Xy, assume_a=\"pos\", overwrite_a=True).T\n",
      "c:\\Users\\jarno\\AppData\\Local\\Programs\\Python\\Python310\\lib\\site-packages\\sklearn\\linear_model\\_ridge.py:212: LinAlgWarning: Ill-conditioned matrix (rcond=3.01611e-17): result may not be accurate.\n",
      "  return linalg.solve(A, Xy, assume_a=\"pos\", overwrite_a=True).T\n",
      "c:\\Users\\jarno\\AppData\\Local\\Programs\\Python\\Python310\\lib\\site-packages\\sklearn\\linear_model\\_ridge.py:212: LinAlgWarning: Ill-conditioned matrix (rcond=3.24288e-17): result may not be accurate.\n",
      "  return linalg.solve(A, Xy, assume_a=\"pos\", overwrite_a=True).T\n",
      "c:\\Users\\jarno\\AppData\\Local\\Programs\\Python\\Python310\\lib\\site-packages\\sklearn\\linear_model\\_ridge.py:212: LinAlgWarning: Ill-conditioned matrix (rcond=3.11084e-17): result may not be accurate.\n",
      "  return linalg.solve(A, Xy, assume_a=\"pos\", overwrite_a=True).T\n",
      "c:\\Users\\jarno\\AppData\\Local\\Programs\\Python\\Python310\\lib\\site-packages\\sklearn\\linear_model\\_ridge.py:212: LinAlgWarning: Ill-conditioned matrix (rcond=3.44607e-18): result may not be accurate.\n",
      "  return linalg.solve(A, Xy, assume_a=\"pos\", overwrite_a=True).T\n"
     ]
    },
    {
     "name": "stdout",
     "output_type": "stream",
     "text": [
      "Best parameters: {'alpha': 1}\n",
      "Best score: -0.0012607753255567365\n",
      "MSE: 0.0011213605525535377\n",
      "------------- Lasso regression --------------\n",
      "{'alpha': 0.1}\n",
      "-0.0013228614684309469\n",
      "MSE: 0.0011819246727523363\n"
     ]
    }
   ],
   "source": [
    "# ridge regression\n",
    "from sklearn.linear_model import Ridge\n",
    "print(\"------------- Ridge regression --------------\")\n",
    "ridge = Ridge()\n",
    "parameters = {'alpha': [0.1, 0.5, 1, 5, 10, 50, 100, 500, 1000]}\n",
    "ridge_regressor = GridSearchCV(ridge, parameters, scoring=\"neg_mean_squared_error\", cv=5)\n",
    "ridge_regressor.fit(X_train, y_train)\n",
    "y_pred_ridge = ridge_regressor.predict(X_test)\n",
    "print(f\"Best parameters: {ridge_regressor.best_params_}\")\n",
    "print(f\"Best score: {ridge_regressor.best_score_}\")\n",
    "print(f\"MSE: {mean_squared_error(y_test, y_pred_ridge)}\")\n",
    "\n",
    "# Lasso regression\n",
    "from sklearn.linear_model import Lasso\n",
    "print(\"------------- Lasso regression --------------\")\n",
    "lasso = Lasso()\n",
    "parameters = {'alpha': [0.1, 0.5, 1, 5, 10, 50, 100, 500, 1000]}\n",
    "lasso_regressor = GridSearchCV(lasso, parameters, scoring=\"neg_mean_squared_error\", cv=5)\n",
    "lasso_regressor.fit(X_train, y_train)\n",
    "print(lasso_regressor.best_params_)\n",
    "print(lasso_regressor.best_score_)\n",
    "y_pred_lasso = lasso_regressor.predict(X_test)\n",
    "print(f\"MSE: {mean_squared_error(y_test, y_pred_lasso)}\")\n"
   ]
  },
  {
   "cell_type": "code",
   "execution_count": 51,
   "metadata": {},
   "outputs": [
    {
     "name": "stdout",
     "output_type": "stream",
     "text": [
      "------------- Random forest regression --------------\n"
     ]
    }
   ],
   "source": [
    "from sklearn.metrics import mean_squared_error\n",
    "\n",
    "# Random forest regression\n",
    "from sklearn.ensemble import RandomForestRegressor\n",
    "print(\"------------- Random forest regression --------------\")\n",
    "random_forest_regressor = RandomForestRegressor(n_estimators=200, max_depth=5)\n",
    "parameters = {'n_estimators': [50, 100, 200, 500, 1000], 'max_depth': [2, 3, 5, 10, 15, 20, 30]}\n",
    "\n",
    "random_forest_regressor = GridSearchCV(random_forest_regressor, parameters, scoring='neg_mean_squared_error', cv=5)\n",
    "random_forest_regressor.fit(X_train, y_train)\n",
    "print(random_forest_regressor.best_params_)\n",
    "print(random_forest_regressor.best_score_)\n",
    "y_pred_random = random_forest_regressor.predict(X_test)\n",
    "print(f\"MSE: {mean_squared_error(y_test, y_pred_random)}\")"
   ]
  },
  {
   "cell_type": "code",
   "execution_count": 49,
   "metadata": {},
   "outputs": [
    {
     "name": "stdout",
     "output_type": "stream",
     "text": [
      "------------- R2 scores --------------\n",
      "R2 score linear regression: 0.05098671195104143\n",
      "R2 score random forest regression: 0.05404407247086129\n"
     ]
    }
   ],
   "source": [
    "# R2 scores berekenen voor elk model\n",
    "from sklearn.metrics import r2_score\n",
    "print(\"------------- R2 scores --------------\")\n",
    "print(f\"R2 score linear regression: {r2_score(y_test, y_pred_lin_reg)}\")\n",
    "# print(f\"R2 score ridge regression: {r2_score(y_test, y_pred_ridge)}\")\n",
    "# print(f\"R2 score lasso regression: {r2_score(y_test, y_pred_lasso)}\")\n",
    "# print(f\"R2 score passive aggressive regression: {r2_score(y_test, y_pred_pas)}\")\n",
    "# print(f\"R2 score theil sen regression: {r2_score(y_test, y_pred_seil)}\")\n",
    "# print(f\"R2 score ransac regression: {r2_score(y_test, y_pred_ransac)}\")\n",
    "print(f\"R2 score random forest regression: {r2_score(y_test, y_pred_random)}\")\n"
   ]
  },
  {
   "cell_type": "code",
   "execution_count": 29,
   "metadata": {},
   "outputs": [
    {
     "name": "stdout",
     "output_type": "stream",
     "text": [
      "Average error percentage random forest regression: inf\n",
      "Feature ranking:\n",
      "1. feature 6 (0.329734)\n",
      "-> site_aanwezig\n",
      "2. feature 1 (0.282641)\n",
      "-> omzet\n",
      "3. feature 0 (0.155818)\n",
      "-> ondernemingnr\n",
      "4. feature 3 (0.132564)\n",
      "-> sector\n",
      "5. feature 4 (0.068134)\n",
      "-> personeelsleden\n",
      "6. feature 5 (0.024894)\n",
      "-> hoofdsteden_provincies\n",
      "7. feature 7 (0.003418)\n",
      "-> pdf_aanwezig\n",
      "8. feature 2 (0.002797)\n",
      "-> beursgenoteerd\n",
      "R2 score random forest regression: 0.06339362382524394\n"
     ]
    }
   ],
   "source": [
    "from sklearn.metrics import r2_score\n",
    "\n",
    "# print random forest feature importance\n",
    "importances = random_forest_regressor.feature_importances_\n",
    "std = np.std([tree.feature_importances_ for tree in random_forest_regressor.estimators_],\n",
    "                axis=0) \n",
    "indices = np.argsort(importances)[::-1]\n",
    "print(\"Feature ranking:\")\n",
    "for f in range(X_train.shape[1]):\n",
    "    print(\"%d. feature %d (%f)\" % (f + 1, indices[f], importances[indices[f]]))\n",
    "    print(f\"-> {X_train.columns[indices[f]]}\")\n",
    "\n",
    "\n",
    "print(f\"R2 score random forest regression: {r2_score(y_test, y_pred_random)}\")\n"
   ]
  },
  {
   "cell_type": "code",
   "execution_count": 50,
   "metadata": {},
   "outputs": [
    {
     "name": "stdout",
     "output_type": "stream",
     "text": [
      "------------- Mean score --------------\n",
      "Mean score: 0.015742875521722332\n",
      "MSE: 0.001181205935012302\n",
      "MAE: 0.014833374899408074\n",
      "R2 score: -0.00012587468464064777\n"
     ]
    }
   ],
   "source": [
    "# get score if model predicted the mean of the training set score\n",
    "from sklearn.metrics import mean_squared_error\n",
    "from sklearn.metrics import mean_absolute_error\n",
    "from sklearn.metrics import r2_score\n",
    "print(\"------------- Mean score --------------\")\n",
    "mean_score = np.mean(y_train)\n",
    "print(f\"Mean score: {mean_score}\")\n",
    "y_pred_mean = np.full(y_test.shape, mean_score)\n",
    "print(f\"MSE: {mean_squared_error(y_test, y_pred_mean)}\")\n",
    "print(f\"MAE: {mean_absolute_error(y_test, y_pred_mean)}\")\n",
    "print(f\"R2 score: {r2_score(y_test, y_pred_mean)}\")\n",
    "\n",
    "# uhhhh\n"
   ]
  },
  {
   "cell_type": "code",
   "execution_count": null,
   "metadata": {},
   "outputs": [],
   "source": []
  },
  {
   "cell_type": "code",
   "execution_count": 30,
   "metadata": {},
   "outputs": [
    {
     "name": "stdout",
     "output_type": "stream",
     "text": [
      "ondernemingnr             0406457615\n",
      "omzet                        0.00438\n",
      "beursgenoteerd                 False\n",
      "sector                           375\n",
      "personeelsleden             0.017544\n",
      "hoofdsteden_provincies            16\n",
      "site_aanwezig                      0\n",
      "pdf_aanwezig                       1\n",
      "Name: 1078, dtype: object\n"
     ]
    },
    {
     "name": "stderr",
     "output_type": "stream",
     "text": [
      "c:\\Users\\jarno\\AppData\\Local\\Programs\\Python\\Python310\\lib\\site-packages\\sklearn\\base.py:450: UserWarning: X does not have valid feature names, but RandomForestRegressor was fitted with feature names\n",
      "  warnings.warn(\n"
     ]
    },
    {
     "data": {
      "text/plain": [
       "array([0.00353672])"
      ]
     },
     "execution_count": 30,
     "metadata": {},
     "output_type": "execute_result"
    }
   ],
   "source": [
    "# saving the best model\n",
    "import pickle\n",
    "filename = 'final_model.sav'\n",
    "pickle.dump(random_forest_regressor, open(filename, 'wb'))\n",
    "\n",
    "# load the model from disk\n",
    "loaded_model = pickle.load(open(filename, 'rb'))\n",
    "result = loaded_model.score(X_test, y_test)\n",
    "\n",
    "# make a prediction\n",
    "new_data = X_test.iloc[0]\n",
    "print(new_data)\n",
    "loaded_model.predict([new_data])\n",
    "\n"
   ]
  }
 ],
 "metadata": {
  "kernelspec": {
   "display_name": "Python 3.10.5 64-bit",
   "language": "python",
   "name": "python3"
  },
  "language_info": {
   "codemirror_mode": {
    "name": "ipython",
    "version": 3
   },
   "file_extension": ".py",
   "mimetype": "text/x-python",
   "name": "python",
   "nbconvert_exporter": "python",
   "pygments_lexer": "ipython3",
   "version": "3.10.5"
  },
  "orig_nbformat": 4,
  "vscode": {
   "interpreter": {
    "hash": "ac961c8513c096ff1f8d2e1b60b85bf4af3ed3048501804ac46c5e57531d9fe0"
   }
  }
 },
 "nbformat": 4,
 "nbformat_minor": 2
}

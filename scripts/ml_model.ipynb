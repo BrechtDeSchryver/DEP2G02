{
 "cells": [
  {
   "cell_type": "code",
   "execution_count": 83,
   "metadata": {},
   "outputs": [],
   "source": [
    "import pandas as pd\n",
    "import numpy as np\n",
    "from sklearn.model_selection import train_test_split\n",
    "from sklearn.linear_model import LogisticRegression\n",
    "from sklearn.preprocessing import OrdinalEncoder\n",
    "from sklearn.metrics import accuracy_score\n",
    "from sklearn.preprocessing import MinMaxScaler\n",
    "from sqlfunctions import get_datapunten_voor_model\n",
    "import pickle"
   ]
  },
  {
   "attachments": {},
   "cell_type": "markdown",
   "metadata": {},
   "source": [
    "## Notities\n",
    "Datapunten AI:\n",
    "- omzet\n",
    "- Beursgenoteerd of niet\n",
    "- sector (nacebel code)\n",
    "- aantal personeelsleden\n",
    "- stedelijkheidsklasse\n",
    "- site_aanwezig\n",
    "- pdf_aanwezig"
   ]
  },
  {
   "cell_type": "code",
   "execution_count": 89,
   "metadata": {},
   "outputs": [],
   "source": [
    "def get_initial_dataframe():\n",
    "    data = get_datapunten_voor_model()\n",
    "    dataframe = pd.DataFrame(data, columns=['ondernemingnr', 'omzet' ,'beursgenoteerd', 'sector', 'personeelsleden', 'site_aanwezig', 'pdf_aanwezig','stedelijkheidsklasse', 'score'])\n",
    "    # dataframe = dataframe.groupby('ondernemingnr').agg({'omzet': 'first', 'beursgenoteerd': 'first', 'sector': 'first', 'personeelsleden': 'first', 'site_aanwezig': 'first', 'pdf_aanwezig': 'first', 'stedelijkheidsklasse': 'first','score': 'sum'}).reset_index()\n",
    "    dataframe.drop(\"ondernemingnr\", axis=1, inplace=True)\n",
    "    return dataframe"
   ]
  },
  {
   "cell_type": "code",
   "execution_count": 90,
   "metadata": {},
   "outputs": [],
   "source": [
    "dataframe = get_initial_dataframe()"
   ]
  },
  {
   "cell_type": "code",
   "execution_count": 91,
   "metadata": {},
   "outputs": [
    {
     "name": "stdout",
     "output_type": "stream",
     "text": [
      "1    27050\n",
      "0    11955\n",
      "Name: site_aanwezig, dtype: int64\n",
      "1    37425\n",
      "0     1580\n",
      "Name: pdf_aanwezig, dtype: int64\n"
     ]
    },
    {
     "data": {
      "text/plain": [
       "25470"
      ]
     },
     "execution_count": 91,
     "metadata": {},
     "output_type": "execute_result"
    }
   ],
   "source": [
    "print(dataframe[\"site_aanwezig\"].value_counts())\n",
    "print(dataframe[\"pdf_aanwezig\"].value_counts())\n",
    "# rows that both have a site and a pdf\n",
    "len(dataframe[(dataframe['site_aanwezig'] == 1) & (dataframe['pdf_aanwezig'] == 1)])"
   ]
  },
  {
   "cell_type": "code",
   "execution_count": 93,
   "metadata": {},
   "outputs": [],
   "source": [
    "def transform_data(data):\n",
    "    # TODO: we hebben originele data nodig om nieuwe data te transformeren\n",
    "    data[\"sector\"] = data[\"sector\"].astype('category')\n",
    "    # ordinal_encoder = OrdinalEncoder()\n",
    "    # data[\"sector\"] = ordinal_encoder.fit_transform(data[[\"sector\"]])\n",
    "    # print(ordinal_encoder.categories_)\n",
    "    data[\"beursgenoteerd\"] = data[\"beursgenoteerd\"].astype('category')\n",
    "    data[\"pdf_aanwezig\"] = data[\"pdf_aanwezig\"].astype('category')\n",
    "    data[\"site_aanwezig\"] = data[\"site_aanwezig\"].astype('category')\n",
    "    data[\"stedelijkheidsklasse\"] = data[\"stedelijkheidsklasse\"].astype('category')\n",
    "\n",
    "    min_max_scaler = MinMaxScaler()\n",
    "    data[\"omzet\"] = min_max_scaler.fit_transform(data[[\"omzet\"]])\n",
    "    pickle.dump(min_max_scaler, open(\"min_max_scaler_omzet.sav\", \"wb\"))\n",
    "\n",
    "    min_max_scaler = MinMaxScaler()\n",
    "    data[\"personeelsleden\"] = min_max_scaler.fit_transform(data[[\"personeelsleden\"]])\n",
    "    pickle.dump(min_max_scaler, open(\"min_max_scaler_personeelsleden.sav\", \"wb\"))\n",
    "    \n",
    "    data[\"personeelsleden\"] = data[\"personeelsleden\"].astype('float')\n",
    "    \n",
    "\n",
    "    return data\n",
    "\n",
    "\n",
    "# api_data = [123412, 300, 9800, 12345, 1, 1, 0]\n",
    "# dataframe = pd.DataFrame(data, columns=['omzet', 'beursgenoteerd', 'sector', 'personeelsleden', 'site_aanwezig', 'pdf_aanwezig', 'score'])\n",
    "dataframe = transform_data(dataframe)\n",
    "    # Pipeline([\n",
    "    #     ('ordinal_encoder', OrdinalEncoder()),\n",
    "\n",
    "# with open(\"final_model.sav\", \"rb\") as file:\n",
    "#     model = pickle.load(file)\n",
    "    \n",
    "# test_ = test_.drop(\"score\", axis=1)\n",
    "# test_ = test_.iloc[-1:]\n",
    "# model.predict(test_)"
   ]
  },
  {
   "cell_type": "code",
   "execution_count": 45,
   "metadata": {},
   "outputs": [
    {
     "data": {
      "text/html": [
       "<div>\n",
       "<style scoped>\n",
       "    .dataframe tbody tr th:only-of-type {\n",
       "        vertical-align: middle;\n",
       "    }\n",
       "\n",
       "    .dataframe tbody tr th {\n",
       "        vertical-align: top;\n",
       "    }\n",
       "\n",
       "    .dataframe thead th {\n",
       "        text-align: right;\n",
       "    }\n",
       "</style>\n",
       "<table border=\"1\" class=\"dataframe\">\n",
       "  <thead>\n",
       "    <tr style=\"text-align: right;\">\n",
       "      <th></th>\n",
       "      <th>omzet</th>\n",
       "      <th>beursgenoteerd</th>\n",
       "      <th>sector</th>\n",
       "      <th>personeelsleden</th>\n",
       "      <th>site_aanwezig</th>\n",
       "      <th>pdf_aanwezig</th>\n",
       "      <th>stedelijkheidsklasse</th>\n",
       "      <th>score</th>\n",
       "    </tr>\n",
       "  </thead>\n",
       "  <tbody>\n",
       "    <tr>\n",
       "      <th>0</th>\n",
       "      <td>0.021860</td>\n",
       "      <td>False</td>\n",
       "      <td>378.0</td>\n",
       "      <td>0.070175</td>\n",
       "      <td>1</td>\n",
       "      <td>1</td>\n",
       "      <td>1</td>\n",
       "      <td>130.967646</td>\n",
       "    </tr>\n",
       "    <tr>\n",
       "      <th>1</th>\n",
       "      <td>0.029976</td>\n",
       "      <td>True</td>\n",
       "      <td>378.0</td>\n",
       "      <td>0.175439</td>\n",
       "      <td>1</td>\n",
       "      <td>1</td>\n",
       "      <td>0</td>\n",
       "      <td>6.791857</td>\n",
       "    </tr>\n",
       "    <tr>\n",
       "      <th>2</th>\n",
       "      <td>0.015178</td>\n",
       "      <td>False</td>\n",
       "      <td>13.0</td>\n",
       "      <td>0.438596</td>\n",
       "      <td>0</td>\n",
       "      <td>1</td>\n",
       "      <td>2</td>\n",
       "      <td>5.464225</td>\n",
       "    </tr>\n",
       "    <tr>\n",
       "      <th>3</th>\n",
       "      <td>0.014047</td>\n",
       "      <td>False</td>\n",
       "      <td>377.0</td>\n",
       "      <td>0.128655</td>\n",
       "      <td>1</td>\n",
       "      <td>1</td>\n",
       "      <td>0</td>\n",
       "      <td>43.966302</td>\n",
       "    </tr>\n",
       "    <tr>\n",
       "      <th>4</th>\n",
       "      <td>0.025320</td>\n",
       "      <td>False</td>\n",
       "      <td>378.0</td>\n",
       "      <td>0.242690</td>\n",
       "      <td>1</td>\n",
       "      <td>1</td>\n",
       "      <td>0</td>\n",
       "      <td>107.927458</td>\n",
       "    </tr>\n",
       "  </tbody>\n",
       "</table>\n",
       "</div>"
      ],
      "text/plain": [
       "      omzet beursgenoteerd  sector  personeelsleden site_aanwezig  \\\n",
       "0  0.021860          False   378.0         0.070175             1   \n",
       "1  0.029976           True   378.0         0.175439             1   \n",
       "2  0.015178          False    13.0         0.438596             0   \n",
       "3  0.014047          False   377.0         0.128655             1   \n",
       "4  0.025320          False   378.0         0.242690             1   \n",
       "\n",
       "  pdf_aanwezig stedelijkheidsklasse       score  \n",
       "0            1                    1  130.967646  \n",
       "1            1                    0    6.791857  \n",
       "2            1                    2    5.464225  \n",
       "3            1                    0   43.966302  \n",
       "4            1                    0  107.927458  "
      ]
     },
     "execution_count": 45,
     "metadata": {},
     "output_type": "execute_result"
    }
   ],
   "source": [
    "dataframe.head()"
   ]
  },
  {
   "cell_type": "code",
   "execution_count": 67,
   "metadata": {},
   "outputs": [
    {
     "data": {
      "text/plain": [
       "Goederenvervoer over de weg, m.u.v. verhuisbedrijven                             522\n",
       "Detailhandel in auto's en lichte bestelwagens (kleiner of gelijk aan 3,5 ton)    342\n",
       "Ontwerpen en programmeren van computerprogramma's                                288\n",
       "Algemene bouw van residentiële gebouwen                                          257\n",
       "Schrijnwerk                                                                      234\n",
       "                                                                                ... \n",
       "Schilderen van civieltechnische werken                                             1\n",
       "Vervaardiging van keramische tegels en plavuizen                                   1\n",
       "Schoonheidsverzorging                                                              1\n",
       "Vervaardiging van kantoorbenodigdheden van papier                                  1\n",
       "Groothandel in levende dieren, m.u.v. levend vee                                   1\n",
       "Name: sector, Length: 743, dtype: int64"
      ]
     },
     "execution_count": 67,
     "metadata": {},
     "output_type": "execute_result"
    }
   ],
   "source": [
    "# categorize sector\n",
    "dataframe[\"sector\"] = dataframe[\"sector\"].astype('category')\n",
    "# get amount of different sectors\n",
    "sectors = dataframe[\"sector\"].cat.categories\n",
    "# how are the sectors distributed ?\n",
    "dataframe[\"sector\"].value_counts()"
   ]
  },
  {
   "cell_type": "code",
   "execution_count": 72,
   "metadata": {},
   "outputs": [],
   "source": [
    "# Data preprocessing\n",
    "\n",
    "\n",
    "# encode sector\n",
    "ordinal_encoder = OrdinalEncoder()\n",
    "dataframe[\"sector\"] = ordinal_encoder.fit_transform(dataframe[[\"sector\"]])\n",
    "dataframe[\"sector\"] = dataframe[\"sector\"].astype('category')\n",
    "dataframe[\"beursgenoteerd\"] = ordinal_encoder.fit_transform(dataframe[[\"beursgenoteerd\"]])\n",
    "dataframe[\"beursgenoteerd\"] = dataframe[\"beursgenoteerd\"].astype('category')\n",
    "dataframe[\"site_aanwezig\"] = dataframe[\"site_aanwezig\"].astype('category')\n",
    "dataframe[\"pdf_aanwezig\"] = dataframe[\"pdf_aanwezig\"].astype('category')\n",
    "\n",
    "# Min Max scaling the omzet and personeelsleden\n",
    "dataframe[\"omzet\"] = MinMaxScaler().fit_transform(dataframe[[\"omzet\"]])\n",
    "dataframe[\"personeelsleden\"] = MinMaxScaler().fit_transform(dataframe[[\"personeelsleden\"]])\n",
    "dataframe[\"personeelsleden\"] = dataframe[\"personeelsleden\"].astype(float)\n"
   ]
  },
  {
   "cell_type": "code",
   "execution_count": 10,
   "metadata": {},
   "outputs": [
    {
     "data": {
      "text/html": [
       "<div>\n",
       "<style scoped>\n",
       "    .dataframe tbody tr th:only-of-type {\n",
       "        vertical-align: middle;\n",
       "    }\n",
       "\n",
       "    .dataframe tbody tr th {\n",
       "        vertical-align: top;\n",
       "    }\n",
       "\n",
       "    .dataframe thead th {\n",
       "        text-align: right;\n",
       "    }\n",
       "</style>\n",
       "<table border=\"1\" class=\"dataframe\">\n",
       "  <thead>\n",
       "    <tr style=\"text-align: right;\">\n",
       "      <th></th>\n",
       "      <th>omzet</th>\n",
       "      <th>beursgenoteerd</th>\n",
       "      <th>sector</th>\n",
       "      <th>personeelsleden</th>\n",
       "      <th>site_aanwezig</th>\n",
       "      <th>pdf_aanwezig</th>\n",
       "      <th>stedelijkheidsklasse</th>\n",
       "      <th>score</th>\n",
       "    </tr>\n",
       "  </thead>\n",
       "  <tbody>\n",
       "    <tr>\n",
       "      <th>0</th>\n",
       "      <td>0.021860</td>\n",
       "      <td>False</td>\n",
       "      <td>378.0</td>\n",
       "      <td>0.070175</td>\n",
       "      <td>1</td>\n",
       "      <td>1</td>\n",
       "      <td>1</td>\n",
       "      <td>130.967646</td>\n",
       "    </tr>\n",
       "    <tr>\n",
       "      <th>1</th>\n",
       "      <td>0.029976</td>\n",
       "      <td>True</td>\n",
       "      <td>378.0</td>\n",
       "      <td>0.175439</td>\n",
       "      <td>1</td>\n",
       "      <td>1</td>\n",
       "      <td>0</td>\n",
       "      <td>6.791857</td>\n",
       "    </tr>\n",
       "    <tr>\n",
       "      <th>2</th>\n",
       "      <td>0.015178</td>\n",
       "      <td>False</td>\n",
       "      <td>13.0</td>\n",
       "      <td>0.438596</td>\n",
       "      <td>0</td>\n",
       "      <td>1</td>\n",
       "      <td>2</td>\n",
       "      <td>5.464225</td>\n",
       "    </tr>\n",
       "    <tr>\n",
       "      <th>3</th>\n",
       "      <td>0.014047</td>\n",
       "      <td>False</td>\n",
       "      <td>377.0</td>\n",
       "      <td>0.128655</td>\n",
       "      <td>1</td>\n",
       "      <td>1</td>\n",
       "      <td>0</td>\n",
       "      <td>43.966302</td>\n",
       "    </tr>\n",
       "    <tr>\n",
       "      <th>4</th>\n",
       "      <td>0.025320</td>\n",
       "      <td>False</td>\n",
       "      <td>378.0</td>\n",
       "      <td>0.242690</td>\n",
       "      <td>1</td>\n",
       "      <td>1</td>\n",
       "      <td>0</td>\n",
       "      <td>107.927458</td>\n",
       "    </tr>\n",
       "    <tr>\n",
       "      <th>...</th>\n",
       "      <td>...</td>\n",
       "      <td>...</td>\n",
       "      <td>...</td>\n",
       "      <td>...</td>\n",
       "      <td>...</td>\n",
       "      <td>...</td>\n",
       "      <td>...</td>\n",
       "      <td>...</td>\n",
       "    </tr>\n",
       "    <tr>\n",
       "      <th>12997</th>\n",
       "      <td>0.001454</td>\n",
       "      <td>False</td>\n",
       "      <td>99.0</td>\n",
       "      <td>0.020468</td>\n",
       "      <td>0</td>\n",
       "      <td>1</td>\n",
       "      <td>0</td>\n",
       "      <td>6.944891</td>\n",
       "    </tr>\n",
       "    <tr>\n",
       "      <th>12998</th>\n",
       "      <td>0.000000</td>\n",
       "      <td>False</td>\n",
       "      <td>496.0</td>\n",
       "      <td>0.143275</td>\n",
       "      <td>1</td>\n",
       "      <td>0</td>\n",
       "      <td>1</td>\n",
       "      <td>1.153936</td>\n",
       "    </tr>\n",
       "    <tr>\n",
       "      <th>12999</th>\n",
       "      <td>0.056761</td>\n",
       "      <td>False</td>\n",
       "      <td>556.0</td>\n",
       "      <td>0.058480</td>\n",
       "      <td>0</td>\n",
       "      <td>1</td>\n",
       "      <td>2</td>\n",
       "      <td>5.118718</td>\n",
       "    </tr>\n",
       "    <tr>\n",
       "      <th>13000</th>\n",
       "      <td>0.009226</td>\n",
       "      <td>False</td>\n",
       "      <td>373.0</td>\n",
       "      <td>0.078947</td>\n",
       "      <td>1</td>\n",
       "      <td>1</td>\n",
       "      <td>2</td>\n",
       "      <td>10.366844</td>\n",
       "    </tr>\n",
       "    <tr>\n",
       "      <th>13001</th>\n",
       "      <td>0.000970</td>\n",
       "      <td>False</td>\n",
       "      <td>605.0</td>\n",
       "      <td>0.020468</td>\n",
       "      <td>1</td>\n",
       "      <td>1</td>\n",
       "      <td>1</td>\n",
       "      <td>6.046015</td>\n",
       "    </tr>\n",
       "  </tbody>\n",
       "</table>\n",
       "<p>13002 rows × 8 columns</p>\n",
       "</div>"
      ],
      "text/plain": [
       "          omzet beursgenoteerd  sector  personeelsleden site_aanwezig  \\\n",
       "0      0.021860          False   378.0         0.070175             1   \n",
       "1      0.029976           True   378.0         0.175439             1   \n",
       "2      0.015178          False    13.0         0.438596             0   \n",
       "3      0.014047          False   377.0         0.128655             1   \n",
       "4      0.025320          False   378.0         0.242690             1   \n",
       "...         ...            ...     ...              ...           ...   \n",
       "12997  0.001454          False    99.0         0.020468             0   \n",
       "12998  0.000000          False   496.0         0.143275             1   \n",
       "12999  0.056761          False   556.0         0.058480             0   \n",
       "13000  0.009226          False   373.0         0.078947             1   \n",
       "13001  0.000970          False   605.0         0.020468             1   \n",
       "\n",
       "      pdf_aanwezig stedelijkheidsklasse       score  \n",
       "0                1                    1  130.967646  \n",
       "1                1                    0    6.791857  \n",
       "2                1                    2    5.464225  \n",
       "3                1                    0   43.966302  \n",
       "4                1                    0  107.927458  \n",
       "...            ...                  ...         ...  \n",
       "12997            1                    0    6.944891  \n",
       "12998            0                    1    1.153936  \n",
       "12999            1                    2    5.118718  \n",
       "13000            1                    2   10.366844  \n",
       "13001            1                    1    6.046015  \n",
       "\n",
       "[13002 rows x 8 columns]"
      ]
     },
     "execution_count": 10,
     "metadata": {},
     "output_type": "execute_result"
    }
   ],
   "source": [
    "dataframe"
   ]
  },
  {
   "cell_type": "code",
   "execution_count": 57,
   "metadata": {},
   "outputs": [
    {
     "data": {
      "text/plain": [
       "0.017544    613\n",
       "0.020468    599\n",
       "0.026316    561\n",
       "0.023392    516\n",
       "0.029240    475\n",
       "           ... \n",
       "0.014620      1\n",
       "0.654971      1\n",
       "0.733918      1\n",
       "1.000000      1\n",
       "0.649123      1\n",
       "Name: personeelsleden, Length: 245, dtype: int64"
      ]
     },
     "execution_count": 57,
     "metadata": {},
     "output_type": "execute_result"
    }
   ],
   "source": [
    "dataframe[\"personeelsleden\"].value_counts()"
   ]
  },
  {
   "cell_type": "code",
   "execution_count": 73,
   "metadata": {},
   "outputs": [
    {
     "data": {
      "text/plain": [
       "<matplotlib.legend.Legend at 0x1826da961d0>"
      ]
     },
     "execution_count": 73,
     "metadata": {},
     "output_type": "execute_result"
    },
    {
     "data": {
      "image/png": "[encoded data removed]",
      "text/plain": [
       "<Figure size 432x288 with 1 Axes>"
      ]
     },
     "metadata": {
      "needs_background": "light"
     },
     "output_type": "display_data"
    }
   ],
   "source": [
    "# Visualize data\n",
    "# plot histogram\n",
    "from matplotlib import pyplot as plt\n",
    "\n",
    "dataframe[\"personeelsleden\"].hist(label=\"personeelsleden\", alpha=0.5)\n",
    "dataframe[\"omzet\"].hist(label=\"omzet\", alpha=0.5)\n",
    "dataframe[\"score\"].hist(label=\"score\", alpha=0.5)\n",
    "plt.legend()\n",
    "\n"
   ]
  },
  {
   "cell_type": "code",
   "execution_count": 74,
   "metadata": {},
   "outputs": [
    {
     "data": {
      "image/png": "[encoded data removed]",
      "text/plain": [
       "<Figure size 864x576 with 9 Axes>"
      ]
     },
     "metadata": {
      "needs_background": "light"
     },
     "output_type": "display_data"
    },
    {
     "name": "stdout",
     "output_type": "stream",
     "text": [
      "                    omzet  personeelsleden     score\n",
      "omzet            1.000000         0.366415  0.101742\n",
      "personeelsleden  0.366415         1.000000  0.099027\n",
      "score            0.101742         0.099027  1.000000\n"
     ]
    }
   ],
   "source": [
    "# plot correlation matrix\n",
    "import matplotlib.pyplot as plt\n",
    "import seaborn as sns\n",
    "corr = dataframe.corr()\n",
    "corr[\"score\"].sort_values(ascending=False)\n",
    "from pandas.plotting import scatter_matrix\n",
    "attributes = [\"score\", \"omzet\", \"personeelsleden\", \"beursgenoteerd\"]\n",
    "scatter_matrix(dataframe[attributes], figsize=(12, 8))\n",
    "plt.show()\n",
    "\n",
    "\n",
    "print(corr)\n",
    "\n"
   ]
  },
  {
   "cell_type": "code",
   "execution_count": 11,
   "metadata": {},
   "outputs": [
    {
     "name": "stdout",
     "output_type": "stream",
     "text": [
      "<class 'pandas.core.frame.DataFrame'>\n",
      "Index: 13002 entries, 0200065765 to 0899993714\n",
      "Data columns (total 8 columns):\n",
      " #   Column                  Non-Null Count  Dtype   \n",
      "---  ------                  --------------  -----   \n",
      " 0   omzet                   13002 non-null  float64 \n",
      " 1   beursgenoteerd          13002 non-null  category\n",
      " 2   sector                  13002 non-null  int32   \n",
      " 3   personeelsleden         13002 non-null  int32   \n",
      " 4   hoofdsteden_provincies  13002 non-null  int32   \n",
      " 5   site_aanwezig           13002 non-null  category\n",
      " 6   pdf_aanwezig            13002 non-null  category\n",
      " 7   score                   13002 non-null  float64 \n",
      "dtypes: category(3), float64(2), int32(3)\n",
      "memory usage: 495.6+ KB\n"
     ]
    }
   ],
   "source": [
    "dataframe.info()"
   ]
  },
  {
   "cell_type": "code",
   "execution_count": 75,
   "metadata": {},
   "outputs": [
    {
     "data": {
      "text/plain": [
       "4.32690384240564"
      ]
     },
     "execution_count": 75,
     "metadata": {},
     "output_type": "execute_result"
    },
    {
     "data": {
      "image/png": "[encoded data removed]",
      "text/plain": [
       "<Figure size 432x288 with 1 Axes>"
      ]
     },
     "metadata": {
      "needs_background": "light"
     },
     "output_type": "display_data"
    }
   ],
   "source": [
    "# plot distribution of score\n",
    "dataframe[\"score\"].describe()\n",
    "# plot a detailed histogram\n",
    "dataframe[\"score\"].hist(bins=100)\n",
    "\n",
    "# print 10 most common scores\n",
    "dataframe[\"score\"].value_counts().head(10)\n",
    "\n",
    "# print mean score\n",
    "dataframe[\"score\"].mean()\n",
    "\n"
   ]
  },
  {
   "cell_type": "markdown",
   "metadata": {},
   "source": [
    "![white box ml modellen](https://drek4537l1klr.cloudfront.net/thampi/HighResolutionFigures/figure_2-2.png)\n"
   ]
  },
  {
   "cell_type": "code",
   "execution_count": 76,
   "metadata": {},
   "outputs": [
    {
     "name": "stdout",
     "output_type": "stream",
     "text": [
      "<class 'pandas.core.frame.DataFrame'>\n",
      "Int64Index: 35104 entries, 2266 to 15795\n",
      "Data columns (total 7 columns):\n",
      " #   Column                Non-Null Count  Dtype   \n",
      "---  ------                --------------  -----   \n",
      " 0   omzet                 35104 non-null  float64 \n",
      " 1   beursgenoteerd        35104 non-null  category\n",
      " 2   sector                35104 non-null  category\n",
      " 3   personeelsleden       35104 non-null  float64 \n",
      " 4   site_aanwezig         35104 non-null  category\n",
      " 5   pdf_aanwezig          35104 non-null  category\n",
      " 6   stedelijkheidsklasse  35104 non-null  category\n",
      "dtypes: category(5), float64(2)\n",
      "memory usage: 1.0 MB\n",
      "<class 'pandas.core.series.Series'>\n",
      "Int64Index: 3901 entries, 31438 to 22065\n",
      "Series name: score\n",
      "Non-Null Count  Dtype  \n",
      "--------------  -----  \n",
      "3901 non-null   float64\n",
      "dtypes: float64(1)\n",
      "memory usage: 61.0 KB\n"
     ]
    }
   ],
   "source": [
    "# Model schrijven\n",
    "# ! Kan pas gerund worden vanaf we alle data hebben\n",
    "X = dataframe.drop(columns=[\"score\"])\n",
    "y = dataframe[\"score\"]\n",
    "\n",
    "# Split data into train and test set\n",
    "X_train, X_test, y_train, y_test = train_test_split(X, y, test_size=0.1, random_state=42)\n",
    "\n",
    "\n",
    "# y_train.info()\n",
    "X_train.info()\n",
    "y_test.info()"
   ]
  },
  {
   "cell_type": "code",
   "execution_count": 77,
   "metadata": {},
   "outputs": [
    {
     "name": "stdout",
     "output_type": "stream",
     "text": [
      "------------- Linear Regression --------------\n",
      "Best parameters: {'copy_X': True, 'fit_intercept': True, 'normalize': False}\n",
      "Best score: -63.037431688407366\n",
      "MSE: 66.26050129420366\n"
     ]
    }
   ],
   "source": [
    "from sklearn.metrics import mean_squared_error\n",
    "from sklearn import linear_model\n",
    "from sklearn import svm\n",
    "from sklearn.model_selection import GridSearchCV\n",
    "\n",
    "import warnings\n",
    "warnings.filterwarnings(\"ignore\", category=FutureWarning)\n",
    "\n",
    "# TODO:\n",
    "# - find out what score would be if we always predict the mean and predict 0 + compare with the scores of the models\n",
    "# https://www.youtube.com/watch?v=L5OVCoAemAk\n",
    "# Linear Regression\n",
    "from sklearn.linear_model import LinearRegression\n",
    "from sklearn.preprocessing import PolynomialFeatures\n",
    "print(\"------------- Linear Regression --------------\")\n",
    "\n",
    "lin_reg = LinearRegression()\n",
    "parameters = {'fit_intercept': [True, False], 'normalize': [True, False], 'copy_X': [True, False]}\n",
    "lin_reg = GridSearchCV(lin_reg, parameters, scoring=\"neg_mean_squared_error\", cv=5)\n",
    "lin_reg.fit(X_train, y_train)\n",
    "y_pred_lin_reg = lin_reg.predict(X_test)\n",
    "print(f\"Best parameters: {lin_reg.best_params_}\")\n",
    "print(f\"Best score: {lin_reg.best_score_}\")\n",
    "print(f\"MSE: {mean_squared_error(y_test, y_pred_lin_reg)}\")"
   ]
  },
  {
   "cell_type": "code",
   "execution_count": 18,
   "metadata": {},
   "outputs": [
    {
     "name": "stdout",
     "output_type": "stream",
     "text": [
      "------------- SVR --------------\n",
      "Best parameters: {'C': 20, 'epsilon': 0.1}\n",
      "Best score: -302.37904920116836\n",
      "MSE: 316.22139120223216\n",
      "------------- BayesianRidge --------------\n",
      "Best parameters: {'alpha_1': 100, 'alpha_2': 1e-06, 'lambda_1': 1e-06, 'lambda_2': 100}\n",
      "Best score: -239.77928160755792\n",
      "MSE: 257.4405945238632\n"
     ]
    }
   ],
   "source": [
    "\n",
    "\n",
    "# SVR (Support Vector Regression)\n",
    "from sklearn.svm import SVR\n",
    "print(\"------------- SVR --------------\")\n",
    "svr_regressor = SVR(kernel='rbf', gamma=\"scale\")\n",
    "parameters = {'C': [1, 10, 20], 'epsilon': [0.1, 0.01, 0.001, 0.0001]}\n",
    "svr_regressor = GridSearchCV(svr_regressor, parameters, scoring=\"neg_mean_squared_error\", cv=5)\n",
    "svr_regressor.fit(X_train, y_train)\n",
    "y_pred_svr = svr_regressor.predict(X_test)\n",
    "print(f\"Best parameters: {svr_regressor.best_params_}\")\n",
    "print(f\"Best score: {svr_regressor.best_score_}\")\n",
    "print(f\"MSE: {mean_squared_error(y_test, y_pred_svr)}\")\n",
    "\n",
    "\n",
    "\n",
    "# BayesianRidge\n",
    "from sklearn.linear_model import BayesianRidge\n",
    "print(\"------------- BayesianRidge --------------\")\n",
    "bayesian_regressor = BayesianRidge()\n",
    "parameters = {'alpha_1': [1e-06, 1e-05, 1e-04,  1, 10, 100], 'alpha_2': [1e-06, 1e-05, 1e-04,  1, 10, 100], 'lambda_1': [1e-06, 1e-05, 1e-04,  1, 10, 100], 'lambda_2': [1e-06, 1e-05, 1e-04,  1, 10, 100]}\n",
    "bayesian_regressor = GridSearchCV(bayesian_regressor, parameters, scoring=\"neg_mean_squared_error\", cv=5)\n",
    "bayesian_regressor.fit(X_train, y_train)\n",
    "y_pred_bay = bayesian_regressor.predict(X_test)\n",
    "print(f\"Best parameters: {bayesian_regressor.best_params_}\")\n",
    "print(f\"Best score: {bayesian_regressor.best_score_}\")\n",
    "print(f\"MSE: {mean_squared_error(y_test, y_pred_bay)}\")\n",
    "\n"
   ]
  },
  {
   "cell_type": "code",
   "execution_count": 78,
   "metadata": {},
   "outputs": [
    {
     "name": "stdout",
     "output_type": "stream",
     "text": [
      "------------- LassoLars --------------\n",
      "Best parameters: {'alpha': 0.1}\n",
      "Best score: -66.73229523206487\n",
      "MSE: 69.26397168897147\n"
     ]
    }
   ],
   "source": [
    "\n",
    "# LassoLars\n",
    "from sklearn.linear_model import LassoLars\n",
    "print(\"------------- LassoLars --------------\")\n",
    "lassolars_regressor = LassoLars()\n",
    "parameters = {'alpha': [0.1, 0.5, 1, 5, 10, 50, 100, 500, 1000]}\n",
    "lassolars_regressor = GridSearchCV(lassolars_regressor, parameters, scoring=\"neg_mean_squared_error\", cv=5)\n",
    "lassolars_regressor.fit(X_train, y_train)\n",
    "y_pred_lassolars = lassolars_regressor.predict(X_test)\n",
    "print(f\"Best parameters: {lassolars_regressor.best_params_}\")\n",
    "print(f\"Best score: {lassolars_regressor.best_score_}\")\n",
    "print(f\"MSE: {mean_squared_error(y_test, y_pred_lassolars)}\")"
   ]
  },
  {
   "cell_type": "code",
   "execution_count": 20,
   "metadata": {},
   "outputs": [
    {
     "name": "stdout",
     "output_type": "stream",
     "text": [
      "------------- ARDRegression --------------\n",
      "Best parameters: {'alpha_1': 100, 'alpha_2': 1e-06, 'lambda_1': 1e-06, 'lambda_2': 100}\n",
      "Best score: -239.77754245903506\n",
      "MSE: 257.4716380613389\n"
     ]
    }
   ],
   "source": [
    "# ARDRegression\n",
    "from sklearn.linear_model import ARDRegression\n",
    "print(\"------------- ARDRegression --------------\")\n",
    "ard_regressor = ARDRegression()\n",
    "parameters = {'alpha_1': [1e-06, 1e-05, 1e-04,  1, 10, 100], 'alpha_2': [1e-06, 1e-05, 1e-04,  1, 10, 100], 'lambda_1': [1e-06, 1e-05, 1e-04,  1, 10, 100], 'lambda_2': [1e-06, 1e-05, 1e-04,  1, 10, 100]}\n",
    "ard_regressor = GridSearchCV(ard_regressor, parameters, scoring=\"neg_mean_squared_error\", cv=5)\n",
    "ard_regressor.fit(X_train, y_train)\n",
    "y_pred_ard = ard_regressor.predict(X_test)\n",
    "print(f\"Best parameters: {ard_regressor.best_params_}\")\n",
    "print(f\"Best score: {ard_regressor.best_score_}\")\n",
    "print(f\"MSE: {mean_squared_error(y_test, y_pred_ard)}\")\n",
    "print(\"------------- ARDRegression --------------\")f\n"
   ]
  },
  {
   "cell_type": "code",
   "execution_count": 18,
   "metadata": {},
   "outputs": [
    {
     "name": "stdout",
     "output_type": "stream",
     "text": [
      "------------- PassiveAggressiveRegressor --------------\n",
      "Best parameters: {'C': 0.1, 'epsilon': 1}\n",
      "Best score: -0.0015840646966771455\n",
      "MSE: 0.0014411840660125688\n"
     ]
    }
   ],
   "source": [
    "\n",
    "# PassiveAggressiveRegressor\n",
    "from sklearn.linear_model import PassiveAggressiveRegressor\n",
    "print(\"------------- PassiveAggressiveRegressor --------------\")\n",
    "passive_regressor = PassiveAggressiveRegressor()\n",
    "parameters = {'C': [0.1, 0.5, 1, 5, 10, 50, 100, 500, 1000], 'epsilon': [0.1, 0.5, 1, 5, 10, 50, 100, 500, 1000]}\n",
    "passive_regressor = GridSearchCV(passive_regressor, parameters, scoring=\"neg_mean_squared_error\", cv=5)\n",
    "passive_regressor.fit(X_train, y_train)\n",
    "y_pred_pas = passive_regressor.predict(X_test)\n",
    "print(f\"Best parameters: {passive_regressor.best_params_}\")\n",
    "print(f\"Best score: {passive_regressor.best_score_}\")\n",
    "print(f\"MSE: {mean_squared_error(y_test, y_pred_pas)}\")\n"
   ]
  },
  {
   "cell_type": "code",
   "execution_count": 28,
   "metadata": {},
   "outputs": [
    {
     "name": "stdout",
     "output_type": "stream",
     "text": [
      "------------- TheilSenRegressor --------------\n",
      "Best parameters: {'max_subpopulation': 1000}\n",
      "Best score: -248.86399538690165\n",
      "MSE: 271.1236378199631\n"
     ]
    }
   ],
   "source": [
    "\n",
    "# TheilSenRegressor\n",
    "from sklearn.linear_model import TheilSenRegressor\n",
    "print(\"------------- TheilSenRegressor --------------\")\n",
    "theil_regressor = TheilSenRegressor()\n",
    "parameters = {'max_subpopulation': [100, 500, 1000, 5000]}\n",
    "theil_regressor = GridSearchCV(theil_regressor, parameters, scoring=\"neg_mean_squared_error\", cv=5)\n",
    "theil_regressor.fit(X_train, y_train)\n",
    "y_pred_seil = theil_regressor.predict(X_test)\n",
    "print(f\"Best parameters: {theil_regressor.best_params_}\")\n",
    "print(f\"Best score: {theil_regressor.best_score_}\")\n",
    "print(f\"MSE: {mean_squared_error(y_test, y_pred_seil)}\")\n",
    "\n"
   ]
  },
  {
   "cell_type": "code",
   "execution_count": 33,
   "metadata": {},
   "outputs": [
    {
     "name": "stdout",
     "output_type": "stream",
     "text": [
      "------------- RANSACRegressor --------------\n",
      "Best parameters: {'max_trials': 500, 'min_samples': 1000}\n",
      "Best score: -246.0978794101151\n",
      "MSE: 263.4648095046217\n"
     ]
    }
   ],
   "source": [
    "# RANSACRegressor\n",
    "from sklearn.linear_model import RANSACRegressor\n",
    "print(\"------------- RANSACRegressor --------------\")\n",
    "ransac_regressor = RANSACRegressor()\n",
    "parameters = {'min_samples': [1, 5, 10, 50, 100, 500, 1000], 'max_trials': [100, 500, 1000, 5000]}\n",
    "ransac_regressor = GridSearchCV(ransac_regressor, parameters, scoring=\"neg_mean_squared_error\", cv=5)\n",
    "ransac_regressor.fit(X_train, y_train)\n",
    "y_pred_ransac = ransac_regressor.predict(X_test)\n",
    "print(f\"Best parameters: {ransac_regressor.best_params_}\")\n",
    "print(f\"Best score: {ransac_regressor.best_score_}\")\n",
    "print(f\"MSE: {mean_squared_error(y_test, y_pred_ransac)}\")"
   ]
  },
  {
   "cell_type": "code",
   "execution_count": 32,
   "metadata": {},
   "outputs": [
    {
     "name": "stdout",
     "output_type": "stream",
     "text": [
      "------------- Ridge regression --------------\n",
      "Best parameters: {'alpha': 0.5}\n",
      "Best score: -239.77330520826112\n",
      "MSE: 257.4407573953995\n",
      "------------- Lasso regression --------------\n",
      "{'alpha': 0.1}\n",
      "-243.35376774547677\n",
      "MSE: 261.7385916220957\n"
     ]
    }
   ],
   "source": [
    "# ridge regression\n",
    "from sklearn.linear_model import Ridge\n",
    "print(\"------------- Ridge regression --------------\")\n",
    "ridge = Ridge()\n",
    "parameters = {'alpha': [0.1, 0.5, 1, 5, 10, 50, 100, 500, 1000]}\n",
    "ridge_regressor = GridSearchCV(ridge, parameters, scoring=\"neg_mean_squared_error\", cv=5)\n",
    "ridge_regressor.fit(X_train, y_train)\n",
    "y_pred_ridge = ridge_regressor.predict(X_test)\n",
    "print(f\"Best parameters: {ridge_regressor.best_params_}\")\n",
    "print(f\"Best score: {ridge_regressor.best_score_}\")\n",
    "print(f\"MSE: {mean_squared_error(y_test, y_pred_ridge)}\")\n",
    "\n",
    "# Lasso regression\n",
    "from sklearn.linear_model import Lasso\n",
    "print(\"------------- Lasso regression --------------\")\n",
    "lasso = Lasso()\n",
    "parameters = {'alpha': [0.1, 0.5, 1, 5, 10, 50, 100, 500, 1000]}\n",
    "lasso_regressor = GridSearchCV(lasso, parameters, scoring=\"neg_mean_squared_error\", cv=5)\n",
    "lasso_regressor.fit(X_train, y_train)\n",
    "print(lasso_regressor.best_params_)\n",
    "print(lasso_regressor.best_score_)\n",
    "y_pred_lasso = lasso_regressor.predict(X_test)\n",
    "print(f\"MSE: {mean_squared_error(y_test, y_pred_lasso)}\")\n"
   ]
  },
  {
   "cell_type": "code",
   "execution_count": 79,
   "metadata": {},
   "outputs": [
    {
     "name": "stdout",
     "output_type": "stream",
     "text": [
      "------------- Random forest regression --------------\n",
      "MSE: 65.10399815725788\n",
      "MAE: 4.422901069037893\n",
      "\n"
     ]
    }
   ],
   "source": [
    "from sklearn.metrics import mean_squared_error\n",
    "\n",
    "# Random forest regression\n",
    "from sklearn.ensemble import RandomForestRegressor\n",
    "print(\"------------- Random forest regression --------------\")\n",
    "random_forest_regressor = RandomForestRegressor(n_estimators=200, max_depth=5)\n",
    "# parameters = {'n_estimators': [50, 100, 200, 500, 1000], 'max_depth': [2, 3, 5, 10, 15, 20, 30]}\n",
    "\n",
    "# random_forest_regressor = GridSearchCV(random_forest_regressor, parameters, scoring='neg_mean_squared_error', cv=5)\n",
    "random_forest_regressor.fit(X_train, y_train)\n",
    "# print(random_forest_regressor.best_params_)\n",
    "# print(random_forest_regressor.best_score_)\n",
    "y_pred_random = random_forest_regressor.predict(X_test)\n",
    "print(f\"MSE: {mean_squared_error(y_test, y_pred_random)}\")\n",
    "print(f\"MAE: {mean_absolute_error(y_test, y_pred_random)}\")\n",
    "print(f\"\")"
   ]
  },
  {
   "cell_type": "code",
   "execution_count": 31,
   "metadata": {},
   "outputs": [
    {
     "name": "stdout",
     "output_type": "stream",
     "text": [
      "{'max_depth': 5, 'n_estimators': 200}\n",
      "-232.98217284814808\n"
     ]
    }
   ],
   "source": []
  },
  {
   "cell_type": "code",
   "execution_count": 24,
   "metadata": {},
   "outputs": [
    {
     "data": {
      "text/plain": [
       "count    1301.000000\n",
       "mean       12.988336\n",
       "std        16.939520\n",
       "min         0.000000\n",
       "25%         3.168856\n",
       "50%         7.643152\n",
       "75%        14.766377\n",
       "max       162.098438\n",
       "Name: score, dtype: float64"
      ]
     },
     "execution_count": 24,
     "metadata": {},
     "output_type": "execute_result"
    }
   ],
   "source": [
    "y_test.describe()"
   ]
  },
  {
   "cell_type": "code",
   "execution_count": 81,
   "metadata": {},
   "outputs": [
    {
     "name": "stdout",
     "output_type": "stream",
     "text": [
      "------------- R2 scores --------------\n",
      "R2 score linear regression: 0.043331430078283995\n",
      "R2 score random forest regression: 0.06002901280889772\n"
     ]
    }
   ],
   "source": [
    "# R2 scores berekenen voor elk model\n",
    "from sklearn.metrics import r2_score\n",
    "print(\"------------- R2 scores --------------\")\n",
    "print(f\"R2 score linear regression: {r2_score(y_test, y_pred_lin_reg)}\")\n",
    "# print(f\"R2 score ridge regression: {r2_score(y_test, y_pred_ridge)}\")\n",
    "# print(f\"R2 score lasso regression: {r2_score(y_test, y_pred_lasso)}\")\n",
    "# print(f\"R2 score passive aggressive regression: {r2_score(y_test, y_pred_pas)}\")\n",
    "# print(f\"R2 score theil sen regression: {r2_score(y_test, y_pred_seil)}\")\n",
    "# print(f\"R2 score ransac regression: {r2_score(y_test, y_pred_ransac)}\")\n",
    "print(f\"R2 score random forest regression: {r2_score(y_test, y_pred_random)}\")\n"
   ]
  },
  {
   "cell_type": "code",
   "execution_count": 37,
   "metadata": {},
   "outputs": [
    {
     "name": "stdout",
     "output_type": "stream",
     "text": [
      "Feature ranking:\n",
      "1. feature 4 (0.492775)\n",
      "-> site_aanwezig\n",
      "2. feature 0 (0.303060)\n",
      "-> omzet\n",
      "3. feature 2 (0.092871)\n",
      "-> sector\n",
      "4. feature 6 (0.059101)\n",
      "-> stedelijkheidsklasse\n",
      "5. feature 3 (0.038998)\n",
      "-> personeelsleden\n",
      "6. feature 1 (0.012548)\n",
      "-> beursgenoteerd\n",
      "7. feature 5 (0.000645)\n",
      "-> pdf_aanwezig\n",
      "R2 score random forest regression: 0.12498674043482993\n"
     ]
    }
   ],
   "source": [
    "from sklearn.metrics import r2_score\n",
    "\n",
    "# print random forest feature importance\n",
    "importances = random_forest_regressor.feature_importances_\n",
    "std = np.std([tree.feature_importances_ for tree in random_forest_regressor.estimators_],\n",
    "                axis=0) \n",
    "indices = np.argsort(importances)[::-1]\n",
    "print(\"Feature ranking:\")\n",
    "for f in range(X_train.shape[1]):\n",
    "    print(\"%d. feature %d (%f)\" % (f + 1, indices[f], importances[indices[f]]))\n",
    "    print(f\"-> {X_train.columns[indices[f]]}\")\n",
    "\n",
    "\n",
    "print(f\"R2 score random forest regression: {r2_score(y_test, y_pred_random)}\")\n"
   ]
  },
  {
   "cell_type": "code",
   "execution_count": 64,
   "metadata": {},
   "outputs": [
    {
     "name": "stdout",
     "output_type": "stream",
     "text": [
      "------------- Mean score --------------\n",
      "Mean score: 12.979493983175198\n",
      "MSE: 286.7268529504561\n",
      "MAE: 10.290656409015744\n",
      "R2 score: -2.726747898584847e-07\n",
      "------------- Model that always predicts 2.4 --------------\n",
      "MSE: 398.8396362933567\n",
      "MAE: 10.630869247854728\n",
      "R2 score: -0.3910093907939163\n"
     ]
    }
   ],
   "source": [
    "# get score if model predicted the mean of the training set score\n",
    "from sklearn.metrics import mean_squared_error\n",
    "from sklearn.metrics import mean_absolute_error\n",
    "from sklearn.metrics import r2_score\n",
    "print(\"------------- Mean score --------------\")\n",
    "mean_score = np.mean(y_train)\n",
    "print(f\"Mean score: {mean_score}\")\n",
    "y_pred_mean = np.full(y_test.shape, mean_score)\n",
    "print(f\"MSE: {mean_squared_error(y_test, y_pred_mean)}\")\n",
    "print(f\"MAE: {mean_absolute_error(y_test, y_pred_mean)}\")\n",
    "print(f\"R2 score: {r2_score(y_test, y_pred_mean)}\")\n",
    "\n",
    "# Model that always predicts 2.4\n",
    "print(\"------------- Model that always predicts 2.4 --------------\")\n",
    "y_pred_24 = np.full(y_test.shape, 2.4)\n",
    "print(f\"MSE: {mean_squared_error(y_test, y_pred_24)}\")\n",
    "print(f\"MAE: {mean_absolute_error(y_test, y_pred_24)}\")\n",
    "print(f\"R2 score: {r2_score(y_test, y_pred_24)}\")\n",
    "\n"
   ]
  },
  {
   "cell_type": "code",
   "execution_count": 82,
   "metadata": {},
   "outputs": [
    {
     "name": "stdout",
     "output_type": "stream",
     "text": [
      "[omzet                     0.001831\n",
      "beursgenoteerd            0.000000\n",
      "sector                  485.000000\n",
      "personeelsleden           0.023392\n",
      "site_aanwezig             1.000000\n",
      "pdf_aanwezig              1.000000\n",
      "stedelijkheidsklasse      1.000000\n",
      "Name: 31438, dtype: float64]\n",
      "[3.51191143]\n"
     ]
    },
    {
     "name": "stderr",
     "output_type": "stream",
     "text": [
      "c:\\Users\\jarno\\AppData\\Local\\Programs\\Python\\Python310\\lib\\site-packages\\sklearn\\base.py:450: UserWarning: X does not have valid feature names, but RandomForestRegressor was fitted with feature names\n",
      "  warnings.warn(\n",
      "c:\\Users\\jarno\\AppData\\Local\\Programs\\Python\\Python310\\lib\\site-packages\\sklearn\\base.py:450: UserWarning: X does not have valid feature names, but RandomForestRegressor was fitted with feature names\n",
      "  warnings.warn(\n"
     ]
    },
    {
     "ename": "ValueError",
     "evalue": "X has 6 features, but RandomForestRegressor is expecting 7 features as input.",
     "output_type": "error",
     "traceback": [
      "\u001b[1;31m---------------------------------------------------------------------------\u001b[0m",
      "\u001b[1;31mValueError\u001b[0m                                Traceback (most recent call last)",
      "\u001b[1;32mc:\\Users\\jarno\\Desktop\\hogent\\jaar 3\\sem 1\\Data project 2\\DEP2G02\\scripts\\ml_model.ipynb Cell 33\u001b[0m in \u001b[0;36m<cell line: 15>\u001b[1;34m()\u001b[0m\n\u001b[0;32m     <a href='vscode-notebook-cell:/c%3A/Users/jarno/Desktop/hogent/jaar%203/sem%201/Data%20project%202/DEP2G02/scripts/ml_model.ipynb#X40sZmlsZQ%3D%3D?line=12'>13</a>\u001b[0m \u001b[39mprint\u001b[39m(loaded_model\u001b[39m.\u001b[39mpredict([new_data]))\n\u001b[0;32m     <a href='vscode-notebook-cell:/c%3A/Users/jarno/Desktop/hogent/jaar%203/sem%201/Data%20project%202/DEP2G02/scripts/ml_model.ipynb#X40sZmlsZQ%3D%3D?line=13'>14</a>\u001b[0m new_data \u001b[39m=\u001b[39m [\u001b[39m0.00438\u001b[39m, \u001b[39m0\u001b[39m, \u001b[39m375.0\u001b[39m, \u001b[39m0\u001b[39m, \u001b[39m0\u001b[39m, \u001b[39m1\u001b[39m]\n\u001b[1;32m---> <a href='vscode-notebook-cell:/c%3A/Users/jarno/Desktop/hogent/jaar%203/sem%201/Data%20project%202/DEP2G02/scripts/ml_model.ipynb#X40sZmlsZQ%3D%3D?line=14'>15</a>\u001b[0m \u001b[39mprint\u001b[39m(loaded_model\u001b[39m.\u001b[39;49mpredict([new_data]))\n",
      "File \u001b[1;32mc:\\Users\\jarno\\AppData\\Local\\Programs\\Python\\Python310\\lib\\site-packages\\sklearn\\ensemble\\_forest.py:991\u001b[0m, in \u001b[0;36mForestRegressor.predict\u001b[1;34m(self, X)\u001b[0m\n\u001b[0;32m    989\u001b[0m check_is_fitted(\u001b[39mself\u001b[39m)\n\u001b[0;32m    990\u001b[0m \u001b[39m# Check data\u001b[39;00m\n\u001b[1;32m--> 991\u001b[0m X \u001b[39m=\u001b[39m \u001b[39mself\u001b[39;49m\u001b[39m.\u001b[39;49m_validate_X_predict(X)\n\u001b[0;32m    993\u001b[0m \u001b[39m# Assign chunk of trees to jobs\u001b[39;00m\n\u001b[0;32m    994\u001b[0m n_jobs, _, _ \u001b[39m=\u001b[39m _partition_estimators(\u001b[39mself\u001b[39m\u001b[39m.\u001b[39mn_estimators, \u001b[39mself\u001b[39m\u001b[39m.\u001b[39mn_jobs)\n",
      "File \u001b[1;32mc:\\Users\\jarno\\AppData\\Local\\Programs\\Python\\Python310\\lib\\site-packages\\sklearn\\ensemble\\_forest.py:605\u001b[0m, in \u001b[0;36mBaseForest._validate_X_predict\u001b[1;34m(self, X)\u001b[0m\n\u001b[0;32m    602\u001b[0m \u001b[39m\"\"\"\u001b[39;00m\n\u001b[0;32m    603\u001b[0m \u001b[39mValidate X whenever one tries to predict, apply, predict_proba.\"\"\"\u001b[39;00m\n\u001b[0;32m    604\u001b[0m check_is_fitted(\u001b[39mself\u001b[39m)\n\u001b[1;32m--> 605\u001b[0m X \u001b[39m=\u001b[39m \u001b[39mself\u001b[39;49m\u001b[39m.\u001b[39;49m_validate_data(X, dtype\u001b[39m=\u001b[39;49mDTYPE, accept_sparse\u001b[39m=\u001b[39;49m\u001b[39m\"\u001b[39;49m\u001b[39mcsr\u001b[39;49m\u001b[39m\"\u001b[39;49m, reset\u001b[39m=\u001b[39;49m\u001b[39mFalse\u001b[39;49;00m)\n\u001b[0;32m    606\u001b[0m \u001b[39mif\u001b[39;00m issparse(X) \u001b[39mand\u001b[39;00m (X\u001b[39m.\u001b[39mindices\u001b[39m.\u001b[39mdtype \u001b[39m!=\u001b[39m np\u001b[39m.\u001b[39mintc \u001b[39mor\u001b[39;00m X\u001b[39m.\u001b[39mindptr\u001b[39m.\u001b[39mdtype \u001b[39m!=\u001b[39m np\u001b[39m.\u001b[39mintc):\n\u001b[0;32m    607\u001b[0m     \u001b[39mraise\u001b[39;00m \u001b[39mValueError\u001b[39;00m(\u001b[39m\"\u001b[39m\u001b[39mNo support for np.int64 index based sparse matrices\u001b[39m\u001b[39m\"\u001b[39m)\n",
      "File \u001b[1;32mc:\\Users\\jarno\\AppData\\Local\\Programs\\Python\\Python310\\lib\\site-packages\\sklearn\\base.py:600\u001b[0m, in \u001b[0;36mBaseEstimator._validate_data\u001b[1;34m(self, X, y, reset, validate_separately, **check_params)\u001b[0m\n\u001b[0;32m    597\u001b[0m     out \u001b[39m=\u001b[39m X, y\n\u001b[0;32m    599\u001b[0m \u001b[39mif\u001b[39;00m \u001b[39mnot\u001b[39;00m no_val_X \u001b[39mand\u001b[39;00m check_params\u001b[39m.\u001b[39mget(\u001b[39m\"\u001b[39m\u001b[39mensure_2d\u001b[39m\u001b[39m\"\u001b[39m, \u001b[39mTrue\u001b[39;00m):\n\u001b[1;32m--> 600\u001b[0m     \u001b[39mself\u001b[39;49m\u001b[39m.\u001b[39;49m_check_n_features(X, reset\u001b[39m=\u001b[39;49mreset)\n\u001b[0;32m    602\u001b[0m \u001b[39mreturn\u001b[39;00m out\n",
      "File \u001b[1;32mc:\\Users\\jarno\\AppData\\Local\\Programs\\Python\\Python310\\lib\\site-packages\\sklearn\\base.py:400\u001b[0m, in \u001b[0;36mBaseEstimator._check_n_features\u001b[1;34m(self, X, reset)\u001b[0m\n\u001b[0;32m    397\u001b[0m     \u001b[39mreturn\u001b[39;00m\n\u001b[0;32m    399\u001b[0m \u001b[39mif\u001b[39;00m n_features \u001b[39m!=\u001b[39m \u001b[39mself\u001b[39m\u001b[39m.\u001b[39mn_features_in_:\n\u001b[1;32m--> 400\u001b[0m     \u001b[39mraise\u001b[39;00m \u001b[39mValueError\u001b[39;00m(\n\u001b[0;32m    401\u001b[0m         \u001b[39mf\u001b[39m\u001b[39m\"\u001b[39m\u001b[39mX has \u001b[39m\u001b[39m{\u001b[39;00mn_features\u001b[39m}\u001b[39;00m\u001b[39m features, but \u001b[39m\u001b[39m{\u001b[39;00m\u001b[39mself\u001b[39m\u001b[39m.\u001b[39m\u001b[39m__class__\u001b[39m\u001b[39m.\u001b[39m\u001b[39m__name__\u001b[39m\u001b[39m}\u001b[39;00m\u001b[39m \u001b[39m\u001b[39m\"\u001b[39m\n\u001b[0;32m    402\u001b[0m         \u001b[39mf\u001b[39m\u001b[39m\"\u001b[39m\u001b[39mis expecting \u001b[39m\u001b[39m{\u001b[39;00m\u001b[39mself\u001b[39m\u001b[39m.\u001b[39mn_features_in_\u001b[39m}\u001b[39;00m\u001b[39m features as input.\u001b[39m\u001b[39m\"\u001b[39m\n\u001b[0;32m    403\u001b[0m     )\n",
      "\u001b[1;31mValueError\u001b[0m: X has 6 features, but RandomForestRegressor is expecting 7 features as input."
     ]
    }
   ],
   "source": [
    "# saving the best model\n",
    "import pickle\n",
    "filename = 'final_model.sav'\n",
    "pickle.dump(random_forest_regressor, open(filename, 'wb'))\n",
    "\n",
    "# load the model from disk\n",
    "loaded_model = pickle.load(open(filename, 'rb'))\n",
    "result = loaded_model.score(X_test, y_test)\n",
    "\n",
    "# make a prediction\n",
    "new_data = X_test.iloc[0]\n",
    "print([new_data])\n",
    "print(loaded_model.predict([new_data]))\n",
    "new_data = [0.00438, 0, 375.0, 0, 0, 1]\n",
    "print(loaded_model.predict([new_data]))\n",
    "# shape to 2d array (1, 6)\n",
    "# loaded_model.predict(np.shape([[0.00438, False, 375.0, 0, 0, 1]], -1))\n"
   ]
  },
  {
   "cell_type": "code",
   "execution_count": 62,
   "metadata": {},
   "outputs": [
    {
     "data": {
      "text/html": [
       "<div>\n",
       "<style scoped>\n",
       "    .dataframe tbody tr th:only-of-type {\n",
       "        vertical-align: middle;\n",
       "    }\n",
       "\n",
       "    .dataframe tbody tr th {\n",
       "        vertical-align: top;\n",
       "    }\n",
       "\n",
       "    .dataframe thead th {\n",
       "        text-align: right;\n",
       "    }\n",
       "</style>\n",
       "<table border=\"1\" class=\"dataframe\">\n",
       "  <thead>\n",
       "    <tr style=\"text-align: right;\">\n",
       "      <th></th>\n",
       "      <th>omzet</th>\n",
       "      <th>beursgenoteerd</th>\n",
       "      <th>sector</th>\n",
       "      <th>personeelsleden</th>\n",
       "      <th>site_aanwezig</th>\n",
       "      <th>pdf_aanwezig</th>\n",
       "      <th>score</th>\n",
       "    </tr>\n",
       "  </thead>\n",
       "  <tbody>\n",
       "    <tr>\n",
       "      <th>0</th>\n",
       "      <td>0.021860</td>\n",
       "      <td>0.0</td>\n",
       "      <td>378.0</td>\n",
       "      <td>0.070175</td>\n",
       "      <td>1</td>\n",
       "      <td>1</td>\n",
       "      <td>0.131380</td>\n",
       "    </tr>\n",
       "    <tr>\n",
       "      <th>1</th>\n",
       "      <td>0.029976</td>\n",
       "      <td>1.0</td>\n",
       "      <td>378.0</td>\n",
       "      <td>0.175439</td>\n",
       "      <td>1</td>\n",
       "      <td>1</td>\n",
       "      <td>0.013276</td>\n",
       "    </tr>\n",
       "    <tr>\n",
       "      <th>2</th>\n",
       "      <td>0.015178</td>\n",
       "      <td>0.0</td>\n",
       "      <td>13.0</td>\n",
       "      <td>0.438596</td>\n",
       "      <td>0</td>\n",
       "      <td>1</td>\n",
       "      <td>0.003428</td>\n",
       "    </tr>\n",
       "    <tr>\n",
       "      <th>3</th>\n",
       "      <td>0.014047</td>\n",
       "      <td>0.0</td>\n",
       "      <td>377.0</td>\n",
       "      <td>0.128655</td>\n",
       "      <td>1</td>\n",
       "      <td>1</td>\n",
       "      <td>0.043966</td>\n",
       "    </tr>\n",
       "    <tr>\n",
       "      <th>4</th>\n",
       "      <td>0.025320</td>\n",
       "      <td>0.0</td>\n",
       "      <td>378.0</td>\n",
       "      <td>0.242690</td>\n",
       "      <td>1</td>\n",
       "      <td>1</td>\n",
       "      <td>0.107927</td>\n",
       "    </tr>\n",
       "    <tr>\n",
       "      <th>...</th>\n",
       "      <td>...</td>\n",
       "      <td>...</td>\n",
       "      <td>...</td>\n",
       "      <td>...</td>\n",
       "      <td>...</td>\n",
       "      <td>...</td>\n",
       "      <td>...</td>\n",
       "    </tr>\n",
       "    <tr>\n",
       "      <th>12997</th>\n",
       "      <td>0.001454</td>\n",
       "      <td>0.0</td>\n",
       "      <td>99.0</td>\n",
       "      <td>0.020468</td>\n",
       "      <td>0</td>\n",
       "      <td>1</td>\n",
       "      <td>0.002817</td>\n",
       "    </tr>\n",
       "    <tr>\n",
       "      <th>12998</th>\n",
       "      <td>0.000000</td>\n",
       "      <td>0.0</td>\n",
       "      <td>496.0</td>\n",
       "      <td>0.143275</td>\n",
       "      <td>1</td>\n",
       "      <td>0</td>\n",
       "      <td>0.004862</td>\n",
       "    </tr>\n",
       "    <tr>\n",
       "      <th>12999</th>\n",
       "      <td>0.056761</td>\n",
       "      <td>0.0</td>\n",
       "      <td>556.0</td>\n",
       "      <td>0.058480</td>\n",
       "      <td>0</td>\n",
       "      <td>1</td>\n",
       "      <td>0.005119</td>\n",
       "    </tr>\n",
       "    <tr>\n",
       "      <th>13000</th>\n",
       "      <td>0.009226</td>\n",
       "      <td>0.0</td>\n",
       "      <td>373.0</td>\n",
       "      <td>0.078947</td>\n",
       "      <td>1</td>\n",
       "      <td>1</td>\n",
       "      <td>0.016008</td>\n",
       "    </tr>\n",
       "    <tr>\n",
       "      <th>13001</th>\n",
       "      <td>0.000970</td>\n",
       "      <td>0.0</td>\n",
       "      <td>605.0</td>\n",
       "      <td>0.020468</td>\n",
       "      <td>1</td>\n",
       "      <td>1</td>\n",
       "      <td>0.002531</td>\n",
       "    </tr>\n",
       "  </tbody>\n",
       "</table>\n",
       "<p>13002 rows × 7 columns</p>\n",
       "</div>"
      ],
      "text/plain": [
       "          omzet beursgenoteerd sector  personeelsleden site_aanwezig  \\\n",
       "0      0.021860            0.0  378.0         0.070175             1   \n",
       "1      0.029976            1.0  378.0         0.175439             1   \n",
       "2      0.015178            0.0   13.0         0.438596             0   \n",
       "3      0.014047            0.0  377.0         0.128655             1   \n",
       "4      0.025320            0.0  378.0         0.242690             1   \n",
       "...         ...            ...    ...              ...           ...   \n",
       "12997  0.001454            0.0   99.0         0.020468             0   \n",
       "12998  0.000000            0.0  496.0         0.143275             1   \n",
       "12999  0.056761            0.0  556.0         0.058480             0   \n",
       "13000  0.009226            0.0  373.0         0.078947             1   \n",
       "13001  0.000970            0.0  605.0         0.020468             1   \n",
       "\n",
       "      pdf_aanwezig     score  \n",
       "0                1  0.131380  \n",
       "1                1  0.013276  \n",
       "2                1  0.003428  \n",
       "3                1  0.043966  \n",
       "4                1  0.107927  \n",
       "...            ...       ...  \n",
       "12997            1  0.002817  \n",
       "12998            0  0.004862  \n",
       "12999            1  0.005119  \n",
       "13000            1  0.016008  \n",
       "13001            1  0.002531  \n",
       "\n",
       "[13002 rows x 7 columns]"
      ]
     },
     "execution_count": 62,
     "metadata": {},
     "output_type": "execute_result"
    }
   ],
   "source": [
    "dataframe\n"
   ]
  },
  {
   "cell_type": "code",
   "execution_count": null,
   "metadata": {},
   "outputs": [],
   "source": [
    "# visualise how randomforestregressor works\n",
    "from sklearn.tree import export_graphviz\n",
    "import pydot\n",
    "tree = random_forest_regressor.estimators_[5]\n",
    "export_graphviz(tree, out_file = 'tree.dot', feature_names = X_train.columns, rounded = True, precision = 1)\n",
    "(graph, ) = pydot.graph_from_dot_file('tree.dot')\n",
    "graph.write_png('tree.png')\n"
   ]
  }
 ],
 "metadata": {
  "kernelspec": {
   "display_name": "Python 3.10.5 64-bit",
   "language": "python",
   "name": "python3"
  },
  "language_info": {
   "codemirror_mode": {
    "name": "ipython",
    "version": 3
   },
   "file_extension": ".py",
   "mimetype": "text/x-python",
   "name": "python",
   "nbconvert_exporter": "python",
   "pygments_lexer": "ipython3",
   "version": "3.10.5"
  },
  "orig_nbformat": 4,
  "vscode": {
   "interpreter": {
    "hash": "ac961c8513c096ff1f8d2e1b60b85bf4af3ed3048501804ac46c5e57531d9fe0"
   }
  }
 },
 "nbformat": 4,
 "nbformat_minor": 2
}

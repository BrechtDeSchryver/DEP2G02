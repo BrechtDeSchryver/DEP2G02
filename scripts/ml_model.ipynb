{
 "cells": [
  {
   "cell_type": "code",
   "execution_count": 3,
   "metadata": {},
   "outputs": [],
   "source": [
    "import pandas as pd\n",
    "import numpy as np\n",
    "from sklearn.model_selection import train_test_split\n",
    "from sklearn.linear_model import LogisticRegression\n",
    "from sklearn.preprocessing import OrdinalEncoder\n",
    "from sklearn.metrics import accuracy_score\n",
    "from sklearn.preprocessing import MinMaxScaler\n",
    "from sqlfunctions import get_datapunten_voor_model\n",
    "import pickle"
   ]
  },
  {
   "attachments": {},
   "cell_type": "markdown",
   "metadata": {},
   "source": [
    "## Notities\n",
    "Datapunten AI:\n",
    "- omzet\n",
    "- Beursgenoteerd of niet\n",
    "- sector (nacebel code)\n",
    "- aantal personeelsleden\n",
    "- stedelijkheidsklasse\n",
    "- site_aanwezig\n",
    "- pdf_aanwezig"
   ]
  },
  {
   "cell_type": "code",
   "execution_count": 12,
   "metadata": {},
   "outputs": [],
   "source": [
    "def get_initial_dataframe():\n",
    "    data = get_datapunten_voor_model()\n",
    "    dataframe = pd.DataFrame(data, columns=['ondernemingnr', 'omzet' ,'beursgenoteerd', 'sector', 'personeelsleden', 'site_aanwezig', 'pdf_aanwezig','stedelijkheidsklasse', 'score'])\n",
    "    dataframe.drop(\"ondernemingnr\", axis=1, inplace=True)\n",
    "    return dataframe\n",
    "\n",
    "def transform_data(data):\n",
    "    data[\"sector\"] = data[\"sector\"].astype('category')\n",
    "    data[\"beursgenoteerd\"] = data[\"beursgenoteerd\"].astype('category')\n",
    "    data[\"pdf_aanwezig\"] = data[\"pdf_aanwezig\"].astype('category')\n",
    "    data[\"site_aanwezig\"] = data[\"site_aanwezig\"].astype('category')\n",
    "    data[\"stedelijkheidsklasse\"] = data[\"stedelijkheidsklasse\"].astype('category')\n",
    "\n",
    "    min_max_scaler = MinMaxScaler()\n",
    "    # data[\"omzet\"] = min_max_scaler.fit_transform(data[[\"omzet\"]])\n",
    "    # pickle.dump(min_max_scaler, open(\"min_max_scaler_omzet.sav\", \"wb\"))\n",
    "\n",
    "    min_max_scaler = MinMaxScaler()\n",
    "    # data[\"personeelsleden\"] = min_max_scaler.fit_transform(data[[\"personeelsleden\"]])\n",
    "    # pickle.dump(min_max_scaler, open(\"min_max_scaler_personeelsleden.sav\", \"wb\"))\n",
    "\n",
    "    # fill omzet values that are 0 with the mean\n",
    "    data[\"omzet\"] = data[\"omzet\"].replace(0, np.nan)\n",
    "    data[\"omzet\"] = data[\"omzet\"].fillna(data[\"omzet\"].mean())\n",
    "    \n",
    "\n",
    "    data[\"beursgenoteerd\"] = data[\"beursgenoteerd\"].cat.codes\n",
    "    data[\"beursgenoteerd\"] = data[\"beursgenoteerd\"].astype('category')\n",
    "    \n",
    "    data[\"personeelsleden\"] = data[\"personeelsleden\"].astype('float')\n",
    "    data[\"score\"] = data[\"score\"].astype('float')\n",
    "\n",
    "    # getting rid of all values that are empty\n",
    "    \n",
    "    def to_float(x):\n",
    "        if x == '':\n",
    "            print(x)\n",
    "            return np.nan\n",
    "        else:\n",
    "            return float(x)\n",
    "\n",
    "    for col in data.columns:\n",
    "        data[col] = data[col].apply(to_float)\n",
    "    \n",
    "    data = data.dropna()\n",
    "\n",
    "    data[\"sector\"] = data[\"sector\"].astype('category')\n",
    "    \n",
    "\n",
    "    return data"
   ]
  },
  {
   "cell_type": "code",
   "execution_count": 14,
   "metadata": {},
   "outputs": [
    {
     "name": "stdout",
     "output_type": "stream",
     "text": [
      "\n",
      "<class 'pandas.core.frame.DataFrame'>\n",
      "Int64Index: 13002 entries, 0 to 13471\n",
      "Data columns (total 8 columns):\n",
      " #   Column                Non-Null Count  Dtype   \n",
      "---  ------                --------------  -----   \n",
      " 0   omzet                 13002 non-null  float64 \n",
      " 1   beursgenoteerd        13002 non-null  category\n",
      " 2   sector                13002 non-null  category\n",
      " 3   personeelsleden       13002 non-null  float64 \n",
      " 4   site_aanwezig         13002 non-null  category\n",
      " 5   pdf_aanwezig          13002 non-null  category\n",
      " 6   stedelijkheidsklasse  13002 non-null  category\n",
      " 7   score                 13002 non-null  float64 \n",
      "dtypes: category(5), float64(3)\n",
      "memory usage: 505.0 KB\n",
      "None\n",
      "<class 'pandas.core.frame.DataFrame'>\n",
      "Int64Index: 13002 entries, 0 to 13471\n",
      "Data columns (total 8 columns):\n",
      " #   Column                Non-Null Count  Dtype   \n",
      "---  ------                --------------  -----   \n",
      " 0   omzet                 13002 non-null  float64 \n",
      " 1   beursgenoteerd        13002 non-null  category\n",
      " 2   sector                13002 non-null  category\n",
      " 3   personeelsleden       13002 non-null  float64 \n",
      " 4   site_aanwezig         13002 non-null  category\n",
      " 5   pdf_aanwezig          13002 non-null  category\n",
      " 6   stedelijkheidsklasse  13002 non-null  category\n",
      " 7   score                 13002 non-null  float64 \n",
      "dtypes: category(5), float64(3)\n",
      "memory usage: 505.0 KB\n",
      "None\n"
     ]
    },
    {
     "name": "stderr",
     "output_type": "stream",
     "text": [
      "C:\\Users\\jarno\\AppData\\Local\\Temp\\ipykernel_32784\\2967570457.py:47: SettingWithCopyWarning: \n",
      "A value is trying to be set on a copy of a slice from a DataFrame.\n",
      "Try using .loc[row_indexer,col_indexer] = value instead\n",
      "\n",
      "See the caveats in the documentation: https://pandas.pydata.org/pandas-docs/stable/user_guide/indexing.html#returning-a-view-versus-a-copy\n",
      "  data[\"sector\"] = data[\"sector\"].astype('category')\n"
     ]
    }
   ],
   "source": [
    "dataframe = get_initial_dataframe()\n",
    "dataframe = transform_data(dataframe)\n",
    "print(dataframe.info())\n",
    "\n",
    "print(dataframe.info())\n"
   ]
  },
  {
   "cell_type": "code",
   "execution_count": 15,
   "metadata": {},
   "outputs": [],
   "source": [
    "df = dataframe[dataframe[\"omzet\"] == 0]\n",
    "# TODO:\n",
    "# 1. Sector zorgen dat category blijft\n",
    "# 2. degene met omzet 0 wegdoen"
   ]
  },
  {
   "cell_type": "code",
   "execution_count": 16,
   "metadata": {},
   "outputs": [
    {
     "name": "stdout",
     "output_type": "stream",
     "text": [
      "<class 'pandas.core.frame.DataFrame'>\n",
      "Int64Index: 13002 entries, 0 to 13471\n",
      "Data columns (total 8 columns):\n",
      " #   Column                Non-Null Count  Dtype   \n",
      "---  ------                --------------  -----   \n",
      " 0   omzet                 13002 non-null  float64 \n",
      " 1   beursgenoteerd        13002 non-null  category\n",
      " 2   sector                13002 non-null  category\n",
      " 3   personeelsleden       13002 non-null  float64 \n",
      " 4   site_aanwezig         13002 non-null  category\n",
      " 5   pdf_aanwezig          13002 non-null  category\n",
      " 6   stedelijkheidsklasse  13002 non-null  category\n",
      " 7   score                 13002 non-null  float64 \n",
      "dtypes: category(5), float64(3)\n",
      "memory usage: 505.0 KB\n"
     ]
    }
   ],
   "source": [
    "dataframe.head()\n",
    "dataframe.info()"
   ]
  },
  {
   "cell_type": "code",
   "execution_count": 17,
   "metadata": {},
   "outputs": [
    {
     "data": {
      "text/html": [
       "<div>\n",
       "<style scoped>\n",
       "    .dataframe tbody tr th:only-of-type {\n",
       "        vertical-align: middle;\n",
       "    }\n",
       "\n",
       "    .dataframe tbody tr th {\n",
       "        vertical-align: top;\n",
       "    }\n",
       "\n",
       "    .dataframe thead th {\n",
       "        text-align: right;\n",
       "    }\n",
       "</style>\n",
       "<table border=\"1\" class=\"dataframe\">\n",
       "  <thead>\n",
       "    <tr style=\"text-align: right;\">\n",
       "      <th></th>\n",
       "      <th>omzet</th>\n",
       "      <th>beursgenoteerd</th>\n",
       "      <th>sector</th>\n",
       "      <th>personeelsleden</th>\n",
       "      <th>site_aanwezig</th>\n",
       "      <th>pdf_aanwezig</th>\n",
       "      <th>stedelijkheidsklasse</th>\n",
       "      <th>score</th>\n",
       "    </tr>\n",
       "  </thead>\n",
       "  <tbody>\n",
       "    <tr>\n",
       "      <th>322</th>\n",
       "      <td>47465600.0</td>\n",
       "      <td>0.0</td>\n",
       "      <td>41203.0</td>\n",
       "      <td>131.0</td>\n",
       "      <td>1.0</td>\n",
       "      <td>1.0</td>\n",
       "      <td>0.0</td>\n",
       "      <td>6.436944</td>\n",
       "    </tr>\n",
       "    <tr>\n",
       "      <th>580</th>\n",
       "      <td>35346386.0</td>\n",
       "      <td>0.0</td>\n",
       "      <td>46660.0</td>\n",
       "      <td>131.0</td>\n",
       "      <td>0.0</td>\n",
       "      <td>1.0</td>\n",
       "      <td>2.0</td>\n",
       "      <td>1.058113</td>\n",
       "    </tr>\n",
       "    <tr>\n",
       "      <th>1281</th>\n",
       "      <td>19626065.0</td>\n",
       "      <td>0.0</td>\n",
       "      <td>43211.0</td>\n",
       "      <td>131.0</td>\n",
       "      <td>1.0</td>\n",
       "      <td>1.0</td>\n",
       "      <td>1.0</td>\n",
       "      <td>4.438853</td>\n",
       "    </tr>\n",
       "    <tr>\n",
       "      <th>8092</th>\n",
       "      <td>24207188.0</td>\n",
       "      <td>0.0</td>\n",
       "      <td>49410.0</td>\n",
       "      <td>131.0</td>\n",
       "      <td>1.0</td>\n",
       "      <td>1.0</td>\n",
       "      <td>0.0</td>\n",
       "      <td>21.358442</td>\n",
       "    </tr>\n",
       "    <tr>\n",
       "      <th>10078</th>\n",
       "      <td>16577763.0</td>\n",
       "      <td>0.0</td>\n",
       "      <td>88994.0</td>\n",
       "      <td>131.0</td>\n",
       "      <td>1.0</td>\n",
       "      <td>1.0</td>\n",
       "      <td>2.0</td>\n",
       "      <td>1.040463</td>\n",
       "    </tr>\n",
       "  </tbody>\n",
       "</table>\n",
       "</div>"
      ],
      "text/plain": [
       "            omzet beursgenoteerd   sector  personeelsleden site_aanwezig  \\\n",
       "322    47465600.0            0.0  41203.0            131.0           1.0   \n",
       "580    35346386.0            0.0  46660.0            131.0           0.0   \n",
       "1281   19626065.0            0.0  43211.0            131.0           1.0   \n",
       "8092   24207188.0            0.0  49410.0            131.0           1.0   \n",
       "10078  16577763.0            0.0  88994.0            131.0           1.0   \n",
       "\n",
       "      pdf_aanwezig stedelijkheidsklasse      score  \n",
       "322            1.0                  0.0   6.436944  \n",
       "580            1.0                  2.0   1.058113  \n",
       "1281           1.0                  1.0   4.438853  \n",
       "8092           1.0                  0.0  21.358442  \n",
       "10078          1.0                  2.0   1.040463  "
      ]
     },
     "execution_count": 17,
     "metadata": {},
     "output_type": "execute_result"
    }
   ],
   "source": [
    "# get row with 131 employees\n",
    "dataframe.loc[dataframe['personeelsleden'] == 131]"
   ]
  },
  {
   "cell_type": "code",
   "execution_count": 29,
   "metadata": {},
   "outputs": [
    {
     "data": {
      "text/plain": [
       "<matplotlib.legend.Legend at 0x1f35f7b0e50>"
      ]
     },
     "execution_count": 29,
     "metadata": {},
     "output_type": "execute_result"
    },
    {
     "data": {
      "image/png": "[encoded data removed]",
      "text/plain": [
       "<Figure size 432x288 with 1 Axes>"
      ]
     },
     "metadata": {
      "needs_background": "light"
     },
     "output_type": "display_data"
    }
   ],
   "source": [
    "# Visualize data\n",
    "# plot histogram\n",
    "from matplotlib import pyplot as plt\n",
    "\n",
    "dataframe[\"personeelsleden\"].hist(label=\"personeelsleden\", alpha=0.5)\n",
    "dataframe[\"omzet\"].hist(label=\"omzet\", alpha=0.5)\n",
    "dataframe[\"score\"].hist(label=\"score\", alpha=0.5)\n",
    "plt.legend()\n",
    "\n"
   ]
  },
  {
   "cell_type": "code",
   "execution_count": 37,
   "metadata": {},
   "outputs": [
    {
     "name": "stdout",
     "output_type": "stream",
     "text": [
      "                    omzet  personeelsleden     score\n",
      "omzet            1.000000         0.371883  0.134631\n",
      "personeelsleden  0.371883         1.000000  0.090769\n",
      "score            0.134631         0.090769  1.000000\n"
     ]
    },
    {
     "data": {
      "image/png": "[encoded data removed]",
      "text/plain": [
       "<Figure size 864x576 with 9 Axes>"
      ]
     },
     "metadata": {
      "needs_background": "light"
     },
     "output_type": "display_data"
    },
    {
     "name": "stdout",
     "output_type": "stream",
     "text": [
      "                    omzet  personeelsleden     score\n",
      "omzet            1.000000         0.371883  0.134631\n",
      "personeelsleden  0.371883         1.000000  0.090769\n",
      "score            0.134631         0.090769  1.000000\n"
     ]
    }
   ],
   "source": [
    "# plot correlation matrix\n",
    "import matplotlib.pyplot as plt\n",
    "import seaborn as sns\n",
    "corr = dataframe.corr()\n",
    "print(corr)\n",
    "corr[\"score\"].sort_values(ascending=False)\n",
    "from pandas.plotting import scatter_matrix\n",
    "attributes = [\"score\", \"omzet\", \"personeelsleden\", \"beursgenoteerd\"]\n",
    "scatter_matrix(dataframe[attributes], figsize=(12, 8))\n",
    "plt.show()\n",
    "\n",
    "\n",
    "print(corr)\n",
    "\n"
   ]
  },
  {
   "cell_type": "code",
   "execution_count": 42,
   "metadata": {},
   "outputs": [
    {
     "name": "stdout",
     "output_type": "stream",
     "text": [
      "count    13002.000000\n",
      "mean         4.328370\n",
      "std          5.525646\n",
      "min          0.000000\n",
      "25%          1.048360\n",
      "50%          2.427379\n",
      "75%          5.047753\n",
      "max         69.414583\n",
      "Name: score, dtype: float64\n",
      "Average score bedrijven with jaarrekening: 4.238338342672999\n",
      "Average score bedrijven without jaarrekening: 6.4595743786660345\n",
      "Average score bedrijven with site: 4.794731964571291\n",
      "Average score bedrijven without site: 3.273116285536595\n",
      "Average score bedrijven with both pdf and site: 4.691390156299451\n"
     ]
    },
    {
     "data": {
      "image/png": "[encoded data removed]",
      "text/plain": [
       "<Figure size 432x288 with 1 Axes>"
      ]
     },
     "metadata": {
      "needs_background": "light"
     },
     "output_type": "display_data"
    }
   ],
   "source": [
    "print(dataframe[\"score\"].describe())\n",
    "# plot a detailed histogram\n",
    "dataframe[\"score\"].hist(bins=100)\n",
    "\n",
    "# print 10 most common scores\n",
    "dataframe[\"score\"].value_counts().head(10)\n",
    "\n",
    "# print mean score\n",
    "dataframe[\"score\"].mean()\n",
    "\n",
    "# where are 75% of the scores\n",
    "dataframe[\"score\"].quantile(0.75)\n",
    "\n",
    "# average score of companies with that have pdf\n",
    "print(f\"Average score bedrijven with jaarrekening: {dataframe[dataframe['pdf_aanwezig'] == 1]['score'].mean()}\")\n",
    "print(f\"Average score bedrijven without jaarrekening: {dataframe[dataframe['pdf_aanwezig'] == 0]['score'].mean()}\")\n",
    "\n",
    "# average score of companies with that have site\n",
    "print(f\"Average score bedrijven with site: {dataframe[dataframe['site_aanwezig'] == 1]['score'].mean()}\")\n",
    "print(f\"Average score bedrijven without site: {dataframe[dataframe['site_aanwezig'] == 0]['score'].mean()}\")\n",
    "\n",
    "# average score of companies with that have both pdf and site\n",
    "print(f\"Average score bedrijven with both pdf and site: {dataframe[(dataframe['pdf_aanwezig'] == 1) & (dataframe['site_aanwezig'] == 1)]['score'].mean()}\")"
   ]
  },
  {
   "cell_type": "markdown",
   "metadata": {},
   "source": [
    "![white box ml modellen](https://drek4537l1klr.cloudfront.net/thampi/HighResolutionFigures/figure_2-2.png)\n"
   ]
  },
  {
   "cell_type": "code",
   "execution_count": 20,
   "metadata": {},
   "outputs": [
    {
     "name": "stdout",
     "output_type": "stream",
     "text": [
      "<class 'pandas.core.frame.DataFrame'>\n",
      "Int64Index: 11701 entries, 9980 to 7700\n",
      "Data columns (total 7 columns):\n",
      " #   Column                Non-Null Count  Dtype   \n",
      "---  ------                --------------  -----   \n",
      " 0   omzet                 11701 non-null  float64 \n",
      " 1   beursgenoteerd        11701 non-null  category\n",
      " 2   sector                11701 non-null  category\n",
      " 3   personeelsleden       11701 non-null  float64 \n",
      " 4   site_aanwezig         11701 non-null  category\n",
      " 5   pdf_aanwezig          11701 non-null  category\n",
      " 6   stedelijkheidsklasse  11701 non-null  category\n",
      "dtypes: category(5), float64(2)\n",
      "memory usage: 365.3 KB\n",
      "<class 'pandas.core.series.Series'>\n",
      "Int64Index: 1301 entries, 1126 to 4241\n",
      "Series name: score\n",
      "Non-Null Count  Dtype  \n",
      "--------------  -----  \n",
      "1301 non-null   float64\n",
      "dtypes: float64(1)\n",
      "memory usage: 20.3 KB\n"
     ]
    },
    {
     "data": {
      "text/html": [
       "<div>\n",
       "<style scoped>\n",
       "    .dataframe tbody tr th:only-of-type {\n",
       "        vertical-align: middle;\n",
       "    }\n",
       "\n",
       "    .dataframe tbody tr th {\n",
       "        vertical-align: top;\n",
       "    }\n",
       "\n",
       "    .dataframe thead th {\n",
       "        text-align: right;\n",
       "    }\n",
       "</style>\n",
       "<table border=\"1\" class=\"dataframe\">\n",
       "  <thead>\n",
       "    <tr style=\"text-align: right;\">\n",
       "      <th></th>\n",
       "      <th>omzet</th>\n",
       "      <th>beursgenoteerd</th>\n",
       "      <th>sector</th>\n",
       "      <th>personeelsleden</th>\n",
       "      <th>site_aanwezig</th>\n",
       "      <th>pdf_aanwezig</th>\n",
       "      <th>stedelijkheidsklasse</th>\n",
       "    </tr>\n",
       "  </thead>\n",
       "  <tbody>\n",
       "    <tr>\n",
       "      <th>9980</th>\n",
       "      <td>3.386902e+07</td>\n",
       "      <td>0.0</td>\n",
       "      <td>46319.0</td>\n",
       "      <td>49.0</td>\n",
       "      <td>1.0</td>\n",
       "      <td>1.0</td>\n",
       "      <td>0.0</td>\n",
       "    </tr>\n",
       "    <tr>\n",
       "      <th>4154</th>\n",
       "      <td>1.941809e+06</td>\n",
       "      <td>0.0</td>\n",
       "      <td>25999.0</td>\n",
       "      <td>9.0</td>\n",
       "      <td>0.0</td>\n",
       "      <td>1.0</td>\n",
       "      <td>0.0</td>\n",
       "    </tr>\n",
       "    <tr>\n",
       "      <th>8381</th>\n",
       "      <td>1.879906e+06</td>\n",
       "      <td>0.0</td>\n",
       "      <td>43310.0</td>\n",
       "      <td>12.0</td>\n",
       "      <td>1.0</td>\n",
       "      <td>1.0</td>\n",
       "      <td>0.0</td>\n",
       "    </tr>\n",
       "    <tr>\n",
       "      <th>11848</th>\n",
       "      <td>1.114040e+07</td>\n",
       "      <td>0.0</td>\n",
       "      <td>49410.0</td>\n",
       "      <td>34.0</td>\n",
       "      <td>1.0</td>\n",
       "      <td>0.0</td>\n",
       "      <td>1.0</td>\n",
       "    </tr>\n",
       "    <tr>\n",
       "      <th>13047</th>\n",
       "      <td>1.376458e+06</td>\n",
       "      <td>0.0</td>\n",
       "      <td>1610.0</td>\n",
       "      <td>14.0</td>\n",
       "      <td>1.0</td>\n",
       "      <td>1.0</td>\n",
       "      <td>0.0</td>\n",
       "    </tr>\n",
       "    <tr>\n",
       "      <th>...</th>\n",
       "      <td>...</td>\n",
       "      <td>...</td>\n",
       "      <td>...</td>\n",
       "      <td>...</td>\n",
       "      <td>...</td>\n",
       "      <td>...</td>\n",
       "      <td>...</td>\n",
       "    </tr>\n",
       "    <tr>\n",
       "      <th>12428</th>\n",
       "      <td>7.628510e+05</td>\n",
       "      <td>0.0</td>\n",
       "      <td>43130.0</td>\n",
       "      <td>17.0</td>\n",
       "      <td>1.0</td>\n",
       "      <td>1.0</td>\n",
       "      <td>0.0</td>\n",
       "    </tr>\n",
       "    <tr>\n",
       "      <th>5515</th>\n",
       "      <td>1.463745e+06</td>\n",
       "      <td>0.0</td>\n",
       "      <td>17120.0</td>\n",
       "      <td>22.0</td>\n",
       "      <td>1.0</td>\n",
       "      <td>1.0</td>\n",
       "      <td>1.0</td>\n",
       "    </tr>\n",
       "    <tr>\n",
       "      <th>5723</th>\n",
       "      <td>2.417031e+06</td>\n",
       "      <td>0.0</td>\n",
       "      <td>52290.0</td>\n",
       "      <td>16.0</td>\n",
       "      <td>1.0</td>\n",
       "      <td>1.0</td>\n",
       "      <td>2.0</td>\n",
       "    </tr>\n",
       "    <tr>\n",
       "      <th>897</th>\n",
       "      <td>1.154600e+07</td>\n",
       "      <td>0.0</td>\n",
       "      <td>11050.0</td>\n",
       "      <td>35.0</td>\n",
       "      <td>1.0</td>\n",
       "      <td>1.0</td>\n",
       "      <td>1.0</td>\n",
       "    </tr>\n",
       "    <tr>\n",
       "      <th>7700</th>\n",
       "      <td>1.703150e+07</td>\n",
       "      <td>0.0</td>\n",
       "      <td>49410.0</td>\n",
       "      <td>81.0</td>\n",
       "      <td>1.0</td>\n",
       "      <td>1.0</td>\n",
       "      <td>2.0</td>\n",
       "    </tr>\n",
       "  </tbody>\n",
       "</table>\n",
       "<p>11701 rows × 7 columns</p>\n",
       "</div>"
      ],
      "text/plain": [
       "              omzet beursgenoteerd   sector  personeelsleden site_aanwezig  \\\n",
       "9980   3.386902e+07            0.0  46319.0             49.0           1.0   \n",
       "4154   1.941809e+06            0.0  25999.0              9.0           0.0   \n",
       "8381   1.879906e+06            0.0  43310.0             12.0           1.0   \n",
       "11848  1.114040e+07            0.0  49410.0             34.0           1.0   \n",
       "13047  1.376458e+06            0.0   1610.0             14.0           1.0   \n",
       "...             ...            ...      ...              ...           ...   \n",
       "12428  7.628510e+05            0.0  43130.0             17.0           1.0   \n",
       "5515   1.463745e+06            0.0  17120.0             22.0           1.0   \n",
       "5723   2.417031e+06            0.0  52290.0             16.0           1.0   \n",
       "897    1.154600e+07            0.0  11050.0             35.0           1.0   \n",
       "7700   1.703150e+07            0.0  49410.0             81.0           1.0   \n",
       "\n",
       "      pdf_aanwezig stedelijkheidsklasse  \n",
       "9980           1.0                  0.0  \n",
       "4154           1.0                  0.0  \n",
       "8381           1.0                  0.0  \n",
       "11848          0.0                  1.0  \n",
       "13047          1.0                  0.0  \n",
       "...            ...                  ...  \n",
       "12428          1.0                  0.0  \n",
       "5515           1.0                  1.0  \n",
       "5723           1.0                  2.0  \n",
       "897            1.0                  1.0  \n",
       "7700           1.0                  2.0  \n",
       "\n",
       "[11701 rows x 7 columns]"
      ]
     },
     "execution_count": 20,
     "metadata": {},
     "output_type": "execute_result"
    }
   ],
   "source": [
    "# Model schrijven\n",
    "# ! Kan pas gerund worden vanaf we alle data hebben\n",
    "# drop null values\n",
    "\n",
    "X = dataframe.drop(columns=[\"score\"])\n",
    "y = dataframe[\"score\"]\n",
    "\n",
    "# Split data into train and test set\n",
    "X_train, X_test, y_train, y_test = train_test_split(X, y, test_size=0.1, random_state=42)\n",
    "\n",
    "X_train.info()\n",
    "y_test.info()\n",
    "\n",
    "X_train"
   ]
  },
  {
   "cell_type": "code",
   "execution_count": 47,
   "metadata": {},
   "outputs": [
    {
     "name": "stdout",
     "output_type": "stream",
     "text": [
      "------------- Linear Regression --------------\n",
      "MSE: 25.510943052058995\n",
      "RMSE: 5.050835876571223\n",
      "------------- Linear Regression with omzet and personeelsleden --------------\n",
      "MSE: 25.783303527953937\n",
      "RMSE: 5.077726216324974\n",
      "------------- Linear Regression with polynomial features --------------\n",
      "MSE: 35.68510294645542\n",
      "RMSE: 5.973700942167713\n"
     ]
    }
   ],
   "source": [
    "from sklearn.metrics import mean_squared_error\n",
    "from sklearn import linear_model\n",
    "from sklearn import svm\n",
    "from sklearn.model_selection import GridSearchCV\n",
    "\n",
    "import warnings\n",
    "warnings.filterwarnings(\"ignore\", category=FutureWarning)\n",
    "\n",
    "# Linear Regression\n",
    "from sklearn.linear_model import LinearRegression\n",
    "from sklearn.preprocessing import PolynomialFeatures\n",
    "print(\"------------- Linear Regression --------------\")\n",
    "\n",
    "lin_reg = LinearRegression()\n",
    "parameters = {'fit_intercept': [True, False], 'normalize': [True, False], 'copy_X': [True, False]}\n",
    "# lin_reg = GridSearchCV(lin_reg, parameters, scoring=\"neg_mean_squared_error\", cv=5)\n",
    "lin_reg.fit(X_train, y_train)\n",
    "y_pred_lin_reg = lin_reg.predict(X_test)\n",
    "# print(f\"Best parameters: {lin_reg.best_params_}\")\n",
    "# print(f\"Best score: {lin_reg.best_score_}\")\n",
    "print(f\"MSE: {mean_squared_error(y_test, y_pred_lin_reg)}\")\n",
    "print(f\"RMSE: {np.sqrt(mean_squared_error(y_test, y_pred_lin_reg))}\")\n",
    "\n",
    "# Linear Regression with model that uses only omzet and personeelsleden\n",
    "print(\"------------- Linear Regression with omzet and personeelsleden --------------\")\n",
    "lin_reg_omzet_personeelsleden = LinearRegression()\n",
    "lin_reg_omzet_personeelsleden.fit(X_train[[\"omzet\", \"personeelsleden\"]], y_train)\n",
    "y_pred_lin_reg_omzet_personeelsleden = lin_reg_omzet_personeelsleden.predict(X_test[[\"omzet\", \"personeelsleden\"]])\n",
    "print(f\"MSE: {mean_squared_error(y_test, y_pred_lin_reg_omzet_personeelsleden)}\")\n",
    "print(f\"RMSE: {np.sqrt(mean_squared_error(y_test, y_pred_lin_reg_omzet_personeelsleden))}\")\n",
    "\n"
   ]
  },
  {
   "cell_type": "code",
   "execution_count": 51,
   "metadata": {},
   "outputs": [
    {
     "name": "stdout",
     "output_type": "stream",
     "text": [
      "------------- SVR --------------\n"
     ]
    },
    {
     "ename": "KeyboardInterrupt",
     "evalue": "",
     "output_type": "error",
     "traceback": [
      "\u001b[1;31m---------------------------------------------------------------------------\u001b[0m",
      "\u001b[1;31mKeyboardInterrupt\u001b[0m                         Traceback (most recent call last)",
      "\u001b[1;32mc:\\Users\\jarno\\Desktop\\hogent\\jaar 3\\sem 1\\Data project 2\\DEP2G02\\scripts\\ml_model.ipynb Cell 13\u001b[0m in \u001b[0;36m<cell line: 7>\u001b[1;34m()\u001b[0m\n\u001b[0;32m      <a href='vscode-notebook-cell:/c%3A/Users/jarno/Desktop/hogent/jaar%203/sem%201/Data%20project%202/DEP2G02/scripts/ml_model.ipynb#X15sZmlsZQ%3D%3D?line=4'>5</a>\u001b[0m parameters \u001b[39m=\u001b[39m {\u001b[39m'\u001b[39m\u001b[39mC\u001b[39m\u001b[39m'\u001b[39m: [\u001b[39m1\u001b[39m, \u001b[39m10\u001b[39m, \u001b[39m20\u001b[39m], \u001b[39m'\u001b[39m\u001b[39mepsilon\u001b[39m\u001b[39m'\u001b[39m: [\u001b[39m0.1\u001b[39m, \u001b[39m0.01\u001b[39m, \u001b[39m0.001\u001b[39m, \u001b[39m0.0001\u001b[39m]}\n\u001b[0;32m      <a href='vscode-notebook-cell:/c%3A/Users/jarno/Desktop/hogent/jaar%203/sem%201/Data%20project%202/DEP2G02/scripts/ml_model.ipynb#X15sZmlsZQ%3D%3D?line=5'>6</a>\u001b[0m svr_regressor \u001b[39m=\u001b[39m GridSearchCV(svr_regressor, parameters, scoring\u001b[39m=\u001b[39m\u001b[39m\"\u001b[39m\u001b[39mneg_mean_squared_error\u001b[39m\u001b[39m\"\u001b[39m, cv\u001b[39m=\u001b[39m\u001b[39m5\u001b[39m)\n\u001b[1;32m----> <a href='vscode-notebook-cell:/c%3A/Users/jarno/Desktop/hogent/jaar%203/sem%201/Data%20project%202/DEP2G02/scripts/ml_model.ipynb#X15sZmlsZQ%3D%3D?line=6'>7</a>\u001b[0m svr_regressor\u001b[39m.\u001b[39;49mfit(X_train, y_train)\n\u001b[0;32m      <a href='vscode-notebook-cell:/c%3A/Users/jarno/Desktop/hogent/jaar%203/sem%201/Data%20project%202/DEP2G02/scripts/ml_model.ipynb#X15sZmlsZQ%3D%3D?line=7'>8</a>\u001b[0m y_pred_svr \u001b[39m=\u001b[39m svr_regressor\u001b[39m.\u001b[39mpredict(X_test)\n\u001b[0;32m      <a href='vscode-notebook-cell:/c%3A/Users/jarno/Desktop/hogent/jaar%203/sem%201/Data%20project%202/DEP2G02/scripts/ml_model.ipynb#X15sZmlsZQ%3D%3D?line=8'>9</a>\u001b[0m \u001b[39mprint\u001b[39m(\u001b[39mf\u001b[39m\u001b[39m\"\u001b[39m\u001b[39mBest parameters: \u001b[39m\u001b[39m{\u001b[39;00msvr_regressor\u001b[39m.\u001b[39mbest_params_\u001b[39m}\u001b[39;00m\u001b[39m\"\u001b[39m)\n",
      "File \u001b[1;32mc:\\Users\\jarno\\AppData\\Local\\Programs\\Python\\Python310\\lib\\site-packages\\sklearn\\model_selection\\_search.py:875\u001b[0m, in \u001b[0;36mBaseSearchCV.fit\u001b[1;34m(self, X, y, groups, **fit_params)\u001b[0m\n\u001b[0;32m    869\u001b[0m     results \u001b[39m=\u001b[39m \u001b[39mself\u001b[39m\u001b[39m.\u001b[39m_format_results(\n\u001b[0;32m    870\u001b[0m         all_candidate_params, n_splits, all_out, all_more_results\n\u001b[0;32m    871\u001b[0m     )\n\u001b[0;32m    873\u001b[0m     \u001b[39mreturn\u001b[39;00m results\n\u001b[1;32m--> 875\u001b[0m \u001b[39mself\u001b[39;49m\u001b[39m.\u001b[39;49m_run_search(evaluate_candidates)\n\u001b[0;32m    877\u001b[0m \u001b[39m# multimetric is determined here because in the case of a callable\u001b[39;00m\n\u001b[0;32m    878\u001b[0m \u001b[39m# self.scoring the return type is only known after calling\u001b[39;00m\n\u001b[0;32m    879\u001b[0m first_test_score \u001b[39m=\u001b[39m all_out[\u001b[39m0\u001b[39m][\u001b[39m\"\u001b[39m\u001b[39mtest_scores\u001b[39m\u001b[39m\"\u001b[39m]\n",
      "File \u001b[1;32mc:\\Users\\jarno\\AppData\\Local\\Programs\\Python\\Python310\\lib\\site-packages\\sklearn\\model_selection\\_search.py:1379\u001b[0m, in \u001b[0;36mGridSearchCV._run_search\u001b[1;34m(self, evaluate_candidates)\u001b[0m\n\u001b[0;32m   1377\u001b[0m \u001b[39mdef\u001b[39;00m \u001b[39m_run_search\u001b[39m(\u001b[39mself\u001b[39m, evaluate_candidates):\n\u001b[0;32m   1378\u001b[0m     \u001b[39m\"\"\"Search all candidates in param_grid\"\"\"\u001b[39;00m\n\u001b[1;32m-> 1379\u001b[0m     evaluate_candidates(ParameterGrid(\u001b[39mself\u001b[39;49m\u001b[39m.\u001b[39;49mparam_grid))\n",
      "File \u001b[1;32mc:\\Users\\jarno\\AppData\\Local\\Programs\\Python\\Python310\\lib\\site-packages\\sklearn\\model_selection\\_search.py:822\u001b[0m, in \u001b[0;36mBaseSearchCV.fit.<locals>.evaluate_candidates\u001b[1;34m(candidate_params, cv, more_results)\u001b[0m\n\u001b[0;32m    814\u001b[0m \u001b[39mif\u001b[39;00m \u001b[39mself\u001b[39m\u001b[39m.\u001b[39mverbose \u001b[39m>\u001b[39m \u001b[39m0\u001b[39m:\n\u001b[0;32m    815\u001b[0m     \u001b[39mprint\u001b[39m(\n\u001b[0;32m    816\u001b[0m         \u001b[39m\"\u001b[39m\u001b[39mFitting \u001b[39m\u001b[39m{0}\u001b[39;00m\u001b[39m folds for each of \u001b[39m\u001b[39m{1}\u001b[39;00m\u001b[39m candidates,\u001b[39m\u001b[39m\"\u001b[39m\n\u001b[0;32m    817\u001b[0m         \u001b[39m\"\u001b[39m\u001b[39m totalling \u001b[39m\u001b[39m{2}\u001b[39;00m\u001b[39m fits\u001b[39m\u001b[39m\"\u001b[39m\u001b[39m.\u001b[39mformat(\n\u001b[0;32m    818\u001b[0m             n_splits, n_candidates, n_candidates \u001b[39m*\u001b[39m n_splits\n\u001b[0;32m    819\u001b[0m         )\n\u001b[0;32m    820\u001b[0m     )\n\u001b[1;32m--> 822\u001b[0m out \u001b[39m=\u001b[39m parallel(\n\u001b[0;32m    823\u001b[0m     delayed(_fit_and_score)(\n\u001b[0;32m    824\u001b[0m         clone(base_estimator),\n\u001b[0;32m    825\u001b[0m         X,\n\u001b[0;32m    826\u001b[0m         y,\n\u001b[0;32m    827\u001b[0m         train\u001b[39m=\u001b[39;49mtrain,\n\u001b[0;32m    828\u001b[0m         test\u001b[39m=\u001b[39;49mtest,\n\u001b[0;32m    829\u001b[0m         parameters\u001b[39m=\u001b[39;49mparameters,\n\u001b[0;32m    830\u001b[0m         split_progress\u001b[39m=\u001b[39;49m(split_idx, n_splits),\n\u001b[0;32m    831\u001b[0m         candidate_progress\u001b[39m=\u001b[39;49m(cand_idx, n_candidates),\n\u001b[0;32m    832\u001b[0m         \u001b[39m*\u001b[39;49m\u001b[39m*\u001b[39;49mfit_and_score_kwargs,\n\u001b[0;32m    833\u001b[0m     )\n\u001b[0;32m    834\u001b[0m     \u001b[39mfor\u001b[39;49;00m (cand_idx, parameters), (split_idx, (train, test)) \u001b[39min\u001b[39;49;00m product(\n\u001b[0;32m    835\u001b[0m         \u001b[39menumerate\u001b[39;49m(candidate_params), \u001b[39menumerate\u001b[39;49m(cv\u001b[39m.\u001b[39;49msplit(X, y, groups))\n\u001b[0;32m    836\u001b[0m     )\n\u001b[0;32m    837\u001b[0m )\n\u001b[0;32m    839\u001b[0m \u001b[39mif\u001b[39;00m \u001b[39mlen\u001b[39m(out) \u001b[39m<\u001b[39m \u001b[39m1\u001b[39m:\n\u001b[0;32m    840\u001b[0m     \u001b[39mraise\u001b[39;00m \u001b[39mValueError\u001b[39;00m(\n\u001b[0;32m    841\u001b[0m         \u001b[39m\"\u001b[39m\u001b[39mNo fits were performed. \u001b[39m\u001b[39m\"\u001b[39m\n\u001b[0;32m    842\u001b[0m         \u001b[39m\"\u001b[39m\u001b[39mWas the CV iterator empty? \u001b[39m\u001b[39m\"\u001b[39m\n\u001b[0;32m    843\u001b[0m         \u001b[39m\"\u001b[39m\u001b[39mWere there no candidates?\u001b[39m\u001b[39m\"\u001b[39m\n\u001b[0;32m    844\u001b[0m     )\n",
      "File \u001b[1;32mc:\\Users\\jarno\\AppData\\Local\\Programs\\Python\\Python310\\lib\\site-packages\\joblib\\parallel.py:1088\u001b[0m, in \u001b[0;36mParallel.__call__\u001b[1;34m(self, iterable)\u001b[0m\n\u001b[0;32m   1085\u001b[0m \u001b[39mif\u001b[39;00m \u001b[39mself\u001b[39m\u001b[39m.\u001b[39mdispatch_one_batch(iterator):\n\u001b[0;32m   1086\u001b[0m     \u001b[39mself\u001b[39m\u001b[39m.\u001b[39m_iterating \u001b[39m=\u001b[39m \u001b[39mself\u001b[39m\u001b[39m.\u001b[39m_original_iterator \u001b[39mis\u001b[39;00m \u001b[39mnot\u001b[39;00m \u001b[39mNone\u001b[39;00m\n\u001b[1;32m-> 1088\u001b[0m \u001b[39mwhile\u001b[39;00m \u001b[39mself\u001b[39;49m\u001b[39m.\u001b[39;49mdispatch_one_batch(iterator):\n\u001b[0;32m   1089\u001b[0m     \u001b[39mpass\u001b[39;00m\n\u001b[0;32m   1091\u001b[0m \u001b[39mif\u001b[39;00m pre_dispatch \u001b[39m==\u001b[39m \u001b[39m\"\u001b[39m\u001b[39mall\u001b[39m\u001b[39m\"\u001b[39m \u001b[39mor\u001b[39;00m n_jobs \u001b[39m==\u001b[39m \u001b[39m1\u001b[39m:\n\u001b[0;32m   1092\u001b[0m     \u001b[39m# The iterable was consumed all at once by the above for loop.\u001b[39;00m\n\u001b[0;32m   1093\u001b[0m     \u001b[39m# No need to wait for async callbacks to trigger to\u001b[39;00m\n\u001b[0;32m   1094\u001b[0m     \u001b[39m# consumption.\u001b[39;00m\n",
      "File \u001b[1;32mc:\\Users\\jarno\\AppData\\Local\\Programs\\Python\\Python310\\lib\\site-packages\\joblib\\parallel.py:901\u001b[0m, in \u001b[0;36mParallel.dispatch_one_batch\u001b[1;34m(self, iterator)\u001b[0m\n\u001b[0;32m    899\u001b[0m     \u001b[39mreturn\u001b[39;00m \u001b[39mFalse\u001b[39;00m\n\u001b[0;32m    900\u001b[0m \u001b[39melse\u001b[39;00m:\n\u001b[1;32m--> 901\u001b[0m     \u001b[39mself\u001b[39;49m\u001b[39m.\u001b[39;49m_dispatch(tasks)\n\u001b[0;32m    902\u001b[0m     \u001b[39mreturn\u001b[39;00m \u001b[39mTrue\u001b[39;00m\n",
      "File \u001b[1;32mc:\\Users\\jarno\\AppData\\Local\\Programs\\Python\\Python310\\lib\\site-packages\\joblib\\parallel.py:819\u001b[0m, in \u001b[0;36mParallel._dispatch\u001b[1;34m(self, batch)\u001b[0m\n\u001b[0;32m    817\u001b[0m \u001b[39mwith\u001b[39;00m \u001b[39mself\u001b[39m\u001b[39m.\u001b[39m_lock:\n\u001b[0;32m    818\u001b[0m     job_idx \u001b[39m=\u001b[39m \u001b[39mlen\u001b[39m(\u001b[39mself\u001b[39m\u001b[39m.\u001b[39m_jobs)\n\u001b[1;32m--> 819\u001b[0m     job \u001b[39m=\u001b[39m \u001b[39mself\u001b[39;49m\u001b[39m.\u001b[39;49m_backend\u001b[39m.\u001b[39;49mapply_async(batch, callback\u001b[39m=\u001b[39;49mcb)\n\u001b[0;32m    820\u001b[0m     \u001b[39m# A job can complete so quickly than its callback is\u001b[39;00m\n\u001b[0;32m    821\u001b[0m     \u001b[39m# called before we get here, causing self._jobs to\u001b[39;00m\n\u001b[0;32m    822\u001b[0m     \u001b[39m# grow. To ensure correct results ordering, .insert is\u001b[39;00m\n\u001b[0;32m    823\u001b[0m     \u001b[39m# used (rather than .append) in the following line\u001b[39;00m\n\u001b[0;32m    824\u001b[0m     \u001b[39mself\u001b[39m\u001b[39m.\u001b[39m_jobs\u001b[39m.\u001b[39minsert(job_idx, job)\n",
      "File \u001b[1;32mc:\\Users\\jarno\\AppData\\Local\\Programs\\Python\\Python310\\lib\\site-packages\\joblib\\_parallel_backends.py:208\u001b[0m, in \u001b[0;36mSequentialBackend.apply_async\u001b[1;34m(self, func, callback)\u001b[0m\n\u001b[0;32m    206\u001b[0m \u001b[39mdef\u001b[39;00m \u001b[39mapply_async\u001b[39m(\u001b[39mself\u001b[39m, func, callback\u001b[39m=\u001b[39m\u001b[39mNone\u001b[39;00m):\n\u001b[0;32m    207\u001b[0m     \u001b[39m\"\"\"Schedule a func to be run\"\"\"\u001b[39;00m\n\u001b[1;32m--> 208\u001b[0m     result \u001b[39m=\u001b[39m ImmediateResult(func)\n\u001b[0;32m    209\u001b[0m     \u001b[39mif\u001b[39;00m callback:\n\u001b[0;32m    210\u001b[0m         callback(result)\n",
      "File \u001b[1;32mc:\\Users\\jarno\\AppData\\Local\\Programs\\Python\\Python310\\lib\\site-packages\\joblib\\_parallel_backends.py:597\u001b[0m, in \u001b[0;36mImmediateResult.__init__\u001b[1;34m(self, batch)\u001b[0m\n\u001b[0;32m    594\u001b[0m \u001b[39mdef\u001b[39;00m \u001b[39m__init__\u001b[39m(\u001b[39mself\u001b[39m, batch):\n\u001b[0;32m    595\u001b[0m     \u001b[39m# Don't delay the application, to avoid keeping the input\u001b[39;00m\n\u001b[0;32m    596\u001b[0m     \u001b[39m# arguments in memory\u001b[39;00m\n\u001b[1;32m--> 597\u001b[0m     \u001b[39mself\u001b[39m\u001b[39m.\u001b[39mresults \u001b[39m=\u001b[39m batch()\n",
      "File \u001b[1;32mc:\\Users\\jarno\\AppData\\Local\\Programs\\Python\\Python310\\lib\\site-packages\\joblib\\parallel.py:288\u001b[0m, in \u001b[0;36mBatchedCalls.__call__\u001b[1;34m(self)\u001b[0m\n\u001b[0;32m    284\u001b[0m \u001b[39mdef\u001b[39;00m \u001b[39m__call__\u001b[39m(\u001b[39mself\u001b[39m):\n\u001b[0;32m    285\u001b[0m     \u001b[39m# Set the default nested backend to self._backend but do not set the\u001b[39;00m\n\u001b[0;32m    286\u001b[0m     \u001b[39m# change the default number of processes to -1\u001b[39;00m\n\u001b[0;32m    287\u001b[0m     \u001b[39mwith\u001b[39;00m parallel_backend(\u001b[39mself\u001b[39m\u001b[39m.\u001b[39m_backend, n_jobs\u001b[39m=\u001b[39m\u001b[39mself\u001b[39m\u001b[39m.\u001b[39m_n_jobs):\n\u001b[1;32m--> 288\u001b[0m         \u001b[39mreturn\u001b[39;00m [func(\u001b[39m*\u001b[39margs, \u001b[39m*\u001b[39m\u001b[39m*\u001b[39mkwargs)\n\u001b[0;32m    289\u001b[0m                 \u001b[39mfor\u001b[39;00m func, args, kwargs \u001b[39min\u001b[39;00m \u001b[39mself\u001b[39m\u001b[39m.\u001b[39mitems]\n",
      "File \u001b[1;32mc:\\Users\\jarno\\AppData\\Local\\Programs\\Python\\Python310\\lib\\site-packages\\joblib\\parallel.py:288\u001b[0m, in \u001b[0;36m<listcomp>\u001b[1;34m(.0)\u001b[0m\n\u001b[0;32m    284\u001b[0m \u001b[39mdef\u001b[39;00m \u001b[39m__call__\u001b[39m(\u001b[39mself\u001b[39m):\n\u001b[0;32m    285\u001b[0m     \u001b[39m# Set the default nested backend to self._backend but do not set the\u001b[39;00m\n\u001b[0;32m    286\u001b[0m     \u001b[39m# change the default number of processes to -1\u001b[39;00m\n\u001b[0;32m    287\u001b[0m     \u001b[39mwith\u001b[39;00m parallel_backend(\u001b[39mself\u001b[39m\u001b[39m.\u001b[39m_backend, n_jobs\u001b[39m=\u001b[39m\u001b[39mself\u001b[39m\u001b[39m.\u001b[39m_n_jobs):\n\u001b[1;32m--> 288\u001b[0m         \u001b[39mreturn\u001b[39;00m [func(\u001b[39m*\u001b[39margs, \u001b[39m*\u001b[39m\u001b[39m*\u001b[39mkwargs)\n\u001b[0;32m    289\u001b[0m                 \u001b[39mfor\u001b[39;00m func, args, kwargs \u001b[39min\u001b[39;00m \u001b[39mself\u001b[39m\u001b[39m.\u001b[39mitems]\n",
      "File \u001b[1;32mc:\\Users\\jarno\\AppData\\Local\\Programs\\Python\\Python310\\lib\\site-packages\\sklearn\\utils\\fixes.py:117\u001b[0m, in \u001b[0;36m_FuncWrapper.__call__\u001b[1;34m(self, *args, **kwargs)\u001b[0m\n\u001b[0;32m    115\u001b[0m \u001b[39mdef\u001b[39;00m \u001b[39m__call__\u001b[39m(\u001b[39mself\u001b[39m, \u001b[39m*\u001b[39margs, \u001b[39m*\u001b[39m\u001b[39m*\u001b[39mkwargs):\n\u001b[0;32m    116\u001b[0m     \u001b[39mwith\u001b[39;00m config_context(\u001b[39m*\u001b[39m\u001b[39m*\u001b[39m\u001b[39mself\u001b[39m\u001b[39m.\u001b[39mconfig):\n\u001b[1;32m--> 117\u001b[0m         \u001b[39mreturn\u001b[39;00m \u001b[39mself\u001b[39m\u001b[39m.\u001b[39mfunction(\u001b[39m*\u001b[39margs, \u001b[39m*\u001b[39m\u001b[39m*\u001b[39mkwargs)\n",
      "File \u001b[1;32mc:\\Users\\jarno\\AppData\\Local\\Programs\\Python\\Python310\\lib\\site-packages\\sklearn\\model_selection\\_validation.py:686\u001b[0m, in \u001b[0;36m_fit_and_score\u001b[1;34m(estimator, X, y, scorer, train, test, verbose, parameters, fit_params, return_train_score, return_parameters, return_n_test_samples, return_times, return_estimator, split_progress, candidate_progress, error_score)\u001b[0m\n\u001b[0;32m    684\u001b[0m         estimator\u001b[39m.\u001b[39mfit(X_train, \u001b[39m*\u001b[39m\u001b[39m*\u001b[39mfit_params)\n\u001b[0;32m    685\u001b[0m     \u001b[39melse\u001b[39;00m:\n\u001b[1;32m--> 686\u001b[0m         estimator\u001b[39m.\u001b[39mfit(X_train, y_train, \u001b[39m*\u001b[39m\u001b[39m*\u001b[39mfit_params)\n\u001b[0;32m    688\u001b[0m \u001b[39mexcept\u001b[39;00m \u001b[39mException\u001b[39;00m:\n\u001b[0;32m    689\u001b[0m     \u001b[39m# Note fit time as time until error\u001b[39;00m\n\u001b[0;32m    690\u001b[0m     fit_time \u001b[39m=\u001b[39m time\u001b[39m.\u001b[39mtime() \u001b[39m-\u001b[39m start_time\n",
      "File \u001b[1;32mc:\\Users\\jarno\\AppData\\Local\\Programs\\Python\\Python310\\lib\\site-packages\\sklearn\\svm\\_base.py:251\u001b[0m, in \u001b[0;36mBaseLibSVM.fit\u001b[1;34m(self, X, y, sample_weight)\u001b[0m\n\u001b[0;32m    248\u001b[0m     \u001b[39mprint\u001b[39m(\u001b[39m\"\u001b[39m\u001b[39m[LibSVM]\u001b[39m\u001b[39m\"\u001b[39m, end\u001b[39m=\u001b[39m\u001b[39m\"\u001b[39m\u001b[39m\"\u001b[39m)\n\u001b[0;32m    250\u001b[0m seed \u001b[39m=\u001b[39m rnd\u001b[39m.\u001b[39mrandint(np\u001b[39m.\u001b[39miinfo(\u001b[39m\"\u001b[39m\u001b[39mi\u001b[39m\u001b[39m\"\u001b[39m)\u001b[39m.\u001b[39mmax)\n\u001b[1;32m--> 251\u001b[0m fit(X, y, sample_weight, solver_type, kernel, random_seed\u001b[39m=\u001b[39;49mseed)\n\u001b[0;32m    252\u001b[0m \u001b[39m# see comment on the other call to np.iinfo in this file\u001b[39;00m\n\u001b[0;32m    254\u001b[0m \u001b[39mself\u001b[39m\u001b[39m.\u001b[39mshape_fit_ \u001b[39m=\u001b[39m X\u001b[39m.\u001b[39mshape \u001b[39mif\u001b[39;00m \u001b[39mhasattr\u001b[39m(X, \u001b[39m\"\u001b[39m\u001b[39mshape\u001b[39m\u001b[39m\"\u001b[39m) \u001b[39melse\u001b[39;00m (n_samples,)\n",
      "File \u001b[1;32mc:\\Users\\jarno\\AppData\\Local\\Programs\\Python\\Python310\\lib\\site-packages\\sklearn\\svm\\_base.py:333\u001b[0m, in \u001b[0;36mBaseLibSVM._dense_fit\u001b[1;34m(self, X, y, sample_weight, solver_type, kernel, random_seed)\u001b[0m\n\u001b[0;32m    319\u001b[0m libsvm\u001b[39m.\u001b[39mset_verbosity_wrap(\u001b[39mself\u001b[39m\u001b[39m.\u001b[39mverbose)\n\u001b[0;32m    321\u001b[0m \u001b[39m# we don't pass **self.get_params() to allow subclasses to\u001b[39;00m\n\u001b[0;32m    322\u001b[0m \u001b[39m# add other parameters to __init__\u001b[39;00m\n\u001b[0;32m    323\u001b[0m (\n\u001b[0;32m    324\u001b[0m     \u001b[39mself\u001b[39m\u001b[39m.\u001b[39msupport_,\n\u001b[0;32m    325\u001b[0m     \u001b[39mself\u001b[39m\u001b[39m.\u001b[39msupport_vectors_,\n\u001b[0;32m    326\u001b[0m     \u001b[39mself\u001b[39m\u001b[39m.\u001b[39m_n_support,\n\u001b[0;32m    327\u001b[0m     \u001b[39mself\u001b[39m\u001b[39m.\u001b[39mdual_coef_,\n\u001b[0;32m    328\u001b[0m     \u001b[39mself\u001b[39m\u001b[39m.\u001b[39mintercept_,\n\u001b[0;32m    329\u001b[0m     \u001b[39mself\u001b[39m\u001b[39m.\u001b[39m_probA,\n\u001b[0;32m    330\u001b[0m     \u001b[39mself\u001b[39m\u001b[39m.\u001b[39m_probB,\n\u001b[0;32m    331\u001b[0m     \u001b[39mself\u001b[39m\u001b[39m.\u001b[39mfit_status_,\n\u001b[0;32m    332\u001b[0m     \u001b[39mself\u001b[39m\u001b[39m.\u001b[39m_num_iter,\n\u001b[1;32m--> 333\u001b[0m ) \u001b[39m=\u001b[39m libsvm\u001b[39m.\u001b[39;49mfit(\n\u001b[0;32m    334\u001b[0m     X,\n\u001b[0;32m    335\u001b[0m     y,\n\u001b[0;32m    336\u001b[0m     svm_type\u001b[39m=\u001b[39;49msolver_type,\n\u001b[0;32m    337\u001b[0m     sample_weight\u001b[39m=\u001b[39;49msample_weight,\n\u001b[0;32m    338\u001b[0m     class_weight\u001b[39m=\u001b[39;49m\u001b[39mself\u001b[39;49m\u001b[39m.\u001b[39;49mclass_weight_,\n\u001b[0;32m    339\u001b[0m     kernel\u001b[39m=\u001b[39;49mkernel,\n\u001b[0;32m    340\u001b[0m     C\u001b[39m=\u001b[39;49m\u001b[39mself\u001b[39;49m\u001b[39m.\u001b[39;49mC,\n\u001b[0;32m    341\u001b[0m     nu\u001b[39m=\u001b[39;49m\u001b[39mself\u001b[39;49m\u001b[39m.\u001b[39;49mnu,\n\u001b[0;32m    342\u001b[0m     probability\u001b[39m=\u001b[39;49m\u001b[39mself\u001b[39;49m\u001b[39m.\u001b[39;49mprobability,\n\u001b[0;32m    343\u001b[0m     degree\u001b[39m=\u001b[39;49m\u001b[39mself\u001b[39;49m\u001b[39m.\u001b[39;49mdegree,\n\u001b[0;32m    344\u001b[0m     shrinking\u001b[39m=\u001b[39;49m\u001b[39mself\u001b[39;49m\u001b[39m.\u001b[39;49mshrinking,\n\u001b[0;32m    345\u001b[0m     tol\u001b[39m=\u001b[39;49m\u001b[39mself\u001b[39;49m\u001b[39m.\u001b[39;49mtol,\n\u001b[0;32m    346\u001b[0m     cache_size\u001b[39m=\u001b[39;49m\u001b[39mself\u001b[39;49m\u001b[39m.\u001b[39;49mcache_size,\n\u001b[0;32m    347\u001b[0m     coef0\u001b[39m=\u001b[39;49m\u001b[39mself\u001b[39;49m\u001b[39m.\u001b[39;49mcoef0,\n\u001b[0;32m    348\u001b[0m     gamma\u001b[39m=\u001b[39;49m\u001b[39mself\u001b[39;49m\u001b[39m.\u001b[39;49m_gamma,\n\u001b[0;32m    349\u001b[0m     epsilon\u001b[39m=\u001b[39;49m\u001b[39mself\u001b[39;49m\u001b[39m.\u001b[39;49mepsilon,\n\u001b[0;32m    350\u001b[0m     max_iter\u001b[39m=\u001b[39;49m\u001b[39mself\u001b[39;49m\u001b[39m.\u001b[39;49mmax_iter,\n\u001b[0;32m    351\u001b[0m     random_seed\u001b[39m=\u001b[39;49mrandom_seed,\n\u001b[0;32m    352\u001b[0m )\n\u001b[0;32m    354\u001b[0m \u001b[39mself\u001b[39m\u001b[39m.\u001b[39m_warn_from_fit_status()\n",
      "File \u001b[1;32msklearn\\svm\\_libsvm.pyx:237\u001b[0m, in \u001b[0;36msklearn.svm._libsvm.fit\u001b[1;34m()\u001b[0m\n",
      "\u001b[1;31mKeyboardInterrupt\u001b[0m: "
     ]
    }
   ],
   "source": [
    "\n",
    "\n",
    "# SVR (Support Vector Regression)\n",
    "from sklearn.svm import SVR\n",
    "print(\"------------- SVR --------------\")\n",
    "svr_regressor = SVR(kernel='rbf', gamma=\"scale\")\n",
    "parameters = {'C': [1, 10, 20], 'epsilon': [0.1, 0.01, 0.001, 0.0001]}\n",
    "svr_regressor = GridSearchCV(svr_regressor, parameters, scoring=\"neg_mean_squared_error\", cv=5)\n",
    "svr_regressor.fit(X_train, y_train)\n",
    "y_pred_svr = svr_regressor.predict(X_test)\n",
    "print(f\"Best parameters: {svr_regressor.best_params_}\")\n",
    "print(f\"Best score: {svr_regressor.best_score_}\")\n",
    "print(f\"MSE: {mean_squared_error(y_test, y_pred_svr)}\")\n",
    "\n",
    "\n",
    "\n",
    "# BayesianRidge\n",
    "from sklearn.linear_model import BayesianRidge\n",
    "print(\"------------- BayesianRidge --------------\")\n",
    "bayesian_regressor = BayesianRidge()\n",
    "parameters = {'alpha_1': [1e-06, 1e-05, 1e-04,  1, 10, 100], 'alpha_2': [1e-06, 1e-05, 1e-04,  1, 10, 100], 'lambda_1': [1e-06, 1e-05, 1e-04,  1, 10, 100], 'lambda_2': [1e-06, 1e-05, 1e-04,  1, 10, 100]}\n",
    "bayesian_regressor = GridSearchCV(bayesian_regressor, parameters, scoring=\"neg_mean_squared_error\", cv=5)\n",
    "bayesian_regressor.fit(X_train, y_train)\n",
    "y_pred_bay = bayesian_regressor.predict(X_test)\n",
    "print(f\"Best parameters: {bayesian_regressor.best_params_}\")\n",
    "print(f\"Best score: {bayesian_regressor.best_score_}\")\n",
    "print(f\"MSE: {mean_squared_error(y_test, y_pred_bay)}\")\n",
    "\n"
   ]
  },
  {
   "cell_type": "code",
   "execution_count": 78,
   "metadata": {},
   "outputs": [
    {
     "name": "stdout",
     "output_type": "stream",
     "text": [
      "------------- LassoLars --------------\n",
      "Best parameters: {'alpha': 0.1}\n",
      "Best score: -66.73229523206487\n",
      "MSE: 69.26397168897147\n"
     ]
    }
   ],
   "source": [
    "\n",
    "# LassoLars\n",
    "from sklearn.linear_model import LassoLars\n",
    "print(\"------------- LassoLars --------------\")\n",
    "lassolars_regressor = LassoLars()\n",
    "parameters = {'alpha': [0.1, 0.5, 1, 5, 10, 50, 100, 500, 1000]}\n",
    "lassolars_regressor = GridSearchCV(lassolars_regressor, parameters, scoring=\"neg_mean_squared_error\", cv=5)\n",
    "lassolars_regressor.fit(X_train, y_train)\n",
    "y_pred_lassolars = lassolars_regressor.predict(X_test)\n",
    "print(f\"Best parameters: {lassolars_regressor.best_params_}\")\n",
    "print(f\"Best score: {lassolars_regressor.best_score_}\")\n",
    "print(f\"MSE: {mean_squared_error(y_test, y_pred_lassolars)}\")"
   ]
  },
  {
   "cell_type": "code",
   "execution_count": 20,
   "metadata": {},
   "outputs": [
    {
     "name": "stdout",
     "output_type": "stream",
     "text": [
      "------------- ARDRegression --------------\n",
      "Best parameters: {'alpha_1': 100, 'alpha_2': 1e-06, 'lambda_1': 1e-06, 'lambda_2': 100}\n",
      "Best score: -239.77754245903506\n",
      "MSE: 257.4716380613389\n"
     ]
    }
   ],
   "source": [
    "# ARDRegression\n",
    "from sklearn.linear_model import ARDRegression\n",
    "print(\"------------- ARDRegression --------------\")\n",
    "ard_regressor = ARDRegression()\n",
    "parameters = {'alpha_1': [1e-06, 1e-05, 1e-04,  1, 10, 100], 'alpha_2': [1e-06, 1e-05, 1e-04,  1, 10, 100], 'lambda_1': [1e-06, 1e-05, 1e-04,  1, 10, 100], 'lambda_2': [1e-06, 1e-05, 1e-04,  1, 10, 100]}\n",
    "ard_regressor = GridSearchCV(ard_regressor, parameters, scoring=\"neg_mean_squared_error\", cv=5)\n",
    "ard_regressor.fit(X_train, y_train)\n",
    "y_pred_ard = ard_regressor.predict(X_test)\n",
    "print(f\"Best parameters: {ard_regressor.best_params_}\")\n",
    "print(f\"Best score: {ard_regressor.best_score_}\")\n",
    "print(f\"MSE: {mean_squared_error(y_test, y_pred_ard)}\")\n",
    "print(\"------------- ARDRegression --------------\")f\n"
   ]
  },
  {
   "cell_type": "code",
   "execution_count": 18,
   "metadata": {},
   "outputs": [
    {
     "name": "stdout",
     "output_type": "stream",
     "text": [
      "------------- PassiveAggressiveRegressor --------------\n",
      "Best parameters: {'C': 0.1, 'epsilon': 1}\n",
      "Best score: -0.0015840646966771455\n",
      "MSE: 0.0014411840660125688\n"
     ]
    }
   ],
   "source": [
    "\n",
    "# PassiveAggressiveRegressor\n",
    "from sklearn.linear_model import PassiveAggressiveRegressor\n",
    "print(\"------------- PassiveAggressiveRegressor --------------\")\n",
    "passive_regressor = PassiveAggressiveRegressor()\n",
    "parameters = {'C': [0.1, 0.5, 1, 5, 10, 50, 100, 500, 1000], 'epsilon': [0.1, 0.5, 1, 5, 10, 50, 100, 500, 1000]}\n",
    "passive_regressor = GridSearchCV(passive_regressor, parameters, scoring=\"neg_mean_squared_error\", cv=5)\n",
    "passive_regressor.fit(X_train, y_train)\n",
    "y_pred_pas = passive_regressor.predict(X_test)\n",
    "print(f\"Best parameters: {passive_regressor.best_params_}\")\n",
    "print(f\"Best score: {passive_regressor.best_score_}\")\n",
    "print(f\"MSE: {mean_squared_error(y_test, y_pred_pas)}\")\n"
   ]
  },
  {
   "cell_type": "code",
   "execution_count": 28,
   "metadata": {},
   "outputs": [
    {
     "name": "stdout",
     "output_type": "stream",
     "text": [
      "------------- TheilSenRegressor --------------\n",
      "Best parameters: {'max_subpopulation': 1000}\n",
      "Best score: -248.86399538690165\n",
      "MSE: 271.1236378199631\n"
     ]
    }
   ],
   "source": [
    "\n",
    "# TheilSenRegressor\n",
    "from sklearn.linear_model import TheilSenRegressor\n",
    "print(\"------------- TheilSenRegressor --------------\")\n",
    "theil_regressor = TheilSenRegressor()\n",
    "parameters = {'max_subpopulation': [100, 500, 1000, 5000]}\n",
    "theil_regressor = GridSearchCV(theil_regressor, parameters, scoring=\"neg_mean_squared_error\", cv=5)\n",
    "theil_regressor.fit(X_train, y_train)\n",
    "y_pred_seil = theil_regressor.predict(X_test)\n",
    "print(f\"Best parameters: {theil_regressor.best_params_}\")\n",
    "print(f\"Best score: {theil_regressor.best_score_}\")\n",
    "print(f\"MSE: {mean_squared_error(y_test, y_pred_seil)}\")\n",
    "\n"
   ]
  },
  {
   "cell_type": "code",
   "execution_count": 33,
   "metadata": {},
   "outputs": [
    {
     "name": "stdout",
     "output_type": "stream",
     "text": [
      "------------- RANSACRegressor --------------\n",
      "Best parameters: {'max_trials': 500, 'min_samples': 1000}\n",
      "Best score: -246.0978794101151\n",
      "MSE: 263.4648095046217\n"
     ]
    }
   ],
   "source": [
    "# RANSACRegressor\n",
    "from sklearn.linear_model import RANSACRegressor\n",
    "print(\"------------- RANSACRegressor --------------\")\n",
    "ransac_regressor = RANSACRegressor()\n",
    "parameters = {'min_samples': [1, 5, 10, 50, 100, 500, 1000], 'max_trials': [100, 500, 1000, 5000]}\n",
    "ransac_regressor = GridSearchCV(ransac_regressor, parameters, scoring=\"neg_mean_squared_error\", cv=5)\n",
    "ransac_regressor.fit(X_train, y_train)\n",
    "y_pred_ransac = ransac_regressor.predict(X_test)\n",
    "print(f\"Best parameters: {ransac_regressor.best_params_}\")\n",
    "print(f\"Best score: {ransac_regressor.best_score_}\")\n",
    "print(f\"MSE: {mean_squared_error(y_test, y_pred_ransac)}\")"
   ]
  },
  {
   "cell_type": "code",
   "execution_count": 32,
   "metadata": {},
   "outputs": [
    {
     "name": "stdout",
     "output_type": "stream",
     "text": [
      "------------- Ridge regression --------------\n",
      "Best parameters: {'alpha': 0.5}\n",
      "Best score: -239.77330520826112\n",
      "MSE: 257.4407573953995\n",
      "------------- Lasso regression --------------\n",
      "{'alpha': 0.1}\n",
      "-243.35376774547677\n",
      "MSE: 261.7385916220957\n"
     ]
    }
   ],
   "source": [
    "# ridge regression\n",
    "from sklearn.linear_model import Ridge\n",
    "print(\"------------- Ridge regression --------------\")\n",
    "ridge = Ridge()\n",
    "parameters = {'alpha': [0.1, 0.5, 1, 5, 10, 50, 100, 500, 1000]}\n",
    "ridge_regressor = GridSearchCV(ridge, parameters, scoring=\"neg_mean_squared_error\", cv=5)\n",
    "ridge_regressor.fit(X_train, y_train)\n",
    "y_pred_ridge = ridge_regressor.predict(X_test)\n",
    "print(f\"Best parameters: {ridge_regressor.best_params_}\")\n",
    "print(f\"Best score: {ridge_regressor.best_score_}\")\n",
    "print(f\"MSE: {mean_squared_error(y_test, y_pred_ridge)}\")\n",
    "\n",
    "# Lasso regression\n",
    "from sklearn.linear_model import Lasso\n",
    "print(\"------------- Lasso regression --------------\")\n",
    "lasso = Lasso()\n",
    "parameters = {'alpha': [0.1, 0.5, 1, 5, 10, 50, 100, 500, 1000]}\n",
    "lasso_regressor = GridSearchCV(lasso, parameters, scoring=\"neg_mean_squared_error\", cv=5)\n",
    "lasso_regressor.fit(X_train, y_train)\n",
    "print(lasso_regressor.best_params_)\n",
    "print(lasso_regressor.best_score_)\n",
    "y_pred_lasso = lasso_regressor.predict(X_test)\n",
    "print(f\"MSE: {mean_squared_error(y_test, y_pred_lasso)}\")\n"
   ]
  },
  {
   "cell_type": "code",
   "execution_count": 54,
   "metadata": {},
   "outputs": [
    {
     "name": "stdout",
     "output_type": "stream",
     "text": [
      "<class 'pandas.core.frame.DataFrame'>\n",
      "Int64Index: 11709 entries, 6257 to 7693\n",
      "Data columns (total 7 columns):\n",
      " #   Column                Non-Null Count  Dtype   \n",
      "---  ------                --------------  -----   \n",
      " 0   omzet                 11709 non-null  float64 \n",
      " 1   beursgenoteerd        11709 non-null  category\n",
      " 2   sector                11709 non-null  category\n",
      " 3   personeelsleden       11709 non-null  float64 \n",
      " 4   site_aanwezig         11709 non-null  category\n",
      " 5   pdf_aanwezig          11709 non-null  category\n",
      " 6   stedelijkheidsklasse  11709 non-null  category\n",
      "dtypes: category(5), float64(2)\n",
      "memory usage: 365.5 KB\n",
      "<class 'pandas.core.series.Series'>\n",
      "Int64Index: 11709 entries, 6257 to 7693\n",
      "Series name: score\n",
      "Non-Null Count  Dtype  \n",
      "--------------  -----  \n",
      "11709 non-null  float64\n",
      "dtypes: float64(1)\n",
      "memory usage: 183.0 KB\n"
     ]
    }
   ],
   "source": [
    "X_train.info()\n",
    "y_train.info()"
   ]
  },
  {
   "cell_type": "code",
   "execution_count": 48,
   "metadata": {},
   "outputs": [
    {
     "name": "stdout",
     "output_type": "stream",
     "text": [
      "------------- Random forest regression --------------\n",
      "MSE: 25.23357529423757\n",
      "MAE: 3.3185558628583043\n",
      "------------- Random forest regression with only omzet and personeelsleden --------------\n",
      "MSE: 25.658382128203\n",
      "MAE: 3.3500758243635795\n"
     ]
    }
   ],
   "source": [
    "from sklearn.metrics import mean_squared_error, mean_absolute_error\n",
    "\n",
    "# Random forest regression\n",
    "from sklearn.ensemble import RandomForestRegressor\n",
    "print(\"------------- Random forest regression --------------\")\n",
    "random_forest_regressor = RandomForestRegressor(n_estimators=200, max_depth=5)\n",
    "# parameters = {'n_estimators': [50, 100, 200, 500, 1000], 'max_depth': [2, 3, 5, 10, 15, 20, 30]}\n",
    "\n",
    "# random_forest_regressor = GridSearchCV(random_forest_regressor, parameters, scoring='neg_mean_squared_error', cv=5)\n",
    "random_forest_regressor.fit(X_train, y_train)\n",
    "# print(random_forest_regressor.best_params_)\n",
    "# print(random_forest_regressor.best_score_)\n",
    "y_pred_random = random_forest_regressor.predict(X_test)\n",
    "print(f\"MSE: {mean_squared_error(y_test, y_pred_random)}\")\n",
    "print(f\"MAE: {mean_absolute_error(y_test, y_pred_random)}\")\n",
    "\n",
    "filename = 'final_model.sav'\n",
    "pickle.dump(random_forest_regressor, open(f'ml_files\\\\{filename}', 'wb'))\n",
    "\n",
    "\n"
   ]
  },
  {
   "cell_type": "code",
   "execution_count": 96,
   "metadata": {},
   "outputs": [
    {
     "data": {
      "text/plain": [
       "array([3.51191143, 2.60878313, 4.93913229, ..., 3.56892299, 3.44716493,\n",
       "       6.48788698])"
      ]
     },
     "execution_count": 96,
     "metadata": {},
     "output_type": "execute_result"
    }
   ],
   "source": [
    "# get all the predictions\n",
    "y_pred_random"
   ]
  },
  {
   "cell_type": "code",
   "execution_count": 24,
   "metadata": {},
   "outputs": [
    {
     "data": {
      "text/plain": [
       "count    1301.000000\n",
       "mean       12.988336\n",
       "std        16.939520\n",
       "min         0.000000\n",
       "25%         3.168856\n",
       "50%         7.643152\n",
       "75%        14.766377\n",
       "max       162.098438\n",
       "Name: score, dtype: float64"
      ]
     },
     "execution_count": 24,
     "metadata": {},
     "output_type": "execute_result"
    }
   ],
   "source": [
    "y_test.describe()"
   ]
  },
  {
   "cell_type": "code",
   "execution_count": 33,
   "metadata": {},
   "outputs": [
    {
     "name": "stdout",
     "output_type": "stream",
     "text": [
      "------------- R2 scores --------------\n",
      "R2 score linear regression: 0.03136486267104133\n",
      "R2 score random forest regression: 0.044529532261978644\n"
     ]
    }
   ],
   "source": [
    "# R2 scores berekenen voor elk model\n",
    "from sklearn.metrics import r2_score\n",
    "print(\"------------- R2 scores --------------\")\n",
    "print(f\"R2 score linear regression: {r2_score(y_test, y_pred_lin_reg)}\")\n",
    "# print(f\"R2 score ridge regression: {r2_score(y_test, y_pred_ridge)}\")\n",
    "# print(f\"R2 score lasso regression: {r2_score(y_test, y_pred_lasso)}\")\n",
    "# print(f\"R2 score passive aggressive regression: {r2_score(y_test, y_pred_pas)}\")\n",
    "# print(f\"R2 score theil sen regression: {r2_score(y_test, y_pred_seil)}\")\n",
    "# print(f\"R2 score ransac regression: {r2_score(y_test, y_pred_ransac)}\")\n",
    "print(f\"R2 score random forest regression: {r2_score(y_test, y_pred_random)}\")\n"
   ]
  },
  {
   "cell_type": "code",
   "execution_count": 34,
   "metadata": {},
   "outputs": [
    {
     "name": "stdout",
     "output_type": "stream",
     "text": [
      "Feature ranking:\n",
      "1. feature 0 (0.617761)\n",
      "-> omzet\n",
      "2. feature 2 (0.153401)\n",
      "-> sector\n",
      "3. feature 3 (0.116494)\n",
      "-> personeelsleden\n",
      "4. feature 4 (0.083296)\n",
      "-> site_aanwezig\n",
      "5. feature 5 (0.016572)\n",
      "-> pdf_aanwezig\n",
      "6. feature 6 (0.012477)\n",
      "-> stedelijkheidsklasse\n",
      "7. feature 1 (0.000000)\n",
      "-> beursgenoteerd\n",
      "R2 score random forest regression: 0.044529532261978644\n"
     ]
    }
   ],
   "source": [
    "from sklearn.metrics import r2_score\n",
    "\n",
    "# print random forest feature importance\n",
    "importances = random_forest_regressor.feature_importances_\n",
    "std = np.std([tree.feature_importances_ for tree in random_forest_regressor.estimators_],\n",
    "                axis=0) \n",
    "indices = np.argsort(importances)[::-1]\n",
    "print(\"Feature ranking:\")\n",
    "for f in range(X_train.shape[1]):\n",
    "    print(\"%d. feature %d (%f)\" % (f + 1, indices[f], importances[indices[f]]))\n",
    "    print(f\"-> {X_train.columns[indices[f]]}\")\n",
    "\n",
    "\n",
    "print(f\"R2 score random forest regression: {r2_score(y_test, y_pred_random)}\")\n"
   ]
  },
  {
   "cell_type": "code",
   "execution_count": 36,
   "metadata": {},
   "outputs": [
    {
     "name": "stdout",
     "output_type": "stream",
     "text": [
      "------------- Mean score --------------\n",
      "Mean score: 4.340327623743811\n",
      "MSE: 26.351280359443056\n",
      "MAE: 3.4521001327028116\n",
      "R2 score: -0.0005422385866249435\n",
      "------------- Model that always predicts 2.4 --------------\n",
      "MSE: 33.73988673071171\n",
      "MAE: 3.089420910825263\n",
      "R2 score: -0.28108317086414814\n"
     ]
    }
   ],
   "source": [
    "# get score if model predicted the mean of the training set score\n",
    "from sklearn.metrics import mean_squared_error\n",
    "from sklearn.metrics import mean_absolute_error\n",
    "from sklearn.metrics import r2_score\n",
    "print(\"------------- Mean score --------------\")\n",
    "mean_score = np.mean(y_train)\n",
    "print(f\"Mean score: {mean_score}\")\n",
    "y_pred_mean = np.full(y_test.shape, mean_score)\n",
    "print(f\"MSE: {mean_squared_error(y_test, y_pred_mean)}\")\n",
    "print(f\"MAE: {mean_absolute_error(y_test, y_pred_mean)}\")\n",
    "print(f\"R2 score: {r2_score(y_test, y_pred_mean)}\")\n",
    "\n",
    "# Model that always predicts 2.4\n",
    "print(\"------------- Model that always predicts 2.4 --------------\")\n",
    "y_pred_24 = np.full(y_test.shape, 2.4)\n",
    "print(f\"MSE: {mean_squared_error(y_test, y_pred_24)}\")\n",
    "print(f\"MAE: {mean_absolute_error(y_test, y_pred_24)}\")\n",
    "print(f\"R2 score: {r2_score(y_test, y_pred_24)}\")\n",
    "\n"
   ]
  },
  {
   "cell_type": "code",
   "execution_count": null,
   "metadata": {},
   "outputs": [],
   "source": [
    "# saving the best model\n",
    "import pickle\n",
    "filename = 'final_model.sav'\n",
    "pickle.dump(random_forest_regressor, open(filename, 'wb'))\n",
    "\n",
    "# load the model from disk\n",
    "loaded_model = pickle.load(open(filename, 'rb'))\n",
    "result = loaded_model.score(X_test, y_test)\n",
    "\n",
    "# make a prediction\n",
    "new_data = X_test.iloc[0]\n",
    "print([new_data])\n",
    "print(loaded_model.predict([new_data]))\n",
    "new_data = [0.00438, 0, 375.0, 0, 0, 1]\n",
    "print(loaded_model.predict([new_data]))\n",
    "# shape to 2d array (1, 6)\n",
    "# loaded_model.predict(np.shape([[0.00438, False, 375.0, 0, 0, 1]], -1))\n"
   ]
  },
  {
   "cell_type": "code",
   "execution_count": null,
   "metadata": {},
   "outputs": [],
   "source": [
    "# visualise how randomforestregressor works\n",
    "from sklearn.tree import export_graphviz\n",
    "import pydot\n",
    "tree = random_forest_regressor.estimators_[5]\n",
    "export_graphviz(tree, out_file = 'tree.dot', feature_names = X_train.columns, rounded = True, precision = 1)\n",
    "(graph, ) = pydot.graph_from_dot_file('tree.dot')\n",
    "graph.write_png('tree.png')\n"
   ]
  }
 ],
 "metadata": {
  "kernelspec": {
   "display_name": "Python 3.10.5 64-bit",
   "language": "python",
   "name": "python3"
  },
  "language_info": {
   "codemirror_mode": {
    "name": "ipython",
    "version": 3
   },
   "file_extension": ".py",
   "mimetype": "text/x-python",
   "name": "python",
   "nbconvert_exporter": "python",
   "pygments_lexer": "ipython3",
   "version": "3.10.5"
  },
  "orig_nbformat": 4,
  "vscode": {
   "interpreter": {
    "hash": "ac961c8513c096ff1f8d2e1b60b85bf4af3ed3048501804ac46c5e57531d9fe0"
   }
  }
 },
 "nbformat": 4,
 "nbformat_minor": 2
}

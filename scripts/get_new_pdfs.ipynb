{
 "cells": [
  {
   "cell_type": "code",
   "execution_count": 2,
   "metadata": {},
   "outputs": [],
   "source": [
    "import pandas as pd\n",
    "import os \n",
    "import requests\n",
    "import threading\n",
    "\n",
    "\n",
    "excel_path = r\"C:\\Users\\jarno\\Downloads\\kmo's_Vlaanderen_2021.xlsx\"\n",
    "onedrive_path = r\"C:\\Users\\jarno\\OneDrive - Hogeschool Gent\\Data_engineering2\"\n",
    "nieuwe_onedrive_path = r\"C:\\Users\\jarno\\OneDrive - Hogeschool Gent\\Data_engineering2\\shared\"\n",
    "df = pd.read_excel(excel_path, sheet_name=\"Lijst\")\n",
    "\n"
   ]
  },
  {
   "cell_type": "code",
   "execution_count": null,
   "metadata": {},
   "outputs": [],
   "source": [
    "ondernemings_nummers = df[\"Ondernemingsnummer\"].tolist()\n",
    "ondernemings_nummers = [x.replace(\" \", \"\") for x in ondernemings_nummers]\n",
    "# ondernemings_nummers_in_onedrive = [x.split(\"_\")[1] for x in os.listdir(onedrive_path) if x != \"shared\"]\n",
    "ondernemings_nummers_in_onedrive_shared = [x.split(\"_\")[1] for x in os.listdir(nieuwe_onedrive_path)]\n",
    "\n",
    "shared_numbers = set(ondernemings_nummers).intersection(ondernemings_nummers_in_onedrive_shared)\n",
    "unique_numbers = set(ondernemings_nummers).difference(ondernemings_nummers_in_onedrive_shared)\n",
    "\n",
    "print(len(ondernemings_nummers))\n",
    "print(len(ondernemings_nummers_in_onedrive_shared))\n",
    "print(unique_numbers)\n"
   ]
  },
  {
   "cell_type": "code",
   "execution_count": null,
   "metadata": {},
   "outputs": [],
   "source": []
  },
  {
   "cell_type": "code",
   "execution_count": null,
   "metadata": {},
   "outputs": [],
   "source": [
    "# move all shared numbers to a new directory\n",
    "# ! niet meer runnen\n",
    "for file in os.listdir(onedrive_path):\n",
    "    if file.split(\"_\")[1] in shared_numbers:\n",
    "        os.rename(os.path.join(onedrive_path, file), os.path.join(onedrive_path, \"shared\", file))"
   ]
  },
  {
   "cell_type": "code",
   "execution_count": null,
   "metadata": {},
   "outputs": [],
   "source": [
    "websites = df[\"Web adres\"].tolist()\n",
    "websites = [x for x in websites if str(x) != \"nan\"]\n",
    "# write all websites to a txt file \n",
    "with open(\"websites.txt\", \"w\") as f:\n",
    "    for website in websites:\n",
    "        f.write(website + \"\\n\")\n",
    "\n",
    "websites = [\"http://\" + x if \"http://\" not in x else x for x in websites]\n",
    "\n",
    "def check_website(website):\n",
    "    try:\n",
    "        headers = {'User-Agent': 'Mozilla/5.0 (Windows NT 10.0; Win64; x64) AppleWebKit/537.36 (KHTML, like Gecko) Chrome/91.0.4472.124 Safari/537.36'}\n",
    "\n",
    "        response = requests.get(website, headers=headers)\n",
    "        print(response.status_code)\n",
    "        if response.status_code != 200:\n",
    "            with open(\"not_online.txt\", \"a\") as f:\n",
    "                f.write(response.status_code + \"  \" + website + \"\\n\")\n",
    "    except Exception as e:\n",
    "        with open(\"not_online.txt\", \"a\") as f:\n",
    "            f.write(website + \" \" + str(e) + \"\\n\")\n",
    "\n",
    "threads = []\n",
    "for website in websites:\n",
    "    t = threading.Thread(target=check_website, args=(website,))\n",
    "    threads.append(t)\n",
    "    t.start()\n",
    "    print(len([x for x in threads if x.is_alive()]))\n",
    "\n",
    "# 900 sites kon ik niet aan, main reason lijkt te zijn omdat we geredirect worden, dus mss programma schrijven dat redirects volgt en kijke hoeveel sites er dan nog zijn \n",
    "# Ook checke als http:// niet werkt, dan probeer ik https:// \n"
   ]
  },
  {
   "cell_type": "code",
   "execution_count": null,
   "metadata": {},
   "outputs": [],
   "source": [
    "\n",
    "with open(\"../data/links_using_adres.txt\", \"r\") as f:\n",
    "    data = f.read().split(\"\\n\")\n",
    "    nrs = [x.split(\":\")[1] for x in data]\n",
    "\n",
    "ondernemings_nummers\n"
   ]
  }
 ],
 "metadata": {
  "kernelspec": {
   "display_name": "Python 3.10.5 64-bit",
   "language": "python",
   "name": "python3"
  },
  "language_info": {
   "codemirror_mode": {
    "name": "ipython",
    "version": 3
   },
   "file_extension": ".py",
   "mimetype": "text/x-python",
   "name": "python",
   "nbconvert_exporter": "python",
   "pygments_lexer": "ipython3",
   "version": "3.10.5"
  },
  "orig_nbformat": 4,
  "vscode": {
   "interpreter": {
    "hash": "ac961c8513c096ff1f8d2e1b60b85bf4af3ed3048501804ac46c5e57531d9fe0"
   }
  }
 },
 "nbformat": 4,
 "nbformat_minor": 2
}

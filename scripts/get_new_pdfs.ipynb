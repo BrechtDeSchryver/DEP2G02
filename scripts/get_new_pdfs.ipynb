{
 "cells": [
  {
   "cell_type": "code",
   "execution_count": 52,
   "metadata": {},
   "outputs": [],
   "source": [
    "import pandas as pd\n",
    "import os \n",
    "import requests\n",
    "import threading\n",
    "\n",
    "\n",
    "excel_path = r\"C:\\Users\\jarno\\Downloads\\kmo's_Vlaanderen_2021.xlsx\"\n",
    "onedrive_path = r\"C:\\Users\\jarno\\OneDrive - Hogeschool Gent\\Data_engineering2\"\n",
    "df = pd.read_excel(excel_path, sheet_name=\"Lijst\")\n",
    "\n"
   ]
  },
  {
   "cell_type": "code",
   "execution_count": 32,
   "metadata": {},
   "outputs": [
    {
     "data": {
      "text/plain": [
       "6903"
      ]
     },
     "execution_count": 32,
     "metadata": {},
     "output_type": "execute_result"
    }
   ],
   "source": []
  },
  {
   "cell_type": "code",
   "execution_count": 45,
   "metadata": {},
   "outputs": [],
   "source": [
    "ondernemings_nummers = df[\"Ondernemingsnummer\"].tolist()\n",
    "ondernemings_nummers = [x.replace(\" \", \"\") for x in ondernemings_nummers]\n",
    "\n",
    "ondernemings_nummers_in_onedrive = [x.split(\"_\")[1] for x in os.listdir(onedrive_path)]\n",
    "\n",
    "shared_numbers = set(ondernemings_nummers).intersection(ondernemings_nummers_in_onedrive)\n",
    "\n"
   ]
  },
  {
   "cell_type": "code",
   "execution_count": null,
   "metadata": {},
   "outputs": [],
   "source": [
    "# move all shared numbers to a new directory\n",
    "# ! niet meer runnen\n",
    "for file in os.listdir(onedrive_path):\n",
    "    if file.split(\"_\")[1] in shared_numbers:\n",
    "        os.rename(os.path.join(onedrive_path, file), os.path.join(onedrive_path, \"shared\", file))"
   ]
  },
  {
   "cell_type": "code",
   "execution_count": null,
   "metadata": {},
   "outputs": [],
   "source": [
    "websites = df[\"Web adres\"].tolist()\n",
    "websites = [x for x in websites if str(x) != \"nan\"]\n",
    "websites = [\"http://\" + x if \"http://\" not in x else x for x in websites]\n",
    "\n",
    "def check_website(website):\n",
    "    try:\n",
    "        headers = {'User-Agent': 'Mozilla/5.0 (Windows NT 10.0; Win64; x64) AppleWebKit/537.36 (KHTML, like Gecko) Chrome/91.0.4472.124 Safari/537.36'}\n",
    "\n",
    "        response = requests.get(website, headers=headers)\n",
    "        print(response.status_code)\n",
    "        if response.status_code != 200:\n",
    "            with open(\"not_online.txt\", \"a\") as f:\n",
    "                f.write(response.status_code + \"  \" + website + \"\\n\")\n",
    "    except Exception as e:\n",
    "        with open(\"not_online.txt\", \"a\") as f:\n",
    "            f.write(website + \" \" + str(e) + \"\\n\")\n",
    "\n",
    "threads = []\n",
    "for website in websites:\n",
    "    t = threading.Thread(target=check_website, args=(website,))\n",
    "    threads.append(t)\n",
    "    t.start()\n",
    "    print(len([x for x in threads if x.is_alive()]))\n",
    "\n",
    "# 900 sites kon ik niet aan, main reason lijkt te zijn omdat we geredirect worden, dus mss programma schrijven dat redirects volgt en kijke hoeveel sites er dan nog zijn \n",
    "# Ook checke als http:// niet werkt, dan probeer ik https:// \n"
   ]
  }
 ],
 "metadata": {
  "kernelspec": {
   "display_name": "Python 3.10.5 64-bit",
   "language": "python",
   "name": "python3"
  },
  "language_info": {
   "codemirror_mode": {
    "name": "ipython",
    "version": 3
   },
   "file_extension": ".py",
   "mimetype": "text/x-python",
   "name": "python",
   "nbconvert_exporter": "python",
   "pygments_lexer": "ipython3",
   "version": "3.10.5"
  },
  "orig_nbformat": 4,
  "vscode": {
   "interpreter": {
    "hash": "ac961c8513c096ff1f8d2e1b60b85bf4af3ed3048501804ac46c5e57531d9fe0"
   }
  }
 },
 "nbformat": 4,
 "nbformat_minor": 2
}
